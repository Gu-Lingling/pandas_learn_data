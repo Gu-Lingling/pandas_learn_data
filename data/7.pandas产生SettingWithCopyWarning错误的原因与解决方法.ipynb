{
 "cells": [
  {
   "cell_type": "code",
   "execution_count": 1,
   "id": "6c9a4bf0-121b-4e3e-a38a-5f0141831e84",
   "metadata": {
    "collapsed": true,
    "jupyter": {
     "outputs_hidden": true
    }
   },
   "outputs": [
    {
     "data": {
      "text/html": [
       "<div>\n",
       "<style scoped>\n",
       "    .dataframe tbody tr th:only-of-type {\n",
       "        vertical-align: middle;\n",
       "    }\n",
       "\n",
       "    .dataframe tbody tr th {\n",
       "        vertical-align: top;\n",
       "    }\n",
       "\n",
       "    .dataframe thead th {\n",
       "        text-align: right;\n",
       "    }\n",
       "</style>\n",
       "<table border=\"1\" class=\"dataframe\">\n",
       "  <thead>\n",
       "    <tr style=\"text-align: right;\">\n",
       "      <th></th>\n",
       "      <th>日期</th>\n",
       "      <th>最高温</th>\n",
       "      <th>最低温</th>\n",
       "      <th>天气</th>\n",
       "      <th>风力风向</th>\n",
       "      <th>空气质量指数</th>\n",
       "    </tr>\n",
       "  </thead>\n",
       "  <tbody>\n",
       "    <tr>\n",
       "      <th>0</th>\n",
       "      <td>2011-01-01 周六</td>\n",
       "      <td>-2°</td>\n",
       "      <td>-7</td>\n",
       "      <td>多云~阴</td>\n",
       "      <td>无持续风向微风</td>\n",
       "      <td>NaN</td>\n",
       "    </tr>\n",
       "    <tr>\n",
       "      <th>1</th>\n",
       "      <td>2011-01-02 周日</td>\n",
       "      <td>-2°</td>\n",
       "      <td>-7°</td>\n",
       "      <td>多云</td>\n",
       "      <td>无持续风向微风</td>\n",
       "      <td>NaN</td>\n",
       "    </tr>\n",
       "    <tr>\n",
       "      <th>2</th>\n",
       "      <td>2011-01-03 周一</td>\n",
       "      <td>-2°</td>\n",
       "      <td>-6°</td>\n",
       "      <td>多云~阴</td>\n",
       "      <td>西北风~北风3-4级~4-5级</td>\n",
       "      <td>NaN</td>\n",
       "    </tr>\n",
       "    <tr>\n",
       "      <th>3</th>\n",
       "      <td>2011-01-04 周二</td>\n",
       "      <td>-2°</td>\n",
       "      <td>-9°</td>\n",
       "      <td>晴</td>\n",
       "      <td>北风5-6级</td>\n",
       "      <td>NaN</td>\n",
       "    </tr>\n",
       "    <tr>\n",
       "      <th>4</th>\n",
       "      <td>2011-01-05 周三</td>\n",
       "      <td>-2°</td>\n",
       "      <td>-10°</td>\n",
       "      <td>晴</td>\n",
       "      <td>北风~无持续风向3-4级~微风</td>\n",
       "      <td>NaN</td>\n",
       "    </tr>\n",
       "  </tbody>\n",
       "</table>\n",
       "</div>"
      ],
      "text/plain": [
       "              日期  最高温   最低温    天气             风力风向 空气质量指数\n",
       "0  2011-01-01 周六  -2°    -7  多云~阴          无持续风向微风    NaN\n",
       "1  2011-01-02 周日  -2°   -7°    多云          无持续风向微风    NaN\n",
       "2  2011-01-03 周一  -2°   -6°  多云~阴  西北风~北风3-4级~4-5级    NaN\n",
       "3  2011-01-04 周二  -2°   -9°     晴           北风5-6级    NaN\n",
       "4  2011-01-05 周三  -2°  -10°     晴  北风~无持续风向3-4级~微风    NaN"
      ]
     },
     "execution_count": 1,
     "metadata": {},
     "output_type": "execute_result"
    }
   ],
   "source": [
    "import pandas as pd\n",
    "df = \"C:/Users/THE KEY/Desktop/python_datum/pandas/data/weather/weather_beijing.xlsx\"\n",
    "wea = pd.read_excel(df)\n",
    "wea = pd.DataFrame(wea)\n",
    "wea.head()"
   ]
  },
  {
   "cell_type": "code",
   "execution_count": 2,
   "id": "1ac729e3-2aeb-4504-b479-06385240fe67",
   "metadata": {},
   "outputs": [],
   "source": [
    "wea.loc[:,'最高温'] = wea['最高温'].str.replace(\"°\",\"\").astype(int)\n",
    "wea.loc[:,'最低温'] = wea['最低温'].str.strip(\"°\")"
   ]
  },
  {
   "cell_type": "code",
   "execution_count": 11,
   "id": "99d94dc3-6354-4845-95d9-1a1aefdd7495",
   "metadata": {},
   "outputs": [],
   "source": [
    "# 找出特殊群体nan\n",
    "i = 0\n",
    "for x in wea['最低温']:\n",
    "    i += 1\n",
    "    if x == 'nan':\n",
    "        print(x)\n",
    "        print(i)\n",
    "#是 0 ，8 ，100，它们是nan，已改正\n",
    "\n",
    "# 改正方法\n",
    "wea.loc[[0],\"最低温\"] = '-7'\n",
    "wea.loc[[8],\"最低温\"] = '-9'\n",
    "wea.loc[[100],\"最低温\"] = '9'\n",
    "\n",
    "wea['最低温'][455]\n",
    "# 改正方法\n",
    "wea.loc[[455],\"最低温\"] = '0'"
   ]
  },
  {
   "cell_type": "code",
   "execution_count": 13,
   "id": "0496ce44-82d2-42ba-ad33-a62c67597690",
   "metadata": {},
   "outputs": [],
   "source": [
    "# 这样会不会可以了呢？ 可以！！！！那之前那几个代码文件的for循环可以不用执行了\n",
    "wea.loc[:,'最低温'] = wea['最低温'].astype(int)"
   ]
  },
  {
   "cell_type": "markdown",
   "id": "6e44cb8d-0181-4f6c-8452-180cf5e4e98d",
   "metadata": {},
   "source": [
    "### --------------------------------------------------------------"
   ]
  },
  {
   "cell_type": "markdown",
   "id": "9412621c-2771-419b-a999-af0537dd7b0a",
   "metadata": {},
   "source": [
    "### 复现问题"
   ]
  },
  {
   "cell_type": "code",
   "execution_count": 18,
   "id": "326dacb9-027b-417c-99b9-e9c2d80920c4",
   "metadata": {
    "scrolled": true
   },
   "outputs": [],
   "source": [
    "# 只选出18年3月份的分析\n",
    "condition = wea['日期'].str.startswith('2018-03')"
   ]
  },
  {
   "cell_type": "code",
   "execution_count": 29,
   "id": "02b30679-0f30-4112-9d5a-d4aa47714b35",
   "metadata": {},
   "outputs": [
    {
     "name": "stderr",
     "output_type": "stream",
     "text": [
      "C:\\Users\\THE KEY\\AppData\\Local\\Temp\\ipykernel_8692\\3566087602.py:1: SettingWithCopyWarning: \n",
      "A value is trying to be set on a copy of a slice from a DataFrame.\n",
      "Try using .loc[row_indexer,col_indexer] = value instead\n",
      "\n",
      "See the caveats in the documentation: https://pandas.pydata.org/pandas-docs/stable/user_guide/indexing.html#returning-a-view-versus-a-copy\n",
      "  wea[condition][\"温差\"] = wea[\"最高温\"] - wea['最低温']\n"
     ]
    }
   ],
   "source": [
    "wea[condition][\"温差\"] = wea[\"最高温\"] - wea['最低温']"
   ]
  },
  {
   "cell_type": "code",
   "execution_count": 30,
   "id": "c66dfece-f9d6-4bf8-b5eb-d8e049c45eb9",
   "metadata": {},
   "outputs": [
    {
     "data": {
      "text/html": [
       "<div>\n",
       "<style scoped>\n",
       "    .dataframe tbody tr th:only-of-type {\n",
       "        vertical-align: middle;\n",
       "    }\n",
       "\n",
       "    .dataframe tbody tr th {\n",
       "        vertical-align: top;\n",
       "    }\n",
       "\n",
       "    .dataframe thead th {\n",
       "        text-align: right;\n",
       "    }\n",
       "</style>\n",
       "<table border=\"1\" class=\"dataframe\">\n",
       "  <thead>\n",
       "    <tr style=\"text-align: right;\">\n",
       "      <th></th>\n",
       "      <th>日期</th>\n",
       "      <th>最高温</th>\n",
       "      <th>最低温</th>\n",
       "      <th>天气</th>\n",
       "      <th>风力风向</th>\n",
       "      <th>空气质量指数</th>\n",
       "    </tr>\n",
       "  </thead>\n",
       "  <tbody>\n",
       "    <tr>\n",
       "      <th>2604</th>\n",
       "      <td>2018-03-01 周四</td>\n",
       "      <td>8</td>\n",
       "      <td>-3</td>\n",
       "      <td>多云</td>\n",
       "      <td>西南风1-2级</td>\n",
       "      <td>46 优</td>\n",
       "    </tr>\n",
       "    <tr>\n",
       "      <th>2605</th>\n",
       "      <td>2018-03-02 周五</td>\n",
       "      <td>9</td>\n",
       "      <td>-1</td>\n",
       "      <td>晴~多云</td>\n",
       "      <td>北风1-2级</td>\n",
       "      <td>95 良</td>\n",
       "    </tr>\n",
       "    <tr>\n",
       "      <th>2606</th>\n",
       "      <td>2018-03-03 周六</td>\n",
       "      <td>13</td>\n",
       "      <td>3</td>\n",
       "      <td>多云~阴</td>\n",
       "      <td>北风1-2级</td>\n",
       "      <td>214 重度</td>\n",
       "    </tr>\n",
       "    <tr>\n",
       "      <th>2607</th>\n",
       "      <td>2018-03-04 周日</td>\n",
       "      <td>7</td>\n",
       "      <td>-2</td>\n",
       "      <td>阴~多云</td>\n",
       "      <td>东南风1-2级</td>\n",
       "      <td>144 轻度</td>\n",
       "    </tr>\n",
       "    <tr>\n",
       "      <th>2608</th>\n",
       "      <td>2018-03-05 周一</td>\n",
       "      <td>8</td>\n",
       "      <td>-3</td>\n",
       "      <td>晴</td>\n",
       "      <td>南风1-2级</td>\n",
       "      <td>94 良</td>\n",
       "    </tr>\n",
       "  </tbody>\n",
       "</table>\n",
       "</div>"
      ],
      "text/plain": [
       "                 日期 最高温 最低温    天气     风力风向  空气质量指数\n",
       "2604  2018-03-01 周四   8  -3    多云  西南风1-2级    46 优\n",
       "2605  2018-03-02 周五   9  -1  晴~多云   北风1-2级    95 良\n",
       "2606  2018-03-03 周六  13   3  多云~阴   北风1-2级  214 重度\n",
       "2607  2018-03-04 周日   7  -2  阴~多云  东南风1-2级  144 轻度\n",
       "2608  2018-03-05 周一   8  -3     晴   南风1-2级    94 良"
      ]
     },
     "execution_count": 30,
     "metadata": {},
     "output_type": "execute_result"
    }
   ],
   "source": [
    "wea[condition].head()"
   ]
  },
  {
   "cell_type": "markdown",
   "id": "f0966dee-edd0-4c98-89c1-9143e7283a24",
   "metadata": {},
   "source": [
    "### ----------------------------------------------------------"
   ]
  },
  {
   "cell_type": "markdown",
   "id": "6989919a-0e4b-4967-b056-7d8cef9d97c4",
   "metadata": {},
   "source": [
    "#####  原因是pandas不知道是返回view还是返回copy，所以这个链式操作有时会成功，有时会失败,因为上面代码是两步操作get+set"
   ]
  },
  {
   "cell_type": "markdown",
   "id": "2043c36d-3241-469c-8bd8-c16adb2b46d3",
   "metadata": {},
   "source": [
    "### ------------------------------------------------------------------"
   ]
  },
  {
   "cell_type": "code",
   "execution_count": 31,
   "id": "cd524db2-0de2-48f2-82b6-af768ce30998",
   "metadata": {},
   "outputs": [],
   "source": [
    "# 解决方式：改成一步操作\n",
    "wea.loc[condition,'温差'] = wea[\"最高温\"] - wea['最低温']"
   ]
  },
  {
   "cell_type": "code",
   "execution_count": 33,
   "id": "81773369-734e-4865-8b46-dd6755b25548",
   "metadata": {},
   "outputs": [
    {
     "data": {
      "text/html": [
       "<div>\n",
       "<style scoped>\n",
       "    .dataframe tbody tr th:only-of-type {\n",
       "        vertical-align: middle;\n",
       "    }\n",
       "\n",
       "    .dataframe tbody tr th {\n",
       "        vertical-align: top;\n",
       "    }\n",
       "\n",
       "    .dataframe thead th {\n",
       "        text-align: right;\n",
       "    }\n",
       "</style>\n",
       "<table border=\"1\" class=\"dataframe\">\n",
       "  <thead>\n",
       "    <tr style=\"text-align: right;\">\n",
       "      <th></th>\n",
       "      <th>日期</th>\n",
       "      <th>最高温</th>\n",
       "      <th>最低温</th>\n",
       "      <th>天气</th>\n",
       "      <th>风力风向</th>\n",
       "      <th>空气质量指数</th>\n",
       "      <th>温差</th>\n",
       "    </tr>\n",
       "  </thead>\n",
       "  <tbody>\n",
       "    <tr>\n",
       "      <th>2604</th>\n",
       "      <td>2018-03-01 周四</td>\n",
       "      <td>8</td>\n",
       "      <td>-3</td>\n",
       "      <td>多云</td>\n",
       "      <td>西南风1-2级</td>\n",
       "      <td>46 优</td>\n",
       "      <td>11</td>\n",
       "    </tr>\n",
       "    <tr>\n",
       "      <th>2605</th>\n",
       "      <td>2018-03-02 周五</td>\n",
       "      <td>9</td>\n",
       "      <td>-1</td>\n",
       "      <td>晴~多云</td>\n",
       "      <td>北风1-2级</td>\n",
       "      <td>95 良</td>\n",
       "      <td>10</td>\n",
       "    </tr>\n",
       "    <tr>\n",
       "      <th>2606</th>\n",
       "      <td>2018-03-03 周六</td>\n",
       "      <td>13</td>\n",
       "      <td>3</td>\n",
       "      <td>多云~阴</td>\n",
       "      <td>北风1-2级</td>\n",
       "      <td>214 重度</td>\n",
       "      <td>10</td>\n",
       "    </tr>\n",
       "    <tr>\n",
       "      <th>2607</th>\n",
       "      <td>2018-03-04 周日</td>\n",
       "      <td>7</td>\n",
       "      <td>-2</td>\n",
       "      <td>阴~多云</td>\n",
       "      <td>东南风1-2级</td>\n",
       "      <td>144 轻度</td>\n",
       "      <td>9</td>\n",
       "    </tr>\n",
       "    <tr>\n",
       "      <th>2608</th>\n",
       "      <td>2018-03-05 周一</td>\n",
       "      <td>8</td>\n",
       "      <td>-3</td>\n",
       "      <td>晴</td>\n",
       "      <td>南风1-2级</td>\n",
       "      <td>94 良</td>\n",
       "      <td>11</td>\n",
       "    </tr>\n",
       "  </tbody>\n",
       "</table>\n",
       "</div>"
      ],
      "text/plain": [
       "                 日期 最高温 最低温    天气     风力风向  空气质量指数  温差\n",
       "2604  2018-03-01 周四   8  -3    多云  西南风1-2级    46 优  11\n",
       "2605  2018-03-02 周五   9  -1  晴~多云   北风1-2级    95 良  10\n",
       "2606  2018-03-03 周六  13   3  多云~阴   北风1-2级  214 重度  10\n",
       "2607  2018-03-04 周日   7  -2  阴~多云  东南风1-2级  144 轻度   9\n",
       "2608  2018-03-05 周一   8  -3     晴   南风1-2级    94 良  11"
      ]
     },
     "execution_count": 33,
     "metadata": {},
     "output_type": "execute_result"
    }
   ],
   "source": [
    "wea[condition].head()"
   ]
  },
  {
   "cell_type": "markdown",
   "id": "00e69cc0-3e83-4636-a413-2ca442c05dae",
   "metadata": {},
   "source": [
    "#### 总结\n",
    "pandas不允许先筛选子dataframe，再进行写入修改\n",
    "\n",
    "要么使用.loc实现一个步骤直接修改源dataframe\n",
    "\n",
    "要么先复制一个子dataframe再一个步骤执行修改（.copy()）"
   ]
  },
  {
   "cell_type": "code",
   "execution_count": null,
   "id": "fec2ce82-ec51-4678-aa63-46df45efc533",
   "metadata": {},
   "outputs": [],
   "source": []
  }
 ],
 "metadata": {
  "kernelspec": {
   "display_name": "Python 3 (ipykernel)",
   "language": "python",
   "name": "python3"
  },
  "language_info": {
   "codemirror_mode": {
    "name": "ipython",
    "version": 3
   },
   "file_extension": ".py",
   "mimetype": "text/x-python",
   "name": "python",
   "nbconvert_exporter": "python",
   "pygments_lexer": "ipython3",
   "version": "3.12.7"
  }
 },
 "nbformat": 4,
 "nbformat_minor": 5
}
