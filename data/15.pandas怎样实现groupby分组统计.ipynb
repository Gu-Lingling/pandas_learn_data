{
 "cells": [
  {
   "cell_type": "code",
   "execution_count": 1,
   "id": "899f175b-6fb5-466c-822b-3aa9f3ec8354",
   "metadata": {
    "scrolled": true
   },
   "outputs": [],
   "source": [
    "import pandas as pd\n",
    "import numpy as np\n",
    "# 能展示图表,不好用\n",
    "# %matplotlib inline\n",
    "#from pyecharts.charts import Line"
   ]
  },
  {
   "cell_type": "code",
   "execution_count": 2,
   "id": "d2921662-daeb-45d2-ae2a-2fb06e1c9fc4",
   "metadata": {},
   "outputs": [
    {
     "data": {
      "text/html": [
       "<div>\n",
       "<style scoped>\n",
       "    .dataframe tbody tr th:only-of-type {\n",
       "        vertical-align: middle;\n",
       "    }\n",
       "\n",
       "    .dataframe tbody tr th {\n",
       "        vertical-align: top;\n",
       "    }\n",
       "\n",
       "    .dataframe thead th {\n",
       "        text-align: right;\n",
       "    }\n",
       "</style>\n",
       "<table border=\"1\" class=\"dataframe\">\n",
       "  <thead>\n",
       "    <tr style=\"text-align: right;\">\n",
       "      <th></th>\n",
       "      <th>A</th>\n",
       "      <th>B</th>\n",
       "      <th>C</th>\n",
       "      <th>D</th>\n",
       "    </tr>\n",
       "  </thead>\n",
       "  <tbody>\n",
       "    <tr>\n",
       "      <th>0</th>\n",
       "      <td>f</td>\n",
       "      <td>one</td>\n",
       "      <td>-0.247854</td>\n",
       "      <td>-0.542021</td>\n",
       "    </tr>\n",
       "    <tr>\n",
       "      <th>1</th>\n",
       "      <td>b</td>\n",
       "      <td>one</td>\n",
       "      <td>-0.315730</td>\n",
       "      <td>-0.854549</td>\n",
       "    </tr>\n",
       "    <tr>\n",
       "      <th>2</th>\n",
       "      <td>f</td>\n",
       "      <td>two</td>\n",
       "      <td>0.779105</td>\n",
       "      <td>0.966973</td>\n",
       "    </tr>\n",
       "    <tr>\n",
       "      <th>3</th>\n",
       "      <td>b</td>\n",
       "      <td>three</td>\n",
       "      <td>-1.334499</td>\n",
       "      <td>-2.536904</td>\n",
       "    </tr>\n",
       "    <tr>\n",
       "      <th>4</th>\n",
       "      <td>f</td>\n",
       "      <td>two</td>\n",
       "      <td>-0.777272</td>\n",
       "      <td>-0.724431</td>\n",
       "    </tr>\n",
       "    <tr>\n",
       "      <th>5</th>\n",
       "      <td>b</td>\n",
       "      <td>two</td>\n",
       "      <td>0.401475</td>\n",
       "      <td>-0.108743</td>\n",
       "    </tr>\n",
       "    <tr>\n",
       "      <th>6</th>\n",
       "      <td>f</td>\n",
       "      <td>one</td>\n",
       "      <td>1.213224</td>\n",
       "      <td>1.435186</td>\n",
       "    </tr>\n",
       "    <tr>\n",
       "      <th>7</th>\n",
       "      <td>f</td>\n",
       "      <td>three</td>\n",
       "      <td>1.207381</td>\n",
       "      <td>-1.437918</td>\n",
       "    </tr>\n",
       "  </tbody>\n",
       "</table>\n",
       "</div>"
      ],
      "text/plain": [
       "   A      B         C         D\n",
       "0  f    one -0.247854 -0.542021\n",
       "1  b    one -0.315730 -0.854549\n",
       "2  f    two  0.779105  0.966973\n",
       "3  b  three -1.334499 -2.536904\n",
       "4  f    two -0.777272 -0.724431\n",
       "5  b    two  0.401475 -0.108743\n",
       "6  f    one  1.213224  1.435186\n",
       "7  f  three  1.207381 -1.437918"
      ]
     },
     "execution_count": 2,
     "metadata": {},
     "output_type": "execute_result"
    }
   ],
   "source": [
    "df = pd.DataFrame({'A':['f','b','f','b','f','b','f','f'],\n",
    "                  'B':['one','one','two','three','two','two','one','three'],\n",
    "                  'C':np.random.randn(8),\n",
    "                  'D':np.random.randn(8)\n",
    "                  })\n",
    "df"
   ]
  },
  {
   "cell_type": "code",
   "execution_count": 3,
   "id": "4a647a7b-479f-4d4d-bc1f-4d8ff150a16a",
   "metadata": {},
   "outputs": [
    {
     "data": {
      "text/html": [
       "<div>\n",
       "<style scoped>\n",
       "    .dataframe tbody tr th:only-of-type {\n",
       "        vertical-align: middle;\n",
       "    }\n",
       "\n",
       "    .dataframe tbody tr th {\n",
       "        vertical-align: top;\n",
       "    }\n",
       "\n",
       "    .dataframe thead th {\n",
       "        text-align: right;\n",
       "    }\n",
       "</style>\n",
       "<table border=\"1\" class=\"dataframe\">\n",
       "  <thead>\n",
       "    <tr style=\"text-align: right;\">\n",
       "      <th></th>\n",
       "      <th>B</th>\n",
       "      <th>C</th>\n",
       "      <th>D</th>\n",
       "    </tr>\n",
       "    <tr>\n",
       "      <th>A</th>\n",
       "      <th></th>\n",
       "      <th></th>\n",
       "      <th></th>\n",
       "    </tr>\n",
       "  </thead>\n",
       "  <tbody>\n",
       "    <tr>\n",
       "      <th>b</th>\n",
       "      <td>onethreetwo</td>\n",
       "      <td>-1.248753</td>\n",
       "      <td>-3.500196</td>\n",
       "    </tr>\n",
       "    <tr>\n",
       "      <th>f</th>\n",
       "      <td>onetwotwoonethree</td>\n",
       "      <td>2.174584</td>\n",
       "      <td>-0.302211</td>\n",
       "    </tr>\n",
       "  </tbody>\n",
       "</table>\n",
       "</div>"
      ],
      "text/plain": [
       "                   B         C         D\n",
       "A                                       \n",
       "b        onethreetwo -1.248753 -3.500196\n",
       "f  onetwotwoonethree  2.174584 -0.302211"
      ]
     },
     "execution_count": 3,
     "metadata": {},
     "output_type": "execute_result"
    }
   ],
   "source": [
    "# 分组求和\n",
    "df.groupby('A').sum()"
   ]
  },
  {
   "cell_type": "code",
   "execution_count": 4,
   "id": "b80aad86-9071-41bd-8957-8a7dd23273cd",
   "metadata": {},
   "outputs": [
    {
     "data": {
      "text/html": [
       "<div>\n",
       "<style scoped>\n",
       "    .dataframe tbody tr th:only-of-type {\n",
       "        vertical-align: middle;\n",
       "    }\n",
       "\n",
       "    .dataframe tbody tr th {\n",
       "        vertical-align: top;\n",
       "    }\n",
       "\n",
       "    .dataframe thead th {\n",
       "        text-align: right;\n",
       "    }\n",
       "</style>\n",
       "<table border=\"1\" class=\"dataframe\">\n",
       "  <thead>\n",
       "    <tr style=\"text-align: right;\">\n",
       "      <th></th>\n",
       "      <th></th>\n",
       "      <th>C</th>\n",
       "      <th>D</th>\n",
       "    </tr>\n",
       "    <tr>\n",
       "      <th>A</th>\n",
       "      <th>B</th>\n",
       "      <th></th>\n",
       "      <th></th>\n",
       "    </tr>\n",
       "  </thead>\n",
       "  <tbody>\n",
       "    <tr>\n",
       "      <th rowspan=\"3\" valign=\"top\">b</th>\n",
       "      <th>one</th>\n",
       "      <td>-0.315730</td>\n",
       "      <td>-0.854549</td>\n",
       "    </tr>\n",
       "    <tr>\n",
       "      <th>three</th>\n",
       "      <td>-1.334499</td>\n",
       "      <td>-2.536904</td>\n",
       "    </tr>\n",
       "    <tr>\n",
       "      <th>two</th>\n",
       "      <td>0.401475</td>\n",
       "      <td>-0.108743</td>\n",
       "    </tr>\n",
       "    <tr>\n",
       "      <th rowspan=\"3\" valign=\"top\">f</th>\n",
       "      <th>one</th>\n",
       "      <td>0.482685</td>\n",
       "      <td>0.446583</td>\n",
       "    </tr>\n",
       "    <tr>\n",
       "      <th>three</th>\n",
       "      <td>1.207381</td>\n",
       "      <td>-1.437918</td>\n",
       "    </tr>\n",
       "    <tr>\n",
       "      <th>two</th>\n",
       "      <td>0.000917</td>\n",
       "      <td>0.121271</td>\n",
       "    </tr>\n",
       "  </tbody>\n",
       "</table>\n",
       "</div>"
      ],
      "text/plain": [
       "                C         D\n",
       "A B                        \n",
       "b one   -0.315730 -0.854549\n",
       "  three -1.334499 -2.536904\n",
       "  two    0.401475 -0.108743\n",
       "f one    0.482685  0.446583\n",
       "  three  1.207381 -1.437918\n",
       "  two    0.000917  0.121271"
      ]
     },
     "execution_count": 4,
     "metadata": {},
     "output_type": "execute_result"
    }
   ],
   "source": [
    "# 多个列的统计,A,B构成二级索引\n",
    "df.groupby(['A','B']).mean()"
   ]
  },
  {
   "cell_type": "code",
   "execution_count": 5,
   "id": "3a20efe2-1bb1-4195-952e-63e86307ccd6",
   "metadata": {},
   "outputs": [
    {
     "data": {
      "text/html": [
       "<div>\n",
       "<style scoped>\n",
       "    .dataframe tbody tr th:only-of-type {\n",
       "        vertical-align: middle;\n",
       "    }\n",
       "\n",
       "    .dataframe tbody tr th {\n",
       "        vertical-align: top;\n",
       "    }\n",
       "\n",
       "    .dataframe thead th {\n",
       "        text-align: right;\n",
       "    }\n",
       "</style>\n",
       "<table border=\"1\" class=\"dataframe\">\n",
       "  <thead>\n",
       "    <tr style=\"text-align: right;\">\n",
       "      <th></th>\n",
       "      <th>A</th>\n",
       "      <th>B</th>\n",
       "      <th>C</th>\n",
       "      <th>D</th>\n",
       "    </tr>\n",
       "  </thead>\n",
       "  <tbody>\n",
       "    <tr>\n",
       "      <th>0</th>\n",
       "      <td>b</td>\n",
       "      <td>one</td>\n",
       "      <td>-0.315730</td>\n",
       "      <td>-0.854549</td>\n",
       "    </tr>\n",
       "    <tr>\n",
       "      <th>1</th>\n",
       "      <td>b</td>\n",
       "      <td>three</td>\n",
       "      <td>-1.334499</td>\n",
       "      <td>-2.536904</td>\n",
       "    </tr>\n",
       "    <tr>\n",
       "      <th>2</th>\n",
       "      <td>b</td>\n",
       "      <td>two</td>\n",
       "      <td>0.401475</td>\n",
       "      <td>-0.108743</td>\n",
       "    </tr>\n",
       "    <tr>\n",
       "      <th>3</th>\n",
       "      <td>f</td>\n",
       "      <td>one</td>\n",
       "      <td>0.482685</td>\n",
       "      <td>0.446583</td>\n",
       "    </tr>\n",
       "    <tr>\n",
       "      <th>4</th>\n",
       "      <td>f</td>\n",
       "      <td>three</td>\n",
       "      <td>1.207381</td>\n",
       "      <td>-1.437918</td>\n",
       "    </tr>\n",
       "    <tr>\n",
       "      <th>5</th>\n",
       "      <td>f</td>\n",
       "      <td>two</td>\n",
       "      <td>0.000917</td>\n",
       "      <td>0.121271</td>\n",
       "    </tr>\n",
       "  </tbody>\n",
       "</table>\n",
       "</div>"
      ],
      "text/plain": [
       "   A      B         C         D\n",
       "0  b    one -0.315730 -0.854549\n",
       "1  b  three -1.334499 -2.536904\n",
       "2  b    two  0.401475 -0.108743\n",
       "3  f    one  0.482685  0.446583\n",
       "4  f  three  1.207381 -1.437918\n",
       "5  f    two  0.000917  0.121271"
      ]
     },
     "execution_count": 5,
     "metadata": {},
     "output_type": "execute_result"
    }
   ],
   "source": [
    "# 不让A,B变成索引\n",
    "df.groupby([\"A\",\"B\"], as_index = False).mean()"
   ]
  },
  {
   "cell_type": "code",
   "execution_count": 6,
   "id": "bc39e2f9-9c42-491b-990b-4164b4bf5cc9",
   "metadata": {
    "collapsed": true,
    "jupyter": {
     "outputs_hidden": true
    },
    "scrolled": true
   },
   "outputs": [
    {
     "name": "stderr",
     "output_type": "stream",
     "text": [
      "C:\\Users\\THE KEY\\AppData\\Local\\Temp\\ipykernel_13464\\3112930286.py:2: FutureWarning: The provided callable <function sum at 0x00000271DEE85940> is currently using SeriesGroupBy.sum. In a future version of pandas, the provided callable will be used directly. To keep current behavior pass the string \"sum\" instead.\n",
      "  df.groupby('A').agg({\"C\":[np.sum, np.mean, np.std]})\n",
      "C:\\Users\\THE KEY\\AppData\\Local\\Temp\\ipykernel_13464\\3112930286.py:2: FutureWarning: The provided callable <function mean at 0x00000271DEE86A20> is currently using SeriesGroupBy.mean. In a future version of pandas, the provided callable will be used directly. To keep current behavior pass the string \"mean\" instead.\n",
      "  df.groupby('A').agg({\"C\":[np.sum, np.mean, np.std]})\n",
      "C:\\Users\\THE KEY\\AppData\\Local\\Temp\\ipykernel_13464\\3112930286.py:2: FutureWarning: The provided callable <function std at 0x00000271DEE86B60> is currently using SeriesGroupBy.std. In a future version of pandas, the provided callable will be used directly. To keep current behavior pass the string \"std\" instead.\n",
      "  df.groupby('A').agg({\"C\":[np.sum, np.mean, np.std]})\n"
     ]
    },
    {
     "data": {
      "text/html": [
       "<div>\n",
       "<style scoped>\n",
       "    .dataframe tbody tr th:only-of-type {\n",
       "        vertical-align: middle;\n",
       "    }\n",
       "\n",
       "    .dataframe tbody tr th {\n",
       "        vertical-align: top;\n",
       "    }\n",
       "\n",
       "    .dataframe thead tr th {\n",
       "        text-align: left;\n",
       "    }\n",
       "\n",
       "    .dataframe thead tr:last-of-type th {\n",
       "        text-align: right;\n",
       "    }\n",
       "</style>\n",
       "<table border=\"1\" class=\"dataframe\">\n",
       "  <thead>\n",
       "    <tr>\n",
       "      <th></th>\n",
       "      <th colspan=\"3\" halign=\"left\">C</th>\n",
       "    </tr>\n",
       "    <tr>\n",
       "      <th></th>\n",
       "      <th>sum</th>\n",
       "      <th>mean</th>\n",
       "      <th>std</th>\n",
       "    </tr>\n",
       "    <tr>\n",
       "      <th>A</th>\n",
       "      <th></th>\n",
       "      <th></th>\n",
       "      <th></th>\n",
       "    </tr>\n",
       "  </thead>\n",
       "  <tbody>\n",
       "    <tr>\n",
       "      <th>b</th>\n",
       "      <td>-1.248753</td>\n",
       "      <td>-0.416251</td>\n",
       "      <td>0.872342</td>\n",
       "    </tr>\n",
       "    <tr>\n",
       "      <th>f</th>\n",
       "      <td>2.174584</td>\n",
       "      <td>0.434917</td>\n",
       "      <td>0.902289</td>\n",
       "    </tr>\n",
       "  </tbody>\n",
       "</table>\n",
       "</div>"
      ],
      "text/plain": [
       "          C                    \n",
       "        sum      mean       std\n",
       "A                              \n",
       "b -1.248753 -0.416251  0.872342\n",
       "f  2.174584  0.434917  0.902289"
      ]
     },
     "execution_count": 6,
     "metadata": {},
     "output_type": "execute_result"
    }
   ],
   "source": [
    "# 同时查看多种数据统计\n",
    "df.groupby('A').agg({\"C\":[np.sum, np.mean, np.std]})"
   ]
  },
  {
   "cell_type": "code",
   "execution_count": 7,
   "id": "ea10aa80-f1e8-4df4-aebd-c10b0fa8355c",
   "metadata": {
    "collapsed": true,
    "jupyter": {
     "outputs_hidden": true
    },
    "scrolled": true
   },
   "outputs": [
    {
     "name": "stderr",
     "output_type": "stream",
     "text": [
      "C:\\Users\\THE KEY\\AppData\\Local\\Temp\\ipykernel_13464\\1976062110.py:2: FutureWarning: The provided callable <function sum at 0x00000271DEE85940> is currently using SeriesGroupBy.sum. In a future version of pandas, the provided callable will be used directly. To keep current behavior pass the string \"sum\" instead.\n",
      "  df.groupby('A')[\"C\"].agg([np.sum,np.mean,np.std])\n",
      "C:\\Users\\THE KEY\\AppData\\Local\\Temp\\ipykernel_13464\\1976062110.py:2: FutureWarning: The provided callable <function mean at 0x00000271DEE86A20> is currently using SeriesGroupBy.mean. In a future version of pandas, the provided callable will be used directly. To keep current behavior pass the string \"mean\" instead.\n",
      "  df.groupby('A')[\"C\"].agg([np.sum,np.mean,np.std])\n",
      "C:\\Users\\THE KEY\\AppData\\Local\\Temp\\ipykernel_13464\\1976062110.py:2: FutureWarning: The provided callable <function std at 0x00000271DEE86B60> is currently using SeriesGroupBy.std. In a future version of pandas, the provided callable will be used directly. To keep current behavior pass the string \"std\" instead.\n",
      "  df.groupby('A')[\"C\"].agg([np.sum,np.mean,np.std])\n"
     ]
    },
    {
     "data": {
      "text/html": [
       "<div>\n",
       "<style scoped>\n",
       "    .dataframe tbody tr th:only-of-type {\n",
       "        vertical-align: middle;\n",
       "    }\n",
       "\n",
       "    .dataframe tbody tr th {\n",
       "        vertical-align: top;\n",
       "    }\n",
       "\n",
       "    .dataframe thead th {\n",
       "        text-align: right;\n",
       "    }\n",
       "</style>\n",
       "<table border=\"1\" class=\"dataframe\">\n",
       "  <thead>\n",
       "    <tr style=\"text-align: right;\">\n",
       "      <th></th>\n",
       "      <th>sum</th>\n",
       "      <th>mean</th>\n",
       "      <th>std</th>\n",
       "    </tr>\n",
       "    <tr>\n",
       "      <th>A</th>\n",
       "      <th></th>\n",
       "      <th></th>\n",
       "      <th></th>\n",
       "    </tr>\n",
       "  </thead>\n",
       "  <tbody>\n",
       "    <tr>\n",
       "      <th>b</th>\n",
       "      <td>-1.248753</td>\n",
       "      <td>-0.416251</td>\n",
       "      <td>0.872342</td>\n",
       "    </tr>\n",
       "    <tr>\n",
       "      <th>f</th>\n",
       "      <td>2.174584</td>\n",
       "      <td>0.434917</td>\n",
       "      <td>0.902289</td>\n",
       "    </tr>\n",
       "  </tbody>\n",
       "</table>\n",
       "</div>"
      ],
      "text/plain": [
       "        sum      mean       std\n",
       "A                              \n",
       "b -1.248753 -0.416251  0.872342\n",
       "f  2.174584  0.434917  0.902289"
      ]
     },
     "execution_count": 7,
     "metadata": {},
     "output_type": "execute_result"
    }
   ],
   "source": [
    "# 查看单列的统计\n",
    "df.groupby('A')[\"C\"].agg([np.sum,np.mean,np.std])"
   ]
  },
  {
   "cell_type": "code",
   "execution_count": 8,
   "id": "cf81da86-3370-4dda-9220-03098aed7369",
   "metadata": {
    "collapsed": true,
    "jupyter": {
     "outputs_hidden": true
    },
    "scrolled": true
   },
   "outputs": [
    {
     "name": "stderr",
     "output_type": "stream",
     "text": [
      "C:\\Users\\THE KEY\\AppData\\Local\\Temp\\ipykernel_13464\\653605253.py:2: FutureWarning: The provided callable <function mean at 0x00000271DEE86A20> is currently using SeriesGroupBy.mean. In a future version of pandas, the provided callable will be used directly. To keep current behavior pass the string \"mean\" instead.\n",
      "  df.groupby('A').agg({\"C\":np.mean,\"D\":np.sum})\n",
      "C:\\Users\\THE KEY\\AppData\\Local\\Temp\\ipykernel_13464\\653605253.py:2: FutureWarning: The provided callable <function sum at 0x00000271DEE85940> is currently using SeriesGroupBy.sum. In a future version of pandas, the provided callable will be used directly. To keep current behavior pass the string \"sum\" instead.\n",
      "  df.groupby('A').agg({\"C\":np.mean,\"D\":np.sum})\n"
     ]
    },
    {
     "data": {
      "text/html": [
       "<div>\n",
       "<style scoped>\n",
       "    .dataframe tbody tr th:only-of-type {\n",
       "        vertical-align: middle;\n",
       "    }\n",
       "\n",
       "    .dataframe tbody tr th {\n",
       "        vertical-align: top;\n",
       "    }\n",
       "\n",
       "    .dataframe thead th {\n",
       "        text-align: right;\n",
       "    }\n",
       "</style>\n",
       "<table border=\"1\" class=\"dataframe\">\n",
       "  <thead>\n",
       "    <tr style=\"text-align: right;\">\n",
       "      <th></th>\n",
       "      <th>C</th>\n",
       "      <th>D</th>\n",
       "    </tr>\n",
       "    <tr>\n",
       "      <th>A</th>\n",
       "      <th></th>\n",
       "      <th></th>\n",
       "    </tr>\n",
       "  </thead>\n",
       "  <tbody>\n",
       "    <tr>\n",
       "      <th>b</th>\n",
       "      <td>-0.416251</td>\n",
       "      <td>-3.500196</td>\n",
       "    </tr>\n",
       "    <tr>\n",
       "      <th>f</th>\n",
       "      <td>0.434917</td>\n",
       "      <td>-0.302211</td>\n",
       "    </tr>\n",
       "  </tbody>\n",
       "</table>\n",
       "</div>"
      ],
      "text/plain": [
       "          C         D\n",
       "A                    \n",
       "b -0.416251 -3.500196\n",
       "f  0.434917 -0.302211"
      ]
     },
     "execution_count": 8,
     "metadata": {},
     "output_type": "execute_result"
    }
   ],
   "source": [
    "# 不同列使用不同的聚合函数\n",
    "df.groupby('A').agg({\"C\":np.mean,\"D\":np.sum})"
   ]
  },
  {
   "cell_type": "markdown",
   "id": "d242f92b-0483-4eb5-a249-3e0a4e6f0baa",
   "metadata": {},
   "source": [
    "### -------------------------------------------------"
   ]
  },
  {
   "cell_type": "code",
   "execution_count": 9,
   "id": "55bdbb8e-e04d-42da-a44e-607d5b73f479",
   "metadata": {},
   "outputs": [
    {
     "data": {
      "text/plain": [
       "<pandas.core.groupby.generic.DataFrameGroupBy object at 0x00000271DF442600>"
      ]
     },
     "execution_count": 9,
     "metadata": {},
     "output_type": "execute_result"
    }
   ],
   "source": [
    "g = df.groupby('A')\n",
    "g"
   ]
  },
  {
   "cell_type": "code",
   "execution_count": 10,
   "id": "71f8c696-6b87-4d09-a258-365e4a18cbed",
   "metadata": {},
   "outputs": [
    {
     "name": "stdout",
     "output_type": "stream",
     "text": [
      "b\n",
      "   A      B         C         D\n",
      "1  b    one -0.315730 -0.854549\n",
      "3  b  three -1.334499 -2.536904\n",
      "5  b    two  0.401475 -0.108743\n",
      "\n",
      "f\n",
      "   A      B         C         D\n",
      "0  f    one -0.247854 -0.542021\n",
      "2  f    two  0.779105  0.966973\n",
      "4  f    two -0.777272 -0.724431\n",
      "6  f    one  1.213224  1.435186\n",
      "7  f  three  1.207381 -1.437918\n",
      "\n"
     ]
    }
   ],
   "source": [
    "for name,group in g:\n",
    "    print(name)\n",
    "    print(group)\n",
    "    print()"
   ]
  },
  {
   "cell_type": "code",
   "execution_count": 11,
   "id": "511fb5ab-5d20-4dbb-9a79-5986a16e69c9",
   "metadata": {},
   "outputs": [
    {
     "data": {
      "text/html": [
       "<div>\n",
       "<style scoped>\n",
       "    .dataframe tbody tr th:only-of-type {\n",
       "        vertical-align: middle;\n",
       "    }\n",
       "\n",
       "    .dataframe tbody tr th {\n",
       "        vertical-align: top;\n",
       "    }\n",
       "\n",
       "    .dataframe thead th {\n",
       "        text-align: right;\n",
       "    }\n",
       "</style>\n",
       "<table border=\"1\" class=\"dataframe\">\n",
       "  <thead>\n",
       "    <tr style=\"text-align: right;\">\n",
       "      <th></th>\n",
       "      <th>A</th>\n",
       "      <th>B</th>\n",
       "      <th>C</th>\n",
       "      <th>D</th>\n",
       "    </tr>\n",
       "  </thead>\n",
       "  <tbody>\n",
       "    <tr>\n",
       "      <th>1</th>\n",
       "      <td>b</td>\n",
       "      <td>one</td>\n",
       "      <td>-0.315730</td>\n",
       "      <td>-0.854549</td>\n",
       "    </tr>\n",
       "    <tr>\n",
       "      <th>3</th>\n",
       "      <td>b</td>\n",
       "      <td>three</td>\n",
       "      <td>-1.334499</td>\n",
       "      <td>-2.536904</td>\n",
       "    </tr>\n",
       "    <tr>\n",
       "      <th>5</th>\n",
       "      <td>b</td>\n",
       "      <td>two</td>\n",
       "      <td>0.401475</td>\n",
       "      <td>-0.108743</td>\n",
       "    </tr>\n",
       "  </tbody>\n",
       "</table>\n",
       "</div>"
      ],
      "text/plain": [
       "   A      B         C         D\n",
       "1  b    one -0.315730 -0.854549\n",
       "3  b  three -1.334499 -2.536904\n",
       "5  b    two  0.401475 -0.108743"
      ]
     },
     "execution_count": 11,
     "metadata": {},
     "output_type": "execute_result"
    }
   ],
   "source": [
    "# 获得单独分组的数据\n",
    "g.get_group('b')"
   ]
  },
  {
   "cell_type": "code",
   "execution_count": 12,
   "id": "2acfb8de-3e6a-4944-8e03-0b393e694e7f",
   "metadata": {},
   "outputs": [
    {
     "data": {
      "text/plain": [
       "<pandas.core.groupby.generic.DataFrameGroupBy object at 0x00000271DECA4C20>"
      ]
     },
     "execution_count": 12,
     "metadata": {},
     "output_type": "execute_result"
    }
   ],
   "source": [
    "g = df.groupby(['A','B'])\n",
    "g"
   ]
  },
  {
   "cell_type": "code",
   "execution_count": 13,
   "id": "b5305349-cb83-40cf-9cbf-2669f320dc81",
   "metadata": {},
   "outputs": [
    {
     "name": "stdout",
     "output_type": "stream",
     "text": [
      "('b', 'one')\n",
      "   A    B        C         D\n",
      "1  b  one -0.31573 -0.854549\n",
      "\n",
      "('b', 'three')\n",
      "   A      B         C         D\n",
      "3  b  three -1.334499 -2.536904\n",
      "\n",
      "('b', 'two')\n",
      "   A    B         C         D\n",
      "5  b  two  0.401475 -0.108743\n",
      "\n",
      "('f', 'one')\n",
      "   A    B         C         D\n",
      "0  f  one -0.247854 -0.542021\n",
      "6  f  one  1.213224  1.435186\n",
      "\n",
      "('f', 'three')\n",
      "   A      B         C         D\n",
      "7  f  three  1.207381 -1.437918\n",
      "\n",
      "('f', 'two')\n",
      "   A    B         C         D\n",
      "2  f  two  0.779105  0.966973\n",
      "4  f  two -0.777272 -0.724431\n",
      "\n"
     ]
    }
   ],
   "source": [
    "for name,group in g:\n",
    "    print(name)\n",
    "    print(group)\n",
    "    print()"
   ]
  },
  {
   "cell_type": "code",
   "execution_count": 14,
   "id": "b5eeb345-f020-4562-bb1c-d1c463920a7c",
   "metadata": {},
   "outputs": [
    {
     "data": {
      "text/html": [
       "<div>\n",
       "<style scoped>\n",
       "    .dataframe tbody tr th:only-of-type {\n",
       "        vertical-align: middle;\n",
       "    }\n",
       "\n",
       "    .dataframe tbody tr th {\n",
       "        vertical-align: top;\n",
       "    }\n",
       "\n",
       "    .dataframe thead th {\n",
       "        text-align: right;\n",
       "    }\n",
       "</style>\n",
       "<table border=\"1\" class=\"dataframe\">\n",
       "  <thead>\n",
       "    <tr style=\"text-align: right;\">\n",
       "      <th></th>\n",
       "      <th>A</th>\n",
       "      <th>B</th>\n",
       "      <th>C</th>\n",
       "      <th>D</th>\n",
       "    </tr>\n",
       "  </thead>\n",
       "  <tbody>\n",
       "    <tr>\n",
       "      <th>7</th>\n",
       "      <td>f</td>\n",
       "      <td>three</td>\n",
       "      <td>1.207381</td>\n",
       "      <td>-1.437918</td>\n",
       "    </tr>\n",
       "  </tbody>\n",
       "</table>\n",
       "</div>"
      ],
      "text/plain": [
       "   A      B         C         D\n",
       "7  f  three  1.207381 -1.437918"
      ]
     },
     "execution_count": 14,
     "metadata": {},
     "output_type": "execute_result"
    }
   ],
   "source": [
    "g.get_group(('f','three'))"
   ]
  },
  {
   "cell_type": "code",
   "execution_count": 15,
   "id": "33d46621-08bc-44d4-ad87-bb8e40e902fb",
   "metadata": {},
   "outputs": [
    {
     "data": {
      "text/plain": [
       "<pandas.core.groupby.generic.SeriesGroupBy object at 0x00000271DFCE1E20>"
      ]
     },
     "execution_count": 15,
     "metadata": {},
     "output_type": "execute_result"
    }
   ],
   "source": [
    "g[\"C\"]"
   ]
  },
  {
   "cell_type": "code",
   "execution_count": 16,
   "id": "3fc898b4-a1e0-4b96-afd7-e338e26692f7",
   "metadata": {},
   "outputs": [
    {
     "name": "stdout",
     "output_type": "stream",
     "text": [
      "('b', 'one')\n",
      "1   -0.31573\n",
      "Name: C, dtype: float64\n",
      "<class 'pandas.core.series.Series'>\n",
      "\n",
      "('b', 'three')\n",
      "3   -1.334499\n",
      "Name: C, dtype: float64\n",
      "<class 'pandas.core.series.Series'>\n",
      "\n",
      "('b', 'two')\n",
      "5    0.401475\n",
      "Name: C, dtype: float64\n",
      "<class 'pandas.core.series.Series'>\n",
      "\n",
      "('f', 'one')\n",
      "0   -0.247854\n",
      "6    1.213224\n",
      "Name: C, dtype: float64\n",
      "<class 'pandas.core.series.Series'>\n",
      "\n",
      "('f', 'three')\n",
      "7    1.207381\n",
      "Name: C, dtype: float64\n",
      "<class 'pandas.core.series.Series'>\n",
      "\n",
      "('f', 'two')\n",
      "2    0.779105\n",
      "4   -0.777272\n",
      "Name: C, dtype: float64\n",
      "<class 'pandas.core.series.Series'>\n",
      "\n"
     ]
    }
   ],
   "source": [
    "for name,group in g[\"C\"]:\n",
    "    print(name)\n",
    "    print(group)\n",
    "    print(type(group))\n",
    "    print()"
   ]
  },
  {
   "cell_type": "markdown",
   "id": "ea280069-d4da-4969-af5d-669d4a4b07a1",
   "metadata": {},
   "source": [
    "### ------------------------------------------------------------"
   ]
  },
  {
   "cell_type": "markdown",
   "id": "49c134f2-b9e3-46d3-a314-89cd4abbbf21",
   "metadata": {},
   "source": [
    "### 实例"
   ]
  },
  {
   "cell_type": "code",
   "execution_count": 17,
   "id": "f21e773e-b9e1-4ca9-bba4-f62d78523306",
   "metadata": {},
   "outputs": [
    {
     "data": {
      "text/html": [
       "<div>\n",
       "<style scoped>\n",
       "    .dataframe tbody tr th:only-of-type {\n",
       "        vertical-align: middle;\n",
       "    }\n",
       "\n",
       "    .dataframe tbody tr th {\n",
       "        vertical-align: top;\n",
       "    }\n",
       "\n",
       "    .dataframe thead th {\n",
       "        text-align: right;\n",
       "    }\n",
       "</style>\n",
       "<table border=\"1\" class=\"dataframe\">\n",
       "  <thead>\n",
       "    <tr style=\"text-align: right;\">\n",
       "      <th></th>\n",
       "      <th>日期</th>\n",
       "      <th>最高温</th>\n",
       "      <th>最低温</th>\n",
       "      <th>天气</th>\n",
       "      <th>风力风向</th>\n",
       "      <th>空气质量指数</th>\n",
       "    </tr>\n",
       "  </thead>\n",
       "  <tbody>\n",
       "    <tr>\n",
       "      <th>0</th>\n",
       "      <td>2011-01-01 周六</td>\n",
       "      <td>-2</td>\n",
       "      <td>-7</td>\n",
       "      <td>多云~阴</td>\n",
       "      <td>无持续风向微风</td>\n",
       "      <td>NaN</td>\n",
       "    </tr>\n",
       "    <tr>\n",
       "      <th>1</th>\n",
       "      <td>2011-01-02 周日</td>\n",
       "      <td>-2</td>\n",
       "      <td>-7</td>\n",
       "      <td>多云</td>\n",
       "      <td>无持续风向微风</td>\n",
       "      <td>NaN</td>\n",
       "    </tr>\n",
       "    <tr>\n",
       "      <th>2</th>\n",
       "      <td>2011-01-03 周一</td>\n",
       "      <td>-2</td>\n",
       "      <td>-6</td>\n",
       "      <td>多云~阴</td>\n",
       "      <td>西北风~北风3-4级~4-5级</td>\n",
       "      <td>NaN</td>\n",
       "    </tr>\n",
       "    <tr>\n",
       "      <th>3</th>\n",
       "      <td>2011-01-04 周二</td>\n",
       "      <td>-2</td>\n",
       "      <td>-9</td>\n",
       "      <td>晴</td>\n",
       "      <td>北风5-6级</td>\n",
       "      <td>NaN</td>\n",
       "    </tr>\n",
       "    <tr>\n",
       "      <th>4</th>\n",
       "      <td>2011-01-05 周三</td>\n",
       "      <td>-2</td>\n",
       "      <td>-10</td>\n",
       "      <td>晴</td>\n",
       "      <td>北风~无持续风向3-4级~微风</td>\n",
       "      <td>NaN</td>\n",
       "    </tr>\n",
       "  </tbody>\n",
       "</table>\n",
       "</div>"
      ],
      "text/plain": [
       "              日期 最高温  最低温    天气             风力风向 空气质量指数\n",
       "0  2011-01-01 周六  -2   -7  多云~阴          无持续风向微风    NaN\n",
       "1  2011-01-02 周日  -2   -7    多云          无持续风向微风    NaN\n",
       "2  2011-01-03 周一  -2   -6  多云~阴  西北风~北风3-4级~4-5级    NaN\n",
       "3  2011-01-04 周二  -2   -9     晴           北风5-6级    NaN\n",
       "4  2011-01-05 周三  -2  -10     晴  北风~无持续风向3-4级~微风    NaN"
      ]
     },
     "execution_count": 17,
     "metadata": {},
     "output_type": "execute_result"
    }
   ],
   "source": [
    "fpath = \"C:/Users/THE KEY/Desktop/python_datum/pandas/data/weather/weather_beijing.xlsx\"\n",
    "wea = pd.read_excel(fpath)\n",
    "wea.loc[:,'最高温'] = wea['最高温'].str.replace(\"°\",\"\").astype(int)\n",
    "wea.loc[:,'最低温'] = wea['最低温'].str.strip(\"°\")\n",
    "# 手动标注两个特殊值\n",
    "wea.loc[[0],\"最低温\"] = '-7'\n",
    "wea.loc[[455],\"最低温\"] = '0'\n",
    "wea.loc[:,'最低温'] = wea['最低温'].astype(int)\n",
    "wea.head()"
   ]
  },
  {
   "cell_type": "code",
   "execution_count": 18,
   "id": "07c3f1f7-9386-4b32-952f-f31c6312f7cc",
   "metadata": {},
   "outputs": [
    {
     "data": {
      "text/html": [
       "<div>\n",
       "<style scoped>\n",
       "    .dataframe tbody tr th:only-of-type {\n",
       "        vertical-align: middle;\n",
       "    }\n",
       "\n",
       "    .dataframe tbody tr th {\n",
       "        vertical-align: top;\n",
       "    }\n",
       "\n",
       "    .dataframe thead th {\n",
       "        text-align: right;\n",
       "    }\n",
       "</style>\n",
       "<table border=\"1\" class=\"dataframe\">\n",
       "  <thead>\n",
       "    <tr style=\"text-align: right;\">\n",
       "      <th></th>\n",
       "      <th>日期</th>\n",
       "      <th>最高温</th>\n",
       "      <th>最低温</th>\n",
       "      <th>天气</th>\n",
       "      <th>风力风向</th>\n",
       "      <th>空气质量指数</th>\n",
       "      <th>月份</th>\n",
       "    </tr>\n",
       "  </thead>\n",
       "  <tbody>\n",
       "    <tr>\n",
       "      <th>0</th>\n",
       "      <td>2011-01-01 周六</td>\n",
       "      <td>-2</td>\n",
       "      <td>-7</td>\n",
       "      <td>多云~阴</td>\n",
       "      <td>无持续风向微风</td>\n",
       "      <td>NaN</td>\n",
       "      <td>2011-01</td>\n",
       "    </tr>\n",
       "    <tr>\n",
       "      <th>1</th>\n",
       "      <td>2011-01-02 周日</td>\n",
       "      <td>-2</td>\n",
       "      <td>-7</td>\n",
       "      <td>多云</td>\n",
       "      <td>无持续风向微风</td>\n",
       "      <td>NaN</td>\n",
       "      <td>2011-01</td>\n",
       "    </tr>\n",
       "    <tr>\n",
       "      <th>2</th>\n",
       "      <td>2011-01-03 周一</td>\n",
       "      <td>-2</td>\n",
       "      <td>-6</td>\n",
       "      <td>多云~阴</td>\n",
       "      <td>西北风~北风3-4级~4-5级</td>\n",
       "      <td>NaN</td>\n",
       "      <td>2011-01</td>\n",
       "    </tr>\n",
       "    <tr>\n",
       "      <th>3</th>\n",
       "      <td>2011-01-04 周二</td>\n",
       "      <td>-2</td>\n",
       "      <td>-9</td>\n",
       "      <td>晴</td>\n",
       "      <td>北风5-6级</td>\n",
       "      <td>NaN</td>\n",
       "      <td>2011-01</td>\n",
       "    </tr>\n",
       "    <tr>\n",
       "      <th>4</th>\n",
       "      <td>2011-01-05 周三</td>\n",
       "      <td>-2</td>\n",
       "      <td>-10</td>\n",
       "      <td>晴</td>\n",
       "      <td>北风~无持续风向3-4级~微风</td>\n",
       "      <td>NaN</td>\n",
       "      <td>2011-01</td>\n",
       "    </tr>\n",
       "  </tbody>\n",
       "</table>\n",
       "</div>"
      ],
      "text/plain": [
       "              日期 最高温  最低温    天气             风力风向 空气质量指数       月份\n",
       "0  2011-01-01 周六  -2   -7  多云~阴          无持续风向微风    NaN  2011-01\n",
       "1  2011-01-02 周日  -2   -7    多云          无持续风向微风    NaN  2011-01\n",
       "2  2011-01-03 周一  -2   -6  多云~阴  西北风~北风3-4级~4-5级    NaN  2011-01\n",
       "3  2011-01-04 周二  -2   -9     晴           北风5-6级    NaN  2011-01\n",
       "4  2011-01-05 周三  -2  -10     晴  北风~无持续风向3-4级~微风    NaN  2011-01"
      ]
     },
     "execution_count": 18,
     "metadata": {},
     "output_type": "execute_result"
    }
   ],
   "source": [
    "wea[\"月份\"] = wea[\"日期\"].str[0:7]\n",
    "wea.head()"
   ]
  },
  {
   "cell_type": "code",
   "execution_count": 19,
   "id": "98afe028-baad-4bf7-a3f3-67b6881f99c5",
   "metadata": {},
   "outputs": [
    {
     "data": {
      "text/plain": [
       "pandas.core.series.Series"
      ]
     },
     "execution_count": 19,
     "metadata": {},
     "output_type": "execute_result"
    }
   ],
   "source": [
    "# 查看每个月最高温\n",
    "data = wea.groupby('月份')[\"最低温\"].min()\n",
    "data = data[0:12]\n",
    "type(data)"
   ]
  },
  {
   "cell_type": "code",
   "execution_count": 20,
   "id": "214041b1-5157-4b01-b14a-8848f9cbf2c4",
   "metadata": {
    "collapsed": true,
    "jupyter": {
     "outputs_hidden": true
    },
    "scrolled": true
   },
   "outputs": [
    {
     "data": {
      "text/plain": [
       "<Axes: xlabel='月份'>"
      ]
     },
     "execution_count": 20,
     "metadata": {},
     "output_type": "execute_result"
    },
    {
     "name": "stderr",
     "output_type": "stream",
     "text": [
      "D:\\Anaconda\\Lib\\site-packages\\IPython\\core\\events.py:82: UserWarning: Glyph 26376 (\\N{CJK UNIFIED IDEOGRAPH-6708}) missing from font(s) DejaVu Sans.\n",
      "  func(*args, **kwargs)\n",
      "D:\\Anaconda\\Lib\\site-packages\\IPython\\core\\events.py:82: UserWarning: Glyph 20221 (\\N{CJK UNIFIED IDEOGRAPH-4EFD}) missing from font(s) DejaVu Sans.\n",
      "  func(*args, **kwargs)\n",
      "D:\\Anaconda\\Lib\\site-packages\\IPython\\core\\pylabtools.py:170: UserWarning: Glyph 26376 (\\N{CJK UNIFIED IDEOGRAPH-6708}) missing from font(s) DejaVu Sans.\n",
      "  fig.canvas.print_figure(bytes_io, **kw)\n",
      "D:\\Anaconda\\Lib\\site-packages\\IPython\\core\\pylabtools.py:170: UserWarning: Glyph 20221 (\\N{CJK UNIFIED IDEOGRAPH-4EFD}) missing from font(s) DejaVu Sans.\n",
      "  fig.canvas.print_figure(bytes_io, **kw)\n"
     ]
    },
    {
     "data": {
      "image/png": "[encoded data removed]",
      "text/plain": [
       "<Figure size 640x480 with 1 Axes>"
      ]
     },
     "metadata": {},
     "output_type": "display_data"
    }
   ],
   "source": [
    "data.plot()"
   ]
  },
  {
   "cell_type": "code",
   "execution_count": 21,
   "id": "dbc035e0-114f-44f7-a552-d352470aaf43",
   "metadata": {
    "collapsed": true,
    "jupyter": {
     "outputs_hidden": true
    }
   },
   "outputs": [
    {
     "name": "stderr",
     "output_type": "stream",
     "text": [
      "C:\\Users\\THE KEY\\AppData\\Local\\Temp\\ipykernel_13464\\902455431.py:2: FutureWarning: The provided callable <function max at 0x00000271DEE86020> is currently using SeriesGroupBy.max. In a future version of pandas, the provided callable will be used directly. To keep current behavior pass the string \"max\" instead.\n",
      "  group_data = wea.groupby(\"月份\").agg({\"最高温\":np.max,\"最低温\":np.min})\n",
      "C:\\Users\\THE KEY\\AppData\\Local\\Temp\\ipykernel_13464\\902455431.py:2: FutureWarning: The provided callable <function min at 0x00000271DEE86160> is currently using SeriesGroupBy.min. In a future version of pandas, the provided callable will be used directly. To keep current behavior pass the string \"min\" instead.\n",
      "  group_data = wea.groupby(\"月份\").agg({\"最高温\":np.max,\"最低温\":np.min})\n"
     ]
    },
    {
     "data": {
      "text/html": [
       "<div>\n",
       "<style scoped>\n",
       "    .dataframe tbody tr th:only-of-type {\n",
       "        vertical-align: middle;\n",
       "    }\n",
       "\n",
       "    .dataframe tbody tr th {\n",
       "        vertical-align: top;\n",
       "    }\n",
       "\n",
       "    .dataframe thead th {\n",
       "        text-align: right;\n",
       "    }\n",
       "</style>\n",
       "<table border=\"1\" class=\"dataframe\">\n",
       "  <thead>\n",
       "    <tr style=\"text-align: right;\">\n",
       "      <th></th>\n",
       "      <th>最高温</th>\n",
       "      <th>最低温</th>\n",
       "    </tr>\n",
       "    <tr>\n",
       "      <th>月份</th>\n",
       "      <th></th>\n",
       "      <th></th>\n",
       "    </tr>\n",
       "  </thead>\n",
       "  <tbody>\n",
       "    <tr>\n",
       "      <th>2011-01</th>\n",
       "      <td>7</td>\n",
       "      <td>-10</td>\n",
       "    </tr>\n",
       "    <tr>\n",
       "      <th>2011-02</th>\n",
       "      <td>11</td>\n",
       "      <td>-10</td>\n",
       "    </tr>\n",
       "    <tr>\n",
       "      <th>2011-03</th>\n",
       "      <td>22</td>\n",
       "      <td>-4</td>\n",
       "    </tr>\n",
       "    <tr>\n",
       "      <th>2011-04</th>\n",
       "      <td>28</td>\n",
       "      <td>1</td>\n",
       "    </tr>\n",
       "    <tr>\n",
       "      <th>2011-05</th>\n",
       "      <td>33</td>\n",
       "      <td>11</td>\n",
       "    </tr>\n",
       "    <tr>\n",
       "      <th>2011-06</th>\n",
       "      <td>36</td>\n",
       "      <td>17</td>\n",
       "    </tr>\n",
       "    <tr>\n",
       "      <th>2011-07</th>\n",
       "      <td>35</td>\n",
       "      <td>20</td>\n",
       "    </tr>\n",
       "    <tr>\n",
       "      <th>2011-08</th>\n",
       "      <td>35</td>\n",
       "      <td>20</td>\n",
       "    </tr>\n",
       "    <tr>\n",
       "      <th>2011-09</th>\n",
       "      <td>30</td>\n",
       "      <td>10</td>\n",
       "    </tr>\n",
       "    <tr>\n",
       "      <th>2011-10</th>\n",
       "      <td>25</td>\n",
       "      <td>3</td>\n",
       "    </tr>\n",
       "    <tr>\n",
       "      <th>2011-11</th>\n",
       "      <td>16</td>\n",
       "      <td>-5</td>\n",
       "    </tr>\n",
       "    <tr>\n",
       "      <th>2011-12</th>\n",
       "      <td>8</td>\n",
       "      <td>-9</td>\n",
       "    </tr>\n",
       "  </tbody>\n",
       "</table>\n",
       "</div>"
      ],
      "text/plain": [
       "        最高温  最低温\n",
       "月份              \n",
       "2011-01   7  -10\n",
       "2011-02  11  -10\n",
       "2011-03  22   -4\n",
       "2011-04  28    1\n",
       "2011-05  33   11\n",
       "2011-06  36   17\n",
       "2011-07  35   20\n",
       "2011-08  35   20\n",
       "2011-09  30   10\n",
       "2011-10  25    3\n",
       "2011-11  16   -5\n",
       "2011-12   8   -9"
      ]
     },
     "execution_count": 21,
     "metadata": {},
     "output_type": "execute_result"
    }
   ],
   "source": [
    "# 多个数据统计\n",
    "group_data = wea.groupby(\"月份\").agg({\"最高温\":np.max,\"最低温\":np.min})\n",
    "group_data = group_data[0:12]\n",
    "group_data"
   ]
  },
  {
   "cell_type": "code",
   "execution_count": 22,
   "id": "2d898203-5ee3-4635-bef6-bf065b67908b",
   "metadata": {
    "collapsed": true,
    "jupyter": {
     "outputs_hidden": true
    },
    "scrolled": true
   },
   "outputs": [
    {
     "data": {
      "text/plain": [
       "<Axes: xlabel='月份'>"
      ]
     },
     "execution_count": 22,
     "metadata": {},
     "output_type": "execute_result"
    },
    {
     "name": "stderr",
     "output_type": "stream",
     "text": [
      "D:\\Anaconda\\Lib\\site-packages\\IPython\\core\\events.py:82: UserWarning: Glyph 26376 (\\N{CJK UNIFIED IDEOGRAPH-6708}) missing from font(s) DejaVu Sans.\n",
      "  func(*args, **kwargs)\n",
      "D:\\Anaconda\\Lib\\site-packages\\IPython\\core\\events.py:82: UserWarning: Glyph 20221 (\\N{CJK UNIFIED IDEOGRAPH-4EFD}) missing from font(s) DejaVu Sans.\n",
      "  func(*args, **kwargs)\n",
      "D:\\Anaconda\\Lib\\site-packages\\IPython\\core\\events.py:82: UserWarning: Glyph 26368 (\\N{CJK UNIFIED IDEOGRAPH-6700}) missing from font(s) DejaVu Sans.\n",
      "  func(*args, **kwargs)\n",
      "D:\\Anaconda\\Lib\\site-packages\\IPython\\core\\events.py:82: UserWarning: Glyph 39640 (\\N{CJK UNIFIED IDEOGRAPH-9AD8}) missing from font(s) DejaVu Sans.\n",
      "  func(*args, **kwargs)\n",
      "D:\\Anaconda\\Lib\\site-packages\\IPython\\core\\events.py:82: UserWarning: Glyph 28201 (\\N{CJK UNIFIED IDEOGRAPH-6E29}) missing from font(s) DejaVu Sans.\n",
      "  func(*args, **kwargs)\n",
      "D:\\Anaconda\\Lib\\site-packages\\IPython\\core\\events.py:82: UserWarning: Glyph 20302 (\\N{CJK UNIFIED IDEOGRAPH-4F4E}) missing from font(s) DejaVu Sans.\n",
      "  func(*args, **kwargs)\n",
      "D:\\Anaconda\\Lib\\site-packages\\IPython\\core\\pylabtools.py:170: UserWarning: Glyph 26376 (\\N{CJK UNIFIED IDEOGRAPH-6708}) missing from font(s) DejaVu Sans.\n",
      "  fig.canvas.print_figure(bytes_io, **kw)\n",
      "D:\\Anaconda\\Lib\\site-packages\\IPython\\core\\pylabtools.py:170: UserWarning: Glyph 20221 (\\N{CJK UNIFIED IDEOGRAPH-4EFD}) missing from font(s) DejaVu Sans.\n",
      "  fig.canvas.print_figure(bytes_io, **kw)\n",
      "D:\\Anaconda\\Lib\\site-packages\\IPython\\core\\pylabtools.py:170: UserWarning: Glyph 26368 (\\N{CJK UNIFIED IDEOGRAPH-6700}) missing from font(s) DejaVu Sans.\n",
      "  fig.canvas.print_figure(bytes_io, **kw)\n",
      "D:\\Anaconda\\Lib\\site-packages\\IPython\\core\\pylabtools.py:170: UserWarning: Glyph 39640 (\\N{CJK UNIFIED IDEOGRAPH-9AD8}) missing from font(s) DejaVu Sans.\n",
      "  fig.canvas.print_figure(bytes_io, **kw)\n",
      "D:\\Anaconda\\Lib\\site-packages\\IPython\\core\\pylabtools.py:170: UserWarning: Glyph 28201 (\\N{CJK UNIFIED IDEOGRAPH-6E29}) missing from font(s) DejaVu Sans.\n",
      "  fig.canvas.print_figure(bytes_io, **kw)\n",
      "D:\\Anaconda\\Lib\\site-packages\\IPython\\core\\pylabtools.py:170: UserWarning: Glyph 20302 (\\N{CJK UNIFIED IDEOGRAPH-4F4E}) missing from font(s) DejaVu Sans.\n",
      "  fig.canvas.print_figure(bytes_io, **kw)\n"
     ]
    },
    {
     "data": {
      "image/png": "[encoded data removed]",
      "text/plain": [
       "<Figure size 640x480 with 1 Axes>"
      ]
     },
     "metadata": {},
     "output_type": "display_data"
    }
   ],
   "source": [
    "group_data.plot()"
   ]
  },
  {
   "cell_type": "code",
   "execution_count": null,
   "id": "25c02e7a-7032-43db-852a-3e38651bb184",
   "metadata": {},
   "outputs": [],
   "source": []
  }
 ],
 "metadata": {
  "kernelspec": {
   "display_name": "Python 3 (ipykernel)",
   "language": "python",
   "name": "python3"
  },
  "language_info": {
   "codemirror_mode": {
    "name": "ipython",
    "version": 3
   },
   "file_extension": ".py",
   "mimetype": "text/x-python",
   "name": "python",
   "nbconvert_exporter": "python",
   "pygments_lexer": "ipython3",
   "version": "3.12.7"
  }
 },
 "nbformat": 4,
 "nbformat_minor": 5
}
