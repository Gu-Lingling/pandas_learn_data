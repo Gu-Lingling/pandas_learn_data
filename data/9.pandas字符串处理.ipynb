{
 "cells": [
  {
   "cell_type": "markdown",
   "id": "48ef4f08-ae51-4ff9-afe6-f56e0775e439",
   "metadata": {},
   "source": [
    "### 1.读取数据"
   ]
  },
  {
   "cell_type": "code",
   "execution_count": 1,
   "id": "c49de8eb-0ce5-4004-8dc8-dc8a929713f6",
   "metadata": {},
   "outputs": [],
   "source": [
    "import pandas as pd"
   ]
  },
  {
   "cell_type": "code",
   "execution_count": 2,
   "id": "7303aac1-adad-44f1-8909-4492f6e05e5d",
   "metadata": {},
   "outputs": [],
   "source": [
    "fpath = \"C:/Users/THE KEY/Desktop/python_datum/pandas/data/weather/weather_beijing.xlsx\""
   ]
  },
  {
   "cell_type": "code",
   "execution_count": 3,
   "id": "6175b55a-1961-46fb-99b8-369a9a941e56",
   "metadata": {},
   "outputs": [],
   "source": [
    "wea = pd.read_excel(fpath)"
   ]
  },
  {
   "cell_type": "code",
   "execution_count": 4,
   "id": "e8bae366-159e-40b3-81f9-990bd5bd7f35",
   "metadata": {},
   "outputs": [
    {
     "data": {
      "text/plain": [
       "日期        object\n",
       "最高温       object\n",
       "最低温       object\n",
       "天气        object\n",
       "风力风向      object\n",
       "空气质量指数    object\n",
       "dtype: object"
      ]
     },
     "execution_count": 4,
     "metadata": {},
     "output_type": "execute_result"
    }
   ],
   "source": [
    "wea.dtypes"
   ]
  },
  {
   "cell_type": "code",
   "execution_count": 5,
   "id": "261073ec-47b6-4a5b-b996-7d6ce2527e60",
   "metadata": {},
   "outputs": [
    {
     "data": {
      "text/html": [
       "<div>\n",
       "<style scoped>\n",
       "    .dataframe tbody tr th:only-of-type {\n",
       "        vertical-align: middle;\n",
       "    }\n",
       "\n",
       "    .dataframe tbody tr th {\n",
       "        vertical-align: top;\n",
       "    }\n",
       "\n",
       "    .dataframe thead th {\n",
       "        text-align: right;\n",
       "    }\n",
       "</style>\n",
       "<table border=\"1\" class=\"dataframe\">\n",
       "  <thead>\n",
       "    <tr style=\"text-align: right;\">\n",
       "      <th></th>\n",
       "      <th>日期</th>\n",
       "      <th>最高温</th>\n",
       "      <th>最低温</th>\n",
       "      <th>天气</th>\n",
       "      <th>风力风向</th>\n",
       "      <th>空气质量指数</th>\n",
       "    </tr>\n",
       "  </thead>\n",
       "  <tbody>\n",
       "    <tr>\n",
       "      <th>0</th>\n",
       "      <td>2011-01-01 周六</td>\n",
       "      <td>-2°</td>\n",
       "      <td>-7</td>\n",
       "      <td>多云~阴</td>\n",
       "      <td>无持续风向微风</td>\n",
       "      <td>NaN</td>\n",
       "    </tr>\n",
       "    <tr>\n",
       "      <th>1</th>\n",
       "      <td>2011-01-02 周日</td>\n",
       "      <td>-2°</td>\n",
       "      <td>-7°</td>\n",
       "      <td>多云</td>\n",
       "      <td>无持续风向微风</td>\n",
       "      <td>NaN</td>\n",
       "    </tr>\n",
       "    <tr>\n",
       "      <th>2</th>\n",
       "      <td>2011-01-03 周一</td>\n",
       "      <td>-2°</td>\n",
       "      <td>-6°</td>\n",
       "      <td>多云~阴</td>\n",
       "      <td>西北风~北风3-4级~4-5级</td>\n",
       "      <td>NaN</td>\n",
       "    </tr>\n",
       "    <tr>\n",
       "      <th>3</th>\n",
       "      <td>2011-01-04 周二</td>\n",
       "      <td>-2°</td>\n",
       "      <td>-9°</td>\n",
       "      <td>晴</td>\n",
       "      <td>北风5-6级</td>\n",
       "      <td>NaN</td>\n",
       "    </tr>\n",
       "    <tr>\n",
       "      <th>4</th>\n",
       "      <td>2011-01-05 周三</td>\n",
       "      <td>-2°</td>\n",
       "      <td>-10°</td>\n",
       "      <td>晴</td>\n",
       "      <td>北风~无持续风向3-4级~微风</td>\n",
       "      <td>NaN</td>\n",
       "    </tr>\n",
       "  </tbody>\n",
       "</table>\n",
       "</div>"
      ],
      "text/plain": [
       "              日期  最高温   最低温    天气             风力风向 空气质量指数\n",
       "0  2011-01-01 周六  -2°    -7  多云~阴          无持续风向微风    NaN\n",
       "1  2011-01-02 周日  -2°   -7°    多云          无持续风向微风    NaN\n",
       "2  2011-01-03 周一  -2°   -6°  多云~阴  西北风~北风3-4级~4-5级    NaN\n",
       "3  2011-01-04 周二  -2°   -9°     晴           北风5-6级    NaN\n",
       "4  2011-01-05 周三  -2°  -10°     晴  北风~无持续风向3-4级~微风    NaN"
      ]
     },
     "execution_count": 5,
     "metadata": {},
     "output_type": "execute_result"
    }
   ],
   "source": [
    "wea.head()"
   ]
  },
  {
   "cell_type": "markdown",
   "id": "4f95eb9e-19aa-49ad-8b7e-0b3655fb8a4e",
   "metadata": {},
   "source": [
    "### -------------------------------------------------------------"
   ]
  },
  {
   "cell_type": "markdown",
   "id": "fd74d75a-e7e3-4e94-b0e1-8b82d28a8873",
   "metadata": {},
   "source": [
    "###  2.获取str属性，使用各种字符串处理函数"
   ]
  },
  {
   "cell_type": "code",
   "execution_count": 6,
   "id": "8cb939ae-7bb1-409b-a703-27effd76abf1",
   "metadata": {},
   "outputs": [
    {
     "data": {
      "text/plain": [
       "<pandas.core.strings.accessor.StringMethods at 0x1388c85c4a0>"
      ]
     },
     "execution_count": 6,
     "metadata": {},
     "output_type": "execute_result"
    }
   ],
   "source": [
    "wea[\"最低温\"].str"
   ]
  },
  {
   "cell_type": "code",
   "execution_count": 7,
   "id": "b9c8634d-d16f-4dd7-b0ef-376b908cf922",
   "metadata": {},
   "outputs": [
    {
     "data": {
      "text/plain": [
       "0       NaN\n",
       "1        -7\n",
       "2        -6\n",
       "3        -9\n",
       "4       -10\n",
       "       ... \n",
       "4001     -8\n",
       "4002     -5\n",
       "4003     -5\n",
       "4004     -7\n",
       "4005     -7\n",
       "Name: 最低温, Length: 4006, dtype: object"
      ]
     },
     "execution_count": 7,
     "metadata": {},
     "output_type": "execute_result"
    }
   ],
   "source": [
    "# 字符串替换函数\n",
    "wea[\"最低温\"].str.replace('°','')"
   ]
  },
  {
   "cell_type": "code",
   "execution_count": 8,
   "id": "db5b20ec-388d-4736-8bb2-819c61e2b54b",
   "metadata": {},
   "outputs": [
    {
     "data": {
      "text/plain": [
       "0         NaN\n",
       "1       False\n",
       "2       False\n",
       "3       False\n",
       "4       False\n",
       "        ...  \n",
       "4001    False\n",
       "4002    False\n",
       "4003    False\n",
       "4004    False\n",
       "4005    False\n",
       "Name: 最低温, Length: 4006, dtype: object"
      ]
     },
     "execution_count": 8,
     "metadata": {},
     "output_type": "execute_result"
    }
   ],
   "source": [
    "# 判断是不是数字\n",
    "wea['最低温'].str.isnumeric()"
   ]
  },
  {
   "cell_type": "code",
   "execution_count": 9,
   "id": "372e928c-46f0-4872-9bf4-e956d2ff728a",
   "metadata": {},
   "outputs": [
    {
     "data": {
      "text/plain": [
       "0        7\n",
       "1        7\n",
       "2       15\n",
       "3        6\n",
       "4       15\n",
       "        ..\n",
       "4001     5\n",
       "4002     5\n",
       "4003     5\n",
       "4004     5\n",
       "4005     5\n",
       "Name: 风力风向, Length: 4006, dtype: int64"
      ]
     },
     "execution_count": 9,
     "metadata": {},
     "output_type": "execute_result"
    }
   ],
   "source": [
    "# \n",
    "wea[\"风力风向\"].str.len()"
   ]
  },
  {
   "cell_type": "markdown",
   "id": "dd536738-233c-4e7b-bbfc-6019be5e7599",
   "metadata": {},
   "source": [
    "### ----------------------------------------------------------"
   ]
  },
  {
   "cell_type": "markdown",
   "id": "719af5a1-f83c-4953-859c-37c187cd6bfe",
   "metadata": {},
   "source": [
    "###  3.做条件查询"
   ]
  },
  {
   "cell_type": "code",
   "execution_count": 10,
   "id": "96440b4e-e137-40d9-a505-860852bb2b21",
   "metadata": {},
   "outputs": [
    {
     "data": {
      "text/plain": [
       "0       False\n",
       "1       False\n",
       "2       False\n",
       "3        True\n",
       "4        True\n",
       "        ...  \n",
       "4001     True\n",
       "4002    False\n",
       "4003     True\n",
       "4004     True\n",
       "4005     True\n",
       "Name: 天气, Length: 4006, dtype: bool"
      ]
     },
     "execution_count": 10,
     "metadata": {},
     "output_type": "execute_result"
    }
   ],
   "source": [
    "# startswith函数\n",
    "condition = wea[\"天气\"].str.startswith(\"晴\")\n",
    "condition"
   ]
  },
  {
   "cell_type": "code",
   "execution_count": 11,
   "id": "c530bef3-cd17-439a-ae2a-24218a9b0b8d",
   "metadata": {},
   "outputs": [
    {
     "data": {
      "text/html": [
       "<div>\n",
       "<style scoped>\n",
       "    .dataframe tbody tr th:only-of-type {\n",
       "        vertical-align: middle;\n",
       "    }\n",
       "\n",
       "    .dataframe tbody tr th {\n",
       "        vertical-align: top;\n",
       "    }\n",
       "\n",
       "    .dataframe thead th {\n",
       "        text-align: right;\n",
       "    }\n",
       "</style>\n",
       "<table border=\"1\" class=\"dataframe\">\n",
       "  <thead>\n",
       "    <tr style=\"text-align: right;\">\n",
       "      <th></th>\n",
       "      <th>日期</th>\n",
       "      <th>最高温</th>\n",
       "      <th>最低温</th>\n",
       "      <th>天气</th>\n",
       "      <th>风力风向</th>\n",
       "      <th>空气质量指数</th>\n",
       "    </tr>\n",
       "  </thead>\n",
       "  <tbody>\n",
       "    <tr>\n",
       "      <th>3</th>\n",
       "      <td>2011-01-04 周二</td>\n",
       "      <td>-2°</td>\n",
       "      <td>-9°</td>\n",
       "      <td>晴</td>\n",
       "      <td>北风5-6级</td>\n",
       "      <td>NaN</td>\n",
       "    </tr>\n",
       "    <tr>\n",
       "      <th>4</th>\n",
       "      <td>2011-01-05 周三</td>\n",
       "      <td>-2°</td>\n",
       "      <td>-10°</td>\n",
       "      <td>晴</td>\n",
       "      <td>北风~无持续风向3-4级~微风</td>\n",
       "      <td>NaN</td>\n",
       "    </tr>\n",
       "    <tr>\n",
       "      <th>5</th>\n",
       "      <td>2011-01-06 周四</td>\n",
       "      <td>-1°</td>\n",
       "      <td>-10°</td>\n",
       "      <td>晴~多云</td>\n",
       "      <td>无持续风向微风</td>\n",
       "      <td>NaN</td>\n",
       "    </tr>\n",
       "    <tr>\n",
       "      <th>7</th>\n",
       "      <td>2011-01-08 周六</td>\n",
       "      <td>0°</td>\n",
       "      <td>-9°</td>\n",
       "      <td>晴</td>\n",
       "      <td>无持续风向微风</td>\n",
       "      <td>NaN</td>\n",
       "    </tr>\n",
       "    <tr>\n",
       "      <th>8</th>\n",
       "      <td>2011-01-09 周日</td>\n",
       "      <td>0°</td>\n",
       "      <td>-9°</td>\n",
       "      <td>晴</td>\n",
       "      <td>无持续风向微风</td>\n",
       "      <td>NaN</td>\n",
       "    </tr>\n",
       "  </tbody>\n",
       "</table>\n",
       "</div>"
      ],
      "text/plain": [
       "              日期  最高温   最低温    天气             风力风向 空气质量指数\n",
       "3  2011-01-04 周二  -2°   -9°     晴           北风5-6级    NaN\n",
       "4  2011-01-05 周三  -2°  -10°     晴  北风~无持续风向3-4级~微风    NaN\n",
       "5  2011-01-06 周四  -1°  -10°  晴~多云          无持续风向微风    NaN\n",
       "7  2011-01-08 周六   0°   -9°     晴          无持续风向微风    NaN\n",
       "8  2011-01-09 周日   0°   -9°     晴          无持续风向微风    NaN"
      ]
     },
     "execution_count": 11,
     "metadata": {},
     "output_type": "execute_result"
    }
   ],
   "source": [
    "wea[condition].head()"
   ]
  },
  {
   "cell_type": "code",
   "execution_count": 12,
   "id": "9637fe89-f874-407b-8015-d40e7f26f0e4",
   "metadata": {},
   "outputs": [
    {
     "data": {
      "text/html": [
       "<div>\n",
       "<style scoped>\n",
       "    .dataframe tbody tr th:only-of-type {\n",
       "        vertical-align: middle;\n",
       "    }\n",
       "\n",
       "    .dataframe tbody tr th {\n",
       "        vertical-align: top;\n",
       "    }\n",
       "\n",
       "    .dataframe thead th {\n",
       "        text-align: right;\n",
       "    }\n",
       "</style>\n",
       "<table border=\"1\" class=\"dataframe\">\n",
       "  <thead>\n",
       "    <tr style=\"text-align: right;\">\n",
       "      <th></th>\n",
       "      <th>日期</th>\n",
       "      <th>最高温</th>\n",
       "      <th>最低温</th>\n",
       "      <th>天气</th>\n",
       "      <th>风力风向</th>\n",
       "      <th>空气质量指数</th>\n",
       "    </tr>\n",
       "  </thead>\n",
       "  <tbody>\n",
       "    <tr>\n",
       "      <th>445</th>\n",
       "      <td>2012-04-01 周日</td>\n",
       "      <td>12°</td>\n",
       "      <td>5°</td>\n",
       "      <td>多云~阴</td>\n",
       "      <td>东南风~无持续风向3-4级~微风</td>\n",
       "      <td>NaN</td>\n",
       "    </tr>\n",
       "    <tr>\n",
       "      <th>2193</th>\n",
       "      <td>2017-01-14 周六</td>\n",
       "      <td>3°</td>\n",
       "      <td>-7°</td>\n",
       "      <td>晴</td>\n",
       "      <td>东南风1-2级</td>\n",
       "      <td>35 优</td>\n",
       "    </tr>\n",
       "    <tr>\n",
       "      <th>2257</th>\n",
       "      <td>2017-03-19 周日</td>\n",
       "      <td>19°</td>\n",
       "      <td>7°</td>\n",
       "      <td>多云~阴</td>\n",
       "      <td>东南风1-2级</td>\n",
       "      <td>273 重度</td>\n",
       "    </tr>\n",
       "    <tr>\n",
       "      <th>2278</th>\n",
       "      <td>2017-04-09 周日</td>\n",
       "      <td>19°</td>\n",
       "      <td>8°</td>\n",
       "      <td>多云</td>\n",
       "      <td>东南风1-2级</td>\n",
       "      <td>93 良</td>\n",
       "    </tr>\n",
       "    <tr>\n",
       "      <th>2405</th>\n",
       "      <td>2017-08-14 周一</td>\n",
       "      <td>30°</td>\n",
       "      <td>23°</td>\n",
       "      <td>多云</td>\n",
       "      <td>东南风1-2级</td>\n",
       "      <td>46 优</td>\n",
       "    </tr>\n",
       "  </tbody>\n",
       "</table>\n",
       "</div>"
      ],
      "text/plain": [
       "                 日期  最高温  最低温    天气              风力风向  空气质量指数\n",
       "445   2012-04-01 周日  12°   5°  多云~阴  东南风~无持续风向3-4级~微风     NaN\n",
       "2193  2017-01-14 周六   3°  -7°     晴           东南风1-2级    35 优\n",
       "2257  2017-03-19 周日  19°   7°  多云~阴           东南风1-2级  273 重度\n",
       "2278  2017-04-09 周日  19°   8°    多云           东南风1-2级    93 良\n",
       "2405  2017-08-14 周一  30°  23°    多云           东南风1-2级    46 优"
      ]
     },
     "execution_count": 12,
     "metadata": {},
     "output_type": "execute_result"
    }
   ],
   "source": [
    "# contain函数\n",
    "wind = wea[\"风力风向\"].str.contains(\"东南\")\n",
    "wea[wind].head()"
   ]
  },
  {
   "cell_type": "markdown",
   "id": "406090af-977e-4d0a-a07c-e8fce35a42c9",
   "metadata": {},
   "source": [
    "### ------------------------------------------------------"
   ]
  },
  {
   "cell_type": "markdown",
   "id": "0ade5dcb-95c0-4035-96b9-460d5ac6e1ee",
   "metadata": {},
   "source": [
    "### 4.多次str处理的链式操作"
   ]
  },
  {
   "cell_type": "code",
   "execution_count": 19,
   "id": "1de59ef1-fc8e-47f1-8a5c-971f23254641",
   "metadata": {},
   "outputs": [],
   "source": [
    "# 这里其实可以用正则化表达，一句就可以搞定\n",
    "wea.loc[:,'日期'] = wea[\"日期\"].str.replace('周一',\"\")\n",
    "wea.loc[:,'日期'] = wea[\"日期\"].str.replace('周二',\"\")\n",
    "wea.loc[:,'日期'] = wea[\"日期\"].str.replace('周三',\"\")\n",
    "wea.loc[:,'日期'] = wea[\"日期\"].str.replace('周四',\"\")\n",
    "wea.loc[:,'日期'] = wea[\"日期\"].str.replace('周五',\"\")\n",
    "wea.loc[:,'日期'] = wea[\"日期\"].str.replace('周六',\"\")\n",
    "wea.loc[:,'日期'] = wea[\"日期\"].str.replace('周日',\"\")"
   ]
  },
  {
   "cell_type": "code",
   "execution_count": 20,
   "id": "ef88ecb5-6a1f-4a63-a640-4e4fd31a84a1",
   "metadata": {},
   "outputs": [
    {
     "data": {
      "text/html": [
       "<div>\n",
       "<style scoped>\n",
       "    .dataframe tbody tr th:only-of-type {\n",
       "        vertical-align: middle;\n",
       "    }\n",
       "\n",
       "    .dataframe tbody tr th {\n",
       "        vertical-align: top;\n",
       "    }\n",
       "\n",
       "    .dataframe thead th {\n",
       "        text-align: right;\n",
       "    }\n",
       "</style>\n",
       "<table border=\"1\" class=\"dataframe\">\n",
       "  <thead>\n",
       "    <tr style=\"text-align: right;\">\n",
       "      <th></th>\n",
       "      <th>日期</th>\n",
       "      <th>最高温</th>\n",
       "      <th>最低温</th>\n",
       "      <th>天气</th>\n",
       "      <th>风力风向</th>\n",
       "      <th>空气质量指数</th>\n",
       "      <th>中文日期</th>\n",
       "    </tr>\n",
       "  </thead>\n",
       "  <tbody>\n",
       "    <tr>\n",
       "      <th>0</th>\n",
       "      <td>2011-01-01</td>\n",
       "      <td>-2°</td>\n",
       "      <td>-7</td>\n",
       "      <td>多云~阴</td>\n",
       "      <td>无持续风向微风</td>\n",
       "      <td>NaN</td>\n",
       "      <td>20110101 周六</td>\n",
       "    </tr>\n",
       "    <tr>\n",
       "      <th>1</th>\n",
       "      <td>2011-01-02</td>\n",
       "      <td>-2°</td>\n",
       "      <td>-7°</td>\n",
       "      <td>多云</td>\n",
       "      <td>无持续风向微风</td>\n",
       "      <td>NaN</td>\n",
       "      <td>20110102 周</td>\n",
       "    </tr>\n",
       "    <tr>\n",
       "      <th>2</th>\n",
       "      <td>2011-01-03</td>\n",
       "      <td>-2°</td>\n",
       "      <td>-6°</td>\n",
       "      <td>多云~阴</td>\n",
       "      <td>西北风~北风3-4级~4-5级</td>\n",
       "      <td>NaN</td>\n",
       "      <td>20110103 周一</td>\n",
       "    </tr>\n",
       "    <tr>\n",
       "      <th>3</th>\n",
       "      <td>2011-01-04</td>\n",
       "      <td>-2°</td>\n",
       "      <td>-9°</td>\n",
       "      <td>晴</td>\n",
       "      <td>北风5-6级</td>\n",
       "      <td>NaN</td>\n",
       "      <td>20110104 周二</td>\n",
       "    </tr>\n",
       "    <tr>\n",
       "      <th>4</th>\n",
       "      <td>2011-01-05</td>\n",
       "      <td>-2°</td>\n",
       "      <td>-10°</td>\n",
       "      <td>晴</td>\n",
       "      <td>北风~无持续风向3-4级~微风</td>\n",
       "      <td>NaN</td>\n",
       "      <td>20110105 周三</td>\n",
       "    </tr>\n",
       "  </tbody>\n",
       "</table>\n",
       "</div>"
      ],
      "text/plain": [
       "            日期  最高温   最低温    天气             风力风向 空气质量指数         中文日期\n",
       "0  2011-01-01   -2°    -7  多云~阴          无持续风向微风    NaN  20110101 周六\n",
       "1  2011-01-02   -2°   -7°    多云          无持续风向微风    NaN   20110102 周\n",
       "2  2011-01-03   -2°   -6°  多云~阴  西北风~北风3-4级~4-5级    NaN  20110103 周一\n",
       "3  2011-01-04   -2°   -9°     晴           北风5-6级    NaN  20110104 周二\n",
       "4  2011-01-05   -2°  -10°     晴  北风~无持续风向3-4级~微风    NaN  20110105 周三"
      ]
     },
     "execution_count": 20,
     "metadata": {},
     "output_type": "execute_result"
    }
   ],
   "source": [
    "wea.head()"
   ]
  },
  {
   "cell_type": "code",
   "execution_count": 21,
   "id": "601f5f27-a873-4e64-8073-6df02f5f3f90",
   "metadata": {},
   "outputs": [],
   "source": [
    "# 每次使用函数都要申明str.这个属性\n",
    "wea.loc[:,\"日期\"] = wea[\"日期\"].str.replace(\"-\",\"\").str.slice(0,6)"
   ]
  },
  {
   "cell_type": "code",
   "execution_count": 22,
   "id": "05566e4c-7074-42e4-a011-84fd4714b4ce",
   "metadata": {
    "scrolled": true
   },
   "outputs": [
    {
     "data": {
      "text/plain": [
       "0       201101\n",
       "1       201101\n",
       "2       201101\n",
       "3       201101\n",
       "4       201101\n",
       "         ...  \n",
       "4001    202112\n",
       "4002    202112\n",
       "4003    202112\n",
       "4004    202112\n",
       "4005    202112\n",
       "Name: 日期, Length: 4006, dtype: object"
      ]
     },
     "execution_count": 22,
     "metadata": {},
     "output_type": "execute_result"
    }
   ],
   "source": [
    "# 也可以这样,直接用切片语法\n",
    "wea[\"日期\"].str[0:6]"
   ]
  },
  {
   "cell_type": "markdown",
   "id": "584a7c77-326e-49ae-a068-f31828d122a9",
   "metadata": {},
   "source": [
    "### ----------------------------------------------------------"
   ]
  },
  {
   "cell_type": "markdown",
   "id": "f0764f95-e958-465f-8522-bde0a24a341d",
   "metadata": {},
   "source": [
    "### 5.使用正则表达式的处理"
   ]
  },
  {
   "cell_type": "code",
   "execution_count": 14,
   "id": "31cecad9-3a15-48c2-a342-f192bc81442b",
   "metadata": {},
   "outputs": [
    {
     "data": {
      "text/html": [
       "<div>\n",
       "<style scoped>\n",
       "    .dataframe tbody tr th:only-of-type {\n",
       "        vertical-align: middle;\n",
       "    }\n",
       "\n",
       "    .dataframe tbody tr th {\n",
       "        vertical-align: top;\n",
       "    }\n",
       "\n",
       "    .dataframe thead th {\n",
       "        text-align: right;\n",
       "    }\n",
       "</style>\n",
       "<table border=\"1\" class=\"dataframe\">\n",
       "  <thead>\n",
       "    <tr style=\"text-align: right;\">\n",
       "      <th></th>\n",
       "      <th>日期</th>\n",
       "      <th>最高温</th>\n",
       "      <th>最低温</th>\n",
       "      <th>天气</th>\n",
       "      <th>风力风向</th>\n",
       "      <th>空气质量指数</th>\n",
       "      <th>中文日期</th>\n",
       "    </tr>\n",
       "  </thead>\n",
       "  <tbody>\n",
       "    <tr>\n",
       "      <th>0</th>\n",
       "      <td>2011-01-01 周六</td>\n",
       "      <td>-2°</td>\n",
       "      <td>-7</td>\n",
       "      <td>多云~阴</td>\n",
       "      <td>无持续风向微风</td>\n",
       "      <td>NaN</td>\n",
       "      <td>2011年01月01 周六日</td>\n",
       "    </tr>\n",
       "    <tr>\n",
       "      <th>1</th>\n",
       "      <td>2011-01-02 周日</td>\n",
       "      <td>-2°</td>\n",
       "      <td>-7°</td>\n",
       "      <td>多云</td>\n",
       "      <td>无持续风向微风</td>\n",
       "      <td>NaN</td>\n",
       "      <td>2011年01月02 周日日</td>\n",
       "    </tr>\n",
       "    <tr>\n",
       "      <th>2</th>\n",
       "      <td>2011-01-03 周一</td>\n",
       "      <td>-2°</td>\n",
       "      <td>-6°</td>\n",
       "      <td>多云~阴</td>\n",
       "      <td>西北风~北风3-4级~4-5级</td>\n",
       "      <td>NaN</td>\n",
       "      <td>2011年01月03 周一日</td>\n",
       "    </tr>\n",
       "    <tr>\n",
       "      <th>3</th>\n",
       "      <td>2011-01-04 周二</td>\n",
       "      <td>-2°</td>\n",
       "      <td>-9°</td>\n",
       "      <td>晴</td>\n",
       "      <td>北风5-6级</td>\n",
       "      <td>NaN</td>\n",
       "      <td>2011年01月04 周二日</td>\n",
       "    </tr>\n",
       "    <tr>\n",
       "      <th>4</th>\n",
       "      <td>2011-01-05 周三</td>\n",
       "      <td>-2°</td>\n",
       "      <td>-10°</td>\n",
       "      <td>晴</td>\n",
       "      <td>北风~无持续风向3-4级~微风</td>\n",
       "      <td>NaN</td>\n",
       "      <td>2011年01月05 周三日</td>\n",
       "    </tr>\n",
       "  </tbody>\n",
       "</table>\n",
       "</div>"
      ],
      "text/plain": [
       "              日期  最高温   最低温    天气             风力风向 空气质量指数            中文日期\n",
       "0  2011-01-01 周六  -2°    -7  多云~阴          无持续风向微风    NaN  2011年01月01 周六日\n",
       "1  2011-01-02 周日  -2°   -7°    多云          无持续风向微风    NaN  2011年01月02 周日日\n",
       "2  2011-01-03 周一  -2°   -6°  多云~阴  西北风~北风3-4级~4-5级    NaN  2011年01月03 周一日\n",
       "3  2011-01-04 周二  -2°   -9°     晴           北风5-6级    NaN  2011年01月04 周二日\n",
       "4  2011-01-05 周三  -2°  -10°     晴  北风~无持续风向3-4级~微风    NaN  2011年01月05 周三日"
      ]
     },
     "execution_count": 14,
     "metadata": {},
     "output_type": "execute_result"
    }
   ],
   "source": [
    "# 添加新列\n",
    "def get_nianyueri(x):\n",
    "    year,month,day = x[\"日期\"].split(\"-\")\n",
    "    return f\"{year}年{month}月{day}日\"\n",
    "wea[\"中文日期\"] = wea.apply(get_nianyueri,axis = 1)\n",
    "wea.head()"
   ]
  },
  {
   "cell_type": "code",
   "execution_count": 16,
   "id": "a39036c0-e061-413c-b587-a251e1109b24",
   "metadata": {},
   "outputs": [],
   "source": [
    "# 链式replace去除中文\n",
    "wea.loc[:,\"中文日期\"] = wea[\"中文日期\"].str.replace(\"年\",\"\").str.replace(\"月\",\"\").str.replace(\"日\",\"\")"
   ]
  },
  {
   "cell_type": "code",
   "execution_count": 17,
   "id": "3f2a47e6-35a9-40de-871b-6c544d661a8f",
   "metadata": {},
   "outputs": [
    {
     "data": {
      "text/html": [
       "<div>\n",
       "<style scoped>\n",
       "    .dataframe tbody tr th:only-of-type {\n",
       "        vertical-align: middle;\n",
       "    }\n",
       "\n",
       "    .dataframe tbody tr th {\n",
       "        vertical-align: top;\n",
       "    }\n",
       "\n",
       "    .dataframe thead th {\n",
       "        text-align: right;\n",
       "    }\n",
       "</style>\n",
       "<table border=\"1\" class=\"dataframe\">\n",
       "  <thead>\n",
       "    <tr style=\"text-align: right;\">\n",
       "      <th></th>\n",
       "      <th>日期</th>\n",
       "      <th>最高温</th>\n",
       "      <th>最低温</th>\n",
       "      <th>天气</th>\n",
       "      <th>风力风向</th>\n",
       "      <th>空气质量指数</th>\n",
       "      <th>中文日期</th>\n",
       "    </tr>\n",
       "  </thead>\n",
       "  <tbody>\n",
       "    <tr>\n",
       "      <th>0</th>\n",
       "      <td>2011-01-01 周六</td>\n",
       "      <td>-2°</td>\n",
       "      <td>-7</td>\n",
       "      <td>多云~阴</td>\n",
       "      <td>无持续风向微风</td>\n",
       "      <td>NaN</td>\n",
       "      <td>20110101 周六</td>\n",
       "    </tr>\n",
       "    <tr>\n",
       "      <th>1</th>\n",
       "      <td>2011-01-02 周日</td>\n",
       "      <td>-2°</td>\n",
       "      <td>-7°</td>\n",
       "      <td>多云</td>\n",
       "      <td>无持续风向微风</td>\n",
       "      <td>NaN</td>\n",
       "      <td>20110102 周</td>\n",
       "    </tr>\n",
       "    <tr>\n",
       "      <th>2</th>\n",
       "      <td>2011-01-03 周一</td>\n",
       "      <td>-2°</td>\n",
       "      <td>-6°</td>\n",
       "      <td>多云~阴</td>\n",
       "      <td>西北风~北风3-4级~4-5级</td>\n",
       "      <td>NaN</td>\n",
       "      <td>20110103 周一</td>\n",
       "    </tr>\n",
       "    <tr>\n",
       "      <th>3</th>\n",
       "      <td>2011-01-04 周二</td>\n",
       "      <td>-2°</td>\n",
       "      <td>-9°</td>\n",
       "      <td>晴</td>\n",
       "      <td>北风5-6级</td>\n",
       "      <td>NaN</td>\n",
       "      <td>20110104 周二</td>\n",
       "    </tr>\n",
       "    <tr>\n",
       "      <th>4</th>\n",
       "      <td>2011-01-05 周三</td>\n",
       "      <td>-2°</td>\n",
       "      <td>-10°</td>\n",
       "      <td>晴</td>\n",
       "      <td>北风~无持续风向3-4级~微风</td>\n",
       "      <td>NaN</td>\n",
       "      <td>20110105 周三</td>\n",
       "    </tr>\n",
       "  </tbody>\n",
       "</table>\n",
       "</div>"
      ],
      "text/plain": [
       "              日期  最高温   最低温    天气             风力风向 空气质量指数         中文日期\n",
       "0  2011-01-01 周六  -2°    -7  多云~阴          无持续风向微风    NaN  20110101 周六\n",
       "1  2011-01-02 周日  -2°   -7°    多云          无持续风向微风    NaN   20110102 周\n",
       "2  2011-01-03 周一  -2°   -6°  多云~阴  西北风~北风3-4级~4-5级    NaN  20110103 周一\n",
       "3  2011-01-04 周二  -2°   -9°     晴           北风5-6级    NaN  20110104 周二\n",
       "4  2011-01-05 周三  -2°  -10°     晴  北风~无持续风向3-4级~微风    NaN  20110105 周三"
      ]
     },
     "execution_count": 17,
     "metadata": {},
     "output_type": "execute_result"
    }
   ],
   "source": [
    "wea.head()"
   ]
  },
  {
   "cell_type": "code",
   "execution_count": 18,
   "id": "eebf8a3d-7275-497f-a454-6a5b3305045d",
   "metadata": {},
   "outputs": [
    {
     "data": {
      "text/plain": [
       "0       20110101 周六\n",
       "1        20110102 周\n",
       "2       20110103 周一\n",
       "3       20110104 周二\n",
       "4       20110105 周三\n",
       "           ...     \n",
       "4001    20211227 周一\n",
       "4002    20211228 周二\n",
       "4003    20211229 周三\n",
       "4004    20211230 周四\n",
       "4005    20211231 周五\n",
       "Name: 中文日期, Length: 4006, dtype: object"
      ]
     },
     "execution_count": 18,
     "metadata": {},
     "output_type": "execute_result"
    }
   ],
   "source": [
    "# 正则化表达\n",
    "wea[\"中文日期\"].str.replace(\"[年月日]\",\"\")"
   ]
  },
  {
   "cell_type": "code",
   "execution_count": null,
   "id": "cddb2e4e-1602-498c-aab3-5c3c726eaa23",
   "metadata": {},
   "outputs": [],
   "source": []
  },
  {
   "cell_type": "code",
   "execution_count": null,
   "id": "12cf805a-6aec-44f4-92cd-c07ccd7ffe66",
   "metadata": {},
   "outputs": [],
   "source": []
  }
 ],
 "metadata": {
  "kernelspec": {
   "display_name": "Python 3 (ipykernel)",
   "language": "python",
   "name": "python3"
  },
  "language_info": {
   "codemirror_mode": {
    "name": "ipython",
    "version": 3
   },
   "file_extension": ".py",
   "mimetype": "text/x-python",
   "name": "python",
   "nbconvert_exporter": "python",
   "pygments_lexer": "ipython3",
   "version": "3.12.7"
  }
 },
 "nbformat": 4,
 "nbformat_minor": 5
}
