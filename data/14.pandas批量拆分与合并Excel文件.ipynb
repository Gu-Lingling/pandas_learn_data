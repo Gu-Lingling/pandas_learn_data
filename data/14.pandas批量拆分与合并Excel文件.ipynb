{
 "cells": [
  {
   "cell_type": "code",
   "execution_count": 1,
   "id": "f545518e-c17e-4ec2-aa33-e5e0f5febe26",
   "metadata": {},
   "outputs": [],
   "source": [
    "# 一个创建文件的方法\n",
    "work_dir = \"C:/Users/THE KEY/Desktop/python_datum/pandas/data/myself_data/split_task\"\n",
    "splits_dir = f\"{work_dir}/splits\"\n",
    "\n",
    "import os\n",
    "if not os.path.exists(splits_dir):\n",
    "    os.mkdir(splits_dir)"
   ]
  },
  {
   "cell_type": "code",
   "execution_count": 2,
   "id": "4fc07727-e516-4611-8029-773d7034239c",
   "metadata": {},
   "outputs": [],
   "source": [
    "import pandas as pd"
   ]
  },
  {
   "cell_type": "code",
   "execution_count": 3,
   "id": "553f5a77-cd30-464e-95d6-ba3afa26b812",
   "metadata": {},
   "outputs": [],
   "source": [
    "df_source = pd.read_excel(\"C:/Users/THE KEY/Desktop/python_datum/pandas/data/myself_data/split_task/merge_task.xlsx\")"
   ]
  },
  {
   "cell_type": "code",
   "execution_count": 4,
   "id": "b3439b53-b34c-42d4-a849-a26947aa12ca",
   "metadata": {},
   "outputs": [
    {
     "data": {
      "text/html": [
       "<div>\n",
       "<style scoped>\n",
       "    .dataframe tbody tr th:only-of-type {\n",
       "        vertical-align: middle;\n",
       "    }\n",
       "\n",
       "    .dataframe tbody tr th {\n",
       "        vertical-align: top;\n",
       "    }\n",
       "\n",
       "    .dataframe thead th {\n",
       "        text-align: right;\n",
       "    }\n",
       "</style>\n",
       "<table border=\"1\" class=\"dataframe\">\n",
       "  <thead>\n",
       "    <tr style=\"text-align: right;\">\n",
       "      <th></th>\n",
       "      <th>userId</th>\n",
       "      <th>age</th>\n",
       "      <th>gender</th>\n",
       "      <th>occupation</th>\n",
       "      <th>zip-code</th>\n",
       "      <th>name_task</th>\n",
       "    </tr>\n",
       "  </thead>\n",
       "  <tbody>\n",
       "    <tr>\n",
       "      <th>0</th>\n",
       "      <td>1</td>\n",
       "      <td>24</td>\n",
       "      <td>M</td>\n",
       "      <td>technician</td>\n",
       "      <td>85711</td>\n",
       "      <td>wxm</td>\n",
       "    </tr>\n",
       "    <tr>\n",
       "      <th>1</th>\n",
       "      <td>2</td>\n",
       "      <td>53</td>\n",
       "      <td>F</td>\n",
       "      <td>other</td>\n",
       "      <td>94043</td>\n",
       "      <td>wxm</td>\n",
       "    </tr>\n",
       "    <tr>\n",
       "      <th>2</th>\n",
       "      <td>3</td>\n",
       "      <td>23</td>\n",
       "      <td>M</td>\n",
       "      <td>writer</td>\n",
       "      <td>32067</td>\n",
       "      <td>wxm</td>\n",
       "    </tr>\n",
       "    <tr>\n",
       "      <th>3</th>\n",
       "      <td>4</td>\n",
       "      <td>24</td>\n",
       "      <td>M</td>\n",
       "      <td>technician</td>\n",
       "      <td>43537</td>\n",
       "      <td>wxm</td>\n",
       "    </tr>\n",
       "    <tr>\n",
       "      <th>4</th>\n",
       "      <td>5</td>\n",
       "      <td>33</td>\n",
       "      <td>F</td>\n",
       "      <td>other</td>\n",
       "      <td>15213</td>\n",
       "      <td>wxm</td>\n",
       "    </tr>\n",
       "  </tbody>\n",
       "</table>\n",
       "</div>"
      ],
      "text/plain": [
       "   userId  age gender  occupation zip-code name_task\n",
       "0       1   24      M  technician    85711       wxm\n",
       "1       2   53      F       other    94043       wxm\n",
       "2       3   23      M      writer    32067       wxm\n",
       "3       4   24      M  technician    43537       wxm\n",
       "4       5   33      F       other    15213       wxm"
      ]
     },
     "execution_count": 4,
     "metadata": {},
     "output_type": "execute_result"
    }
   ],
   "source": [
    "df_source.head()"
   ]
  },
  {
   "cell_type": "code",
   "execution_count": 5,
   "id": "04969dc0-5070-43a1-ac86-a32f30791e45",
   "metadata": {},
   "outputs": [
    {
     "data": {
      "text/plain": [
       "RangeIndex(start=0, stop=943, step=1)"
      ]
     },
     "execution_count": 5,
     "metadata": {},
     "output_type": "execute_result"
    }
   ],
   "source": [
    "df_source.index"
   ]
  },
  {
   "cell_type": "code",
   "execution_count": 6,
   "id": "f298a5a1-55cd-41e0-85dc-ed11aab45dcb",
   "metadata": {},
   "outputs": [
    {
     "data": {
      "text/plain": [
       "(943, 6)"
      ]
     },
     "execution_count": 6,
     "metadata": {},
     "output_type": "execute_result"
    }
   ],
   "source": [
    "df_source.shape"
   ]
  },
  {
   "cell_type": "code",
   "execution_count": 7,
   "id": "3db74aad-cece-4d82-befd-c282e11661df",
   "metadata": {},
   "outputs": [
    {
     "data": {
      "text/plain": [
       "943"
      ]
     },
     "execution_count": 7,
     "metadata": {},
     "output_type": "execute_result"
    }
   ],
   "source": [
    "total_row_count = df_source.shape[0]\n",
    "total_row_count"
   ]
  },
  {
   "cell_type": "markdown",
   "id": "c61135a7-f8f2-4a67-b528-beb0ab58541b",
   "metadata": {},
   "source": [
    "### ---------------------------------------------------------------------"
   ]
  },
  {
   "cell_type": "code",
   "execution_count": 8,
   "id": "addf92f8-cefa-41e7-9e57-aea25d6d308f",
   "metadata": {},
   "outputs": [],
   "source": [
    "# 将这个大Excel拆分\n",
    "user_names = ['A','B','C','D','E','F']"
   ]
  },
  {
   "cell_type": "code",
   "execution_count": 9,
   "id": "136095cb-34c5-4a70-b58f-b82f521f51b9",
   "metadata": {},
   "outputs": [
    {
     "data": {
      "text/plain": [
       "158"
      ]
     },
     "execution_count": 9,
     "metadata": {},
     "output_type": "execute_result"
    }
   ],
   "source": [
    "# 每个人的任务数目\n",
    "split_size = total_row_count // len(user_names)\n",
    "if total_row_count % len(user_names) != 0:\n",
    "    split_size += 1\n",
    "split_size"
   ]
  },
  {
   "cell_type": "code",
   "execution_count": 10,
   "id": "e4ccb7d6-462f-4630-a149-89c20b5c544e",
   "metadata": {},
   "outputs": [],
   "source": [
    "df_subs = []\n",
    "# 遍历元组的索引和名称\n",
    "for idx,user_name in enumerate(user_names):\n",
    "    begin = idx*split_size\n",
    "    end = begin+split_size\n",
    "    df_sub = df_source.iloc[begin:end]\n",
    "    df_subs.append((idx,user_name,df_sub))"
   ]
  },
  {
   "cell_type": "code",
   "execution_count": 11,
   "id": "311c5f21-4fa7-426b-9e5f-7455c3684112",
   "metadata": {},
   "outputs": [],
   "source": [
    "for idx,user_name,df_sub in df_subs:\n",
    "    file_name = f\"{splits_dir}/_{idx}_{user_name}.xlsx\"\n",
    "    df_sub.to_excel(file_name, index = False)"
   ]
  },
  {
   "cell_type": "markdown",
   "id": "e69d94d2-4760-470d-9977-6f9239c3b37b",
   "metadata": {},
   "source": [
    "### ---------------------------------------------------------------"
   ]
  },
  {
   "cell_type": "code",
   "execution_count": 12,
   "id": "c14592f2-6956-4699-85f9-c830f48b8faf",
   "metadata": {},
   "outputs": [
    {
     "data": {
      "text/plain": [
       "['_0_A.xlsx', '_1_B.xlsx', '_2_C.xlsx', '_3_D.xlsx', '_4_E.xlsx', '_5_F.xlsx']"
      ]
     },
     "execution_count": 12,
     "metadata": {},
     "output_type": "execute_result"
    }
   ],
   "source": [
    "import os\n",
    "excel_names =[]\n",
    "for excel_name in os.listdir(splits_dir):\n",
    "    excel_names.append(excel_name)\n",
    "excel_names"
   ]
  },
  {
   "cell_type": "code",
   "execution_count": 13,
   "id": "f552c910-0219-46ef-9bae-6a536893fd1c",
   "metadata": {},
   "outputs": [
    {
     "name": "stdout",
     "output_type": "stream",
     "text": [
      "_0_A.xlsx A\n",
      "_1_B.xlsx B\n",
      "_2_C.xlsx C\n",
      "_3_D.xlsx D\n",
      "_4_E.xlsx E\n",
      "_5_F.xlsx F\n"
     ]
    }
   ],
   "source": [
    "df_list = []\n",
    "\n",
    "for excel_name in excel_names:\n",
    "    # 构建路径\n",
    "    excel_path = f\"{splits_dir}/{excel_name}\"\n",
    "    # 读取数据\n",
    "    df_split = pd.read_excel(excel_path)\n",
    "    # 得到简化的用户名\n",
    "    username = excel_name.replace(\".xlsx\",\"\")[3]\n",
    "    print(excel_name,username)\n",
    "    # 添加用户名这一列\n",
    "    df_split[\"username\"] = username\n",
    "    df_list.append(df_split)"
   ]
  },
  {
   "cell_type": "code",
   "execution_count": 14,
   "id": "2802ecbf-f450-424c-be2f-c6aad7d1541b",
   "metadata": {},
   "outputs": [],
   "source": [
    "# 使用pd.concat进行合并\n",
    "df_merged = pd.concat(df_list)"
   ]
  },
  {
   "cell_type": "code",
   "execution_count": 15,
   "id": "6bb7f685-28a0-4eab-a56e-61fd89cbb863",
   "metadata": {},
   "outputs": [
    {
     "data": {
      "text/html": [
       "<div>\n",
       "<style scoped>\n",
       "    .dataframe tbody tr th:only-of-type {\n",
       "        vertical-align: middle;\n",
       "    }\n",
       "\n",
       "    .dataframe tbody tr th {\n",
       "        vertical-align: top;\n",
       "    }\n",
       "\n",
       "    .dataframe thead th {\n",
       "        text-align: right;\n",
       "    }\n",
       "</style>\n",
       "<table border=\"1\" class=\"dataframe\">\n",
       "  <thead>\n",
       "    <tr style=\"text-align: right;\">\n",
       "      <th></th>\n",
       "      <th>userId</th>\n",
       "      <th>age</th>\n",
       "      <th>gender</th>\n",
       "      <th>occupation</th>\n",
       "      <th>zip-code</th>\n",
       "      <th>name_task</th>\n",
       "      <th>username</th>\n",
       "    </tr>\n",
       "  </thead>\n",
       "  <tbody>\n",
       "    <tr>\n",
       "      <th>0</th>\n",
       "      <td>1</td>\n",
       "      <td>24</td>\n",
       "      <td>M</td>\n",
       "      <td>technician</td>\n",
       "      <td>85711</td>\n",
       "      <td>wxm</td>\n",
       "      <td>A</td>\n",
       "    </tr>\n",
       "    <tr>\n",
       "      <th>1</th>\n",
       "      <td>2</td>\n",
       "      <td>53</td>\n",
       "      <td>F</td>\n",
       "      <td>other</td>\n",
       "      <td>94043</td>\n",
       "      <td>wxm</td>\n",
       "      <td>A</td>\n",
       "    </tr>\n",
       "    <tr>\n",
       "      <th>2</th>\n",
       "      <td>3</td>\n",
       "      <td>23</td>\n",
       "      <td>M</td>\n",
       "      <td>writer</td>\n",
       "      <td>32067</td>\n",
       "      <td>wxm</td>\n",
       "      <td>A</td>\n",
       "    </tr>\n",
       "    <tr>\n",
       "      <th>3</th>\n",
       "      <td>4</td>\n",
       "      <td>24</td>\n",
       "      <td>M</td>\n",
       "      <td>technician</td>\n",
       "      <td>43537</td>\n",
       "      <td>wxm</td>\n",
       "      <td>A</td>\n",
       "    </tr>\n",
       "    <tr>\n",
       "      <th>4</th>\n",
       "      <td>5</td>\n",
       "      <td>33</td>\n",
       "      <td>F</td>\n",
       "      <td>other</td>\n",
       "      <td>15213</td>\n",
       "      <td>wxm</td>\n",
       "      <td>A</td>\n",
       "    </tr>\n",
       "  </tbody>\n",
       "</table>\n",
       "</div>"
      ],
      "text/plain": [
       "   userId  age gender  occupation zip-code name_task username\n",
       "0       1   24      M  technician    85711       wxm        A\n",
       "1       2   53      F       other    94043       wxm        A\n",
       "2       3   23      M      writer    32067       wxm        A\n",
       "3       4   24      M  technician    43537       wxm        A\n",
       "4       5   33      F       other    15213       wxm        A"
      ]
     },
     "execution_count": 15,
     "metadata": {},
     "output_type": "execute_result"
    }
   ],
   "source": [
    "df_merged.head()"
   ]
  },
  {
   "cell_type": "code",
   "execution_count": 16,
   "id": "26f17d78-795b-420e-94ac-042371fb8fe4",
   "metadata": {},
   "outputs": [
    {
     "data": {
      "text/plain": [
       "(943, 7)"
      ]
     },
     "execution_count": 16,
     "metadata": {},
     "output_type": "execute_result"
    }
   ],
   "source": [
    "df_merged.shape"
   ]
  },
  {
   "cell_type": "code",
   "execution_count": 17,
   "id": "cb034ef0-7b29-4602-831f-4df5f7dba78e",
   "metadata": {},
   "outputs": [
    {
     "data": {
      "text/plain": [
       "username\n",
       "A    158\n",
       "B    158\n",
       "C    158\n",
       "D    158\n",
       "E    158\n",
       "F    153\n",
       "Name: count, dtype: int64"
      ]
     },
     "execution_count": 17,
     "metadata": {},
     "output_type": "execute_result"
    }
   ],
   "source": [
    "df_merged[\"username\"].value_counts()"
   ]
  },
  {
   "cell_type": "code",
   "execution_count": 19,
   "id": "f5c00af7-5e78-4eed-81aa-d231beb0cf7a",
   "metadata": {},
   "outputs": [],
   "source": [
    "# 保存成一个文件\n",
    "df_merged.to_excel(f\"{work_dir}/merged_task.xlsx\",index = False)"
   ]
  },
  {
   "cell_type": "code",
   "execution_count": null,
   "id": "e9840fb6-5f12-4753-95ef-44d69aba3f1c",
   "metadata": {},
   "outputs": [],
   "source": []
  }
 ],
 "metadata": {
  "kernelspec": {
   "display_name": "Python 3 (ipykernel)",
   "language": "python",
   "name": "python3"
  },
  "language_info": {
   "codemirror_mode": {
    "name": "ipython",
    "version": 3
   },
   "file_extension": ".py",
   "mimetype": "text/x-python",
   "name": "python",
   "nbconvert_exporter": "python",
   "pygments_lexer": "ipython3",
   "version": "3.12.7"
  }
 },
 "nbformat": 4,
 "nbformat_minor": 5
}
