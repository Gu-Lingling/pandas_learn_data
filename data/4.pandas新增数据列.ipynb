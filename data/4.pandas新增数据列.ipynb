{
 "cells": [
  {
   "cell_type": "code",
   "execution_count": 1,
   "id": "dd4c65d5-9dfe-4625-9c2a-4c345d654327",
   "metadata": {},
   "outputs": [],
   "source": [
    "import pandas as pd\n",
    "df = \"C:/Users/THE KEY/Desktop/python_datum/pandas/data/weather/weather_beijing.xlsx\"\n",
    "wea = pd.read_excel(df)\n",
    "wea = pd.DataFrame(wea)"
   ]
  },
  {
   "cell_type": "markdown",
   "id": "bda346c7-f160-49f6-b789-84633dcf618c",
   "metadata": {},
   "source": [
    "###  1.直接赋值的方法"
   ]
  },
  {
   "cell_type": "code",
   "execution_count": 2,
   "id": "8336c033-f6a4-49df-9d54-b195c171d19b",
   "metadata": {},
   "outputs": [],
   "source": [
    "wea.loc[:,'最高温'] = wea['最高温'].str.replace(\"°\",\"\").astype(int)"
   ]
  },
  {
   "cell_type": "code",
   "execution_count": 3,
   "id": "0904b7bb-e3a5-4ffd-b320-391623890a0f",
   "metadata": {},
   "outputs": [],
   "source": [
    "wea.loc[:,'最低温'] = wea['最低温'].str.strip(\"°\")"
   ]
  },
  {
   "cell_type": "code",
   "execution_count": 4,
   "id": "a13a1f96-187a-4f07-aaeb-93c30d9718d9",
   "metadata": {},
   "outputs": [],
   "source": [
    "# 找出特殊群体nan\n",
    "i = 0\n",
    "for x in wea['最低温']:\n",
    "    i += 1\n",
    "    if x == 'nan':\n",
    "        print(x)\n",
    "        print(i)\n",
    "#是 0 ，8 ，100，它们是nan，已改正type(wea['最低温'][0])"
   ]
  },
  {
   "cell_type": "code",
   "execution_count": 20,
   "id": "5aa44874-47db-468d-85f3-255e40eaf048",
   "metadata": {},
   "outputs": [
    {
     "data": {
      "text/plain": [
       "str"
      ]
     },
     "execution_count": 20,
     "metadata": {},
     "output_type": "execute_result"
    }
   ],
   "source": [
    "type(wea['最低温'][0])\n"
   ]
  },
  {
   "cell_type": "code",
   "execution_count": 22,
   "id": "d71b6598-2fdb-49b7-a3fe-3149a2ccfbd8",
   "metadata": {
    "collapsed": true,
    "jupyter": {
     "outputs_hidden": true
    },
    "scrolled": true
   },
   "outputs": [
    {
     "name": "stderr",
     "output_type": "stream",
     "text": [
      "C:\\Users\\THE KEY\\AppData\\Local\\Temp\\ipykernel_6508\\142058033.py:2: FutureWarning: ChainedAssignmentError: behaviour will change in pandas 3.0!\n",
      "You are setting values through chained assignment. Currently this works in certain cases, but when using Copy-on-Write (which will become the default behaviour in pandas 3.0) this will never work to update the original DataFrame or Series, because the intermediate object on which we are setting values will behave as a copy.\n",
      "A typical example is when you are setting values in a column of a DataFrame, like:\n",
      "\n",
      "df[\"col\"][row_indexer] = value\n",
      "\n",
      "Use `df.loc[row_indexer, \"col\"] = values` instead, to perform the assignment in a single step and ensure this keeps updating the original `df`.\n",
      "\n",
      "See the caveats in the documentation: https://pandas.pydata.org/pandas-docs/stable/user_guide/indexing.html#returning-a-view-versus-a-copy\n",
      "\n",
      "  wea['最低温'][0] = '-7'\n",
      "C:\\Users\\THE KEY\\AppData\\Local\\Temp\\ipykernel_6508\\142058033.py:4: FutureWarning: ChainedAssignmentError: behaviour will change in pandas 3.0!\n",
      "You are setting values through chained assignment. Currently this works in certain cases, but when using Copy-on-Write (which will become the default behaviour in pandas 3.0) this will never work to update the original DataFrame or Series, because the intermediate object on which we are setting values will behave as a copy.\n",
      "A typical example is when you are setting values in a column of a DataFrame, like:\n",
      "\n",
      "df[\"col\"][row_indexer] = value\n",
      "\n",
      "Use `df.loc[row_indexer, \"col\"] = values` instead, to perform the assignment in a single step and ensure this keeps updating the original `df`.\n",
      "\n",
      "See the caveats in the documentation: https://pandas.pydata.org/pandas-docs/stable/user_guide/indexing.html#returning-a-view-versus-a-copy\n",
      "\n",
      "  wea['最低温'][8] = '-9'\n",
      "C:\\Users\\THE KEY\\AppData\\Local\\Temp\\ipykernel_6508\\142058033.py:6: FutureWarning: ChainedAssignmentError: behaviour will change in pandas 3.0!\n",
      "You are setting values through chained assignment. Currently this works in certain cases, but when using Copy-on-Write (which will become the default behaviour in pandas 3.0) this will never work to update the original DataFrame or Series, because the intermediate object on which we are setting values will behave as a copy.\n",
      "A typical example is when you are setting values in a column of a DataFrame, like:\n",
      "\n",
      "df[\"col\"][row_indexer] = value\n",
      "\n",
      "Use `df.loc[row_indexer, \"col\"] = values` instead, to perform the assignment in a single step and ensure this keeps updating the original `df`.\n",
      "\n",
      "See the caveats in the documentation: https://pandas.pydata.org/pandas-docs/stable/user_guide/indexing.html#returning-a-view-versus-a-copy\n",
      "\n",
      "  wea['最低温'][100] = '9'\n"
     ]
    },
    {
     "data": {
      "text/plain": [
       "str"
      ]
     },
     "execution_count": 22,
     "metadata": {},
     "output_type": "execute_result"
    }
   ],
   "source": [
    "# 手动赋值,先搞成str类型  这好像是旧办法，不好用\n",
    "wea['最低温'][0] = '-7'\n",
    "type(wea['最低温'][0])\n",
    "wea['最低温'][8] = '-9'\n",
    "type(wea['最低温'][8])\n",
    "wea['最低温'][100] = '9'\n",
    "type(wea['最低温'][100])"
   ]
  },
  {
   "cell_type": "code",
   "execution_count": 25,
   "id": "62549602-c602-48fa-ba1c-6c13f6cf3fa0",
   "metadata": {},
   "outputs": [],
   "source": [
    "# 新方法\n",
    "wea.loc[[0],\"最低温\"] = '-7'"
   ]
  },
  {
   "cell_type": "code",
   "execution_count": 26,
   "id": "6236339a-364c-44c9-b36e-021e5589de1e",
   "metadata": {},
   "outputs": [
    {
     "data": {
      "text/plain": [
       "'-7'"
      ]
     },
     "execution_count": 26,
     "metadata": {},
     "output_type": "execute_result"
    }
   ],
   "source": [
    "wea[\"最低温\"][0]"
   ]
  },
  {
   "cell_type": "code",
   "execution_count": 6,
   "id": "97b0766e-bbe8-42f5-ae49-bef1141f31f7",
   "metadata": {
    "collapsed": true,
    "jupyter": {
     "outputs_hidden": true
    },
    "scrolled": true
   },
   "outputs": [
    {
     "name": "stderr",
     "output_type": "stream",
     "text": [
      "C:\\Users\\THE KEY\\AppData\\Local\\Temp\\ipykernel_7440\\2818861463.py:2: FutureWarning: ChainedAssignmentError: behaviour will change in pandas 3.0!\n",
      "You are setting values through chained assignment. Currently this works in certain cases, but when using Copy-on-Write (which will become the default behaviour in pandas 3.0) this will never work to update the original DataFrame or Series, because the intermediate object on which we are setting values will behave as a copy.\n",
      "A typical example is when you are setting values in a column of a DataFrame, like:\n",
      "\n",
      "df[\"col\"][row_indexer] = value\n",
      "\n",
      "Use `df.loc[row_indexer, \"col\"] = values` instead, to perform the assignment in a single step and ensure this keeps updating the original `df`.\n",
      "\n",
      "See the caveats in the documentation: https://pandas.pydata.org/pandas-docs/stable/user_guide/indexing.html#returning-a-view-versus-a-copy\n",
      "\n",
      "  wea['最低温'][455] = '0'\n"
     ]
    }
   ],
   "source": [
    "# 原值为''，无法转换，现直接赋值变为str型\n",
    "wea['最低温'][455] = '0'"
   ]
  },
  {
   "cell_type": "code",
   "execution_count": 7,
   "id": "a7a41ce4-83d5-4454-bead-345b8ae49e35",
   "metadata": {
    "collapsed": true,
    "jupyter": {
     "outputs_hidden": true,
     "source_hidden": true
    },
    "scrolled": true
   },
   "outputs": [
    {
     "name": "stderr",
     "output_type": "stream",
     "text": [
      "C:\\Users\\THE KEY\\AppData\\Local\\Temp\\ipykernel_7440\\1614306433.py:7: FutureWarning: ChainedAssignmentError: behaviour will change in pandas 3.0!\n",
      "You are setting values through chained assignment. Currently this works in certain cases, but when using Copy-on-Write (which will become the default behaviour in pandas 3.0) this will never work to update the original DataFrame or Series, because the intermediate object on which we are setting values will behave as a copy.\n",
      "A typical example is when you are setting values in a column of a DataFrame, like:\n",
      "\n",
      "df[\"col\"][row_indexer] = value\n",
      "\n",
      "Use `df.loc[row_indexer, \"col\"] = values` instead, to perform the assignment in a single step and ensure this keeps updating the original `df`.\n",
      "\n",
      "See the caveats in the documentation: https://pandas.pydata.org/pandas-docs/stable/user_guide/indexing.html#returning-a-view-versus-a-copy\n",
      "\n",
      "  wea['最低温'][j] = num_int\n"
     ]
    }
   ],
   "source": [
    "j = 0\n",
    "k = 0\n",
    "while k < 4006:\n",
    "    if type(wea['最低温'][j]) == str:\n",
    "        num_str = wea['最低温'][j]\n",
    "        num_int = int(num_str)\n",
    "        wea['最低温'][j] = num_int\n",
    "        j += 1\n",
    "        k += 1\n",
    "    '''elif wea['最低温'][j] == '':\n",
    "        wea['最低温'][j] = '0'\n",
    "        num_str = wea['最低温'][j]\n",
    "        num_int = int(num_str)\n",
    "        wea['最低温'][j] = num_int\n",
    "'''"
   ]
  },
  {
   "cell_type": "markdown",
   "id": "f6f871e4-48bb-4c4c-bda9-af06452e3ae7",
   "metadata": {},
   "source": [
    "### -------------------------------------------------"
   ]
  },
  {
   "cell_type": "code",
   "execution_count": 8,
   "id": "edc10400-93a3-45de-b024-935effb6ce08",
   "metadata": {},
   "outputs": [
    {
     "data": {
      "text/html": [
       "<div>\n",
       "<style scoped>\n",
       "    .dataframe tbody tr th:only-of-type {\n",
       "        vertical-align: middle;\n",
       "    }\n",
       "\n",
       "    .dataframe tbody tr th {\n",
       "        vertical-align: top;\n",
       "    }\n",
       "\n",
       "    .dataframe thead th {\n",
       "        text-align: right;\n",
       "    }\n",
       "</style>\n",
       "<table border=\"1\" class=\"dataframe\">\n",
       "  <thead>\n",
       "    <tr style=\"text-align: right;\">\n",
       "      <th></th>\n",
       "      <th>日期</th>\n",
       "      <th>最高温</th>\n",
       "      <th>最低温</th>\n",
       "      <th>天气</th>\n",
       "      <th>风力风向</th>\n",
       "      <th>空气质量指数</th>\n",
       "    </tr>\n",
       "  </thead>\n",
       "  <tbody>\n",
       "    <tr>\n",
       "      <th>0</th>\n",
       "      <td>2011-01-01 周六</td>\n",
       "      <td>-2</td>\n",
       "      <td>-7</td>\n",
       "      <td>多云~阴</td>\n",
       "      <td>无持续风向微风</td>\n",
       "      <td>NaN</td>\n",
       "    </tr>\n",
       "    <tr>\n",
       "      <th>1</th>\n",
       "      <td>2011-01-02 周日</td>\n",
       "      <td>-2</td>\n",
       "      <td>-7</td>\n",
       "      <td>多云</td>\n",
       "      <td>无持续风向微风</td>\n",
       "      <td>NaN</td>\n",
       "    </tr>\n",
       "    <tr>\n",
       "      <th>2</th>\n",
       "      <td>2011-01-03 周一</td>\n",
       "      <td>-2</td>\n",
       "      <td>-6</td>\n",
       "      <td>多云~阴</td>\n",
       "      <td>西北风~北风3-4级~4-5级</td>\n",
       "      <td>NaN</td>\n",
       "    </tr>\n",
       "    <tr>\n",
       "      <th>3</th>\n",
       "      <td>2011-01-04 周二</td>\n",
       "      <td>-2</td>\n",
       "      <td>-9</td>\n",
       "      <td>晴</td>\n",
       "      <td>北风5-6级</td>\n",
       "      <td>NaN</td>\n",
       "    </tr>\n",
       "    <tr>\n",
       "      <th>4</th>\n",
       "      <td>2011-01-05 周三</td>\n",
       "      <td>-2</td>\n",
       "      <td>-10</td>\n",
       "      <td>晴</td>\n",
       "      <td>北风~无持续风向3-4级~微风</td>\n",
       "      <td>NaN</td>\n",
       "    </tr>\n",
       "  </tbody>\n",
       "</table>\n",
       "</div>"
      ],
      "text/plain": [
       "              日期 最高温  最低温    天气             风力风向 空气质量指数\n",
       "0  2011-01-01 周六  -2   -7  多云~阴          无持续风向微风    NaN\n",
       "1  2011-01-02 周日  -2   -7    多云          无持续风向微风    NaN\n",
       "2  2011-01-03 周一  -2   -6  多云~阴  西北风~北风3-4级~4-5级    NaN\n",
       "3  2011-01-04 周二  -2   -9     晴           北风5-6级    NaN\n",
       "4  2011-01-05 周三  -2  -10     晴  北风~无持续风向3-4级~微风    NaN"
      ]
     },
     "execution_count": 8,
     "metadata": {},
     "output_type": "execute_result"
    }
   ],
   "source": [
    "wea.head()"
   ]
  },
  {
   "cell_type": "markdown",
   "id": "30ca0ba1-6700-49c3-9b29-09da37fb087a",
   "metadata": {},
   "source": [
    "###  新增一列示例"
   ]
  },
  {
   "cell_type": "code",
   "execution_count": 9,
   "id": "9ddf52bc-9464-4f15-9995-0c3d5365e606",
   "metadata": {},
   "outputs": [],
   "source": [
    "wea.loc[:,'温差'] = wea['最高温'] - wea['最低温']"
   ]
  },
  {
   "cell_type": "code",
   "execution_count": 10,
   "id": "e3d67382-fdc3-429d-8159-97b231c7c05e",
   "metadata": {},
   "outputs": [
    {
     "data": {
      "text/html": [
       "<div>\n",
       "<style scoped>\n",
       "    .dataframe tbody tr th:only-of-type {\n",
       "        vertical-align: middle;\n",
       "    }\n",
       "\n",
       "    .dataframe tbody tr th {\n",
       "        vertical-align: top;\n",
       "    }\n",
       "\n",
       "    .dataframe thead th {\n",
       "        text-align: right;\n",
       "    }\n",
       "</style>\n",
       "<table border=\"1\" class=\"dataframe\">\n",
       "  <thead>\n",
       "    <tr style=\"text-align: right;\">\n",
       "      <th></th>\n",
       "      <th>日期</th>\n",
       "      <th>最高温</th>\n",
       "      <th>最低温</th>\n",
       "      <th>天气</th>\n",
       "      <th>风力风向</th>\n",
       "      <th>空气质量指数</th>\n",
       "      <th>温差</th>\n",
       "    </tr>\n",
       "  </thead>\n",
       "  <tbody>\n",
       "    <tr>\n",
       "      <th>0</th>\n",
       "      <td>2011-01-01 周六</td>\n",
       "      <td>-2</td>\n",
       "      <td>-7</td>\n",
       "      <td>多云~阴</td>\n",
       "      <td>无持续风向微风</td>\n",
       "      <td>NaN</td>\n",
       "      <td>5</td>\n",
       "    </tr>\n",
       "    <tr>\n",
       "      <th>1</th>\n",
       "      <td>2011-01-02 周日</td>\n",
       "      <td>-2</td>\n",
       "      <td>-7</td>\n",
       "      <td>多云</td>\n",
       "      <td>无持续风向微风</td>\n",
       "      <td>NaN</td>\n",
       "      <td>5</td>\n",
       "    </tr>\n",
       "    <tr>\n",
       "      <th>2</th>\n",
       "      <td>2011-01-03 周一</td>\n",
       "      <td>-2</td>\n",
       "      <td>-6</td>\n",
       "      <td>多云~阴</td>\n",
       "      <td>西北风~北风3-4级~4-5级</td>\n",
       "      <td>NaN</td>\n",
       "      <td>4</td>\n",
       "    </tr>\n",
       "    <tr>\n",
       "      <th>3</th>\n",
       "      <td>2011-01-04 周二</td>\n",
       "      <td>-2</td>\n",
       "      <td>-9</td>\n",
       "      <td>晴</td>\n",
       "      <td>北风5-6级</td>\n",
       "      <td>NaN</td>\n",
       "      <td>7</td>\n",
       "    </tr>\n",
       "    <tr>\n",
       "      <th>4</th>\n",
       "      <td>2011-01-05 周三</td>\n",
       "      <td>-2</td>\n",
       "      <td>-10</td>\n",
       "      <td>晴</td>\n",
       "      <td>北风~无持续风向3-4级~微风</td>\n",
       "      <td>NaN</td>\n",
       "      <td>8</td>\n",
       "    </tr>\n",
       "  </tbody>\n",
       "</table>\n",
       "</div>"
      ],
      "text/plain": [
       "              日期 最高温  最低温    天气             风力风向 空气质量指数 温差\n",
       "0  2011-01-01 周六  -2   -7  多云~阴          无持续风向微风    NaN  5\n",
       "1  2011-01-02 周日  -2   -7    多云          无持续风向微风    NaN  5\n",
       "2  2011-01-03 周一  -2   -6  多云~阴  西北风~北风3-4级~4-5级    NaN  4\n",
       "3  2011-01-04 周二  -2   -9     晴           北风5-6级    NaN  7\n",
       "4  2011-01-05 周三  -2  -10     晴  北风~无持续风向3-4级~微风    NaN  8"
      ]
     },
     "execution_count": 10,
     "metadata": {},
     "output_type": "execute_result"
    }
   ],
   "source": [
    "wea.head()"
   ]
  },
  {
   "cell_type": "markdown",
   "id": "cfb2cc9d-34d5-4f63-a0aa-4f1bf789ddc2",
   "metadata": {},
   "source": [
    "###  -------------------------------------------------------"
   ]
  },
  {
   "cell_type": "markdown",
   "id": "5d1a5fa0-3c3e-40c7-a788-de019e94f6af",
   "metadata": {},
   "source": [
    "###  .apply方法"
   ]
  },
  {
   "cell_type": "code",
   "execution_count": 11,
   "id": "7b43b6ce-9b18-46b6-bddb-1c88f9089936",
   "metadata": {},
   "outputs": [],
   "source": [
    "def tem_type(x):\n",
    "    if x['最高温'] > 30:\n",
    "        return '高温'\n",
    "    if x['最低温'] < -5:\n",
    "        return '低温'\n",
    "    return '常温'\n",
    "\n",
    "wea.loc[:,'温度类型'] = wea.apply(tem_type, axis = 1)"
   ]
  },
  {
   "cell_type": "code",
   "execution_count": 12,
   "id": "95b5e783-dcec-46a4-8d89-e3aa832d8429",
   "metadata": {
    "collapsed": true,
    "jupyter": {
     "outputs_hidden": true
    }
   },
   "outputs": [
    {
     "data": {
      "text/plain": [
       "温度类型\n",
       "常温    2778\n",
       "高温     724\n",
       "低温     504\n",
       "Name: count, dtype: int64"
      ]
     },
     "execution_count": 12,
     "metadata": {},
     "output_type": "execute_result"
    }
   ],
   "source": [
    "wea['温度类型'].value_counts()"
   ]
  },
  {
   "cell_type": "markdown",
   "id": "5dcc92bf-316f-46c2-bc0d-16b2a0c0dc3f",
   "metadata": {},
   "source": [
    "###  -----------------------------------------------------------"
   ]
  },
  {
   "cell_type": "markdown",
   "id": "3f3ac96d-49e1-4cd8-9db5-7aa59d978c4a",
   "metadata": {},
   "source": [
    "###    .assign方法"
   ]
  },
  {
   "cell_type": "code",
   "execution_count": 13,
   "id": "97d0b121-9c55-4dcf-8839-1c013479fff7",
   "metadata": {
    "collapsed": true,
    "jupyter": {
     "outputs_hidden": true
    }
   },
   "outputs": [
    {
     "data": {
      "text/html": [
       "<div>\n",
       "<style scoped>\n",
       "    .dataframe tbody tr th:only-of-type {\n",
       "        vertical-align: middle;\n",
       "    }\n",
       "\n",
       "    .dataframe tbody tr th {\n",
       "        vertical-align: top;\n",
       "    }\n",
       "\n",
       "    .dataframe thead th {\n",
       "        text-align: right;\n",
       "    }\n",
       "</style>\n",
       "<table border=\"1\" class=\"dataframe\">\n",
       "  <thead>\n",
       "    <tr style=\"text-align: right;\">\n",
       "      <th></th>\n",
       "      <th>日期</th>\n",
       "      <th>最高温</th>\n",
       "      <th>最低温</th>\n",
       "      <th>天气</th>\n",
       "      <th>风力风向</th>\n",
       "      <th>空气质量指数</th>\n",
       "      <th>温差</th>\n",
       "      <th>温度类型</th>\n",
       "      <th>最高温华氏度</th>\n",
       "      <th>最低温华氏度</th>\n",
       "    </tr>\n",
       "  </thead>\n",
       "  <tbody>\n",
       "    <tr>\n",
       "      <th>0</th>\n",
       "      <td>2011-01-01 周六</td>\n",
       "      <td>-2</td>\n",
       "      <td>-7</td>\n",
       "      <td>多云~阴</td>\n",
       "      <td>无持续风向微风</td>\n",
       "      <td>NaN</td>\n",
       "      <td>5</td>\n",
       "      <td>低温</td>\n",
       "      <td>28.4</td>\n",
       "      <td>19.4</td>\n",
       "    </tr>\n",
       "    <tr>\n",
       "      <th>1</th>\n",
       "      <td>2011-01-02 周日</td>\n",
       "      <td>-2</td>\n",
       "      <td>-7</td>\n",
       "      <td>多云</td>\n",
       "      <td>无持续风向微风</td>\n",
       "      <td>NaN</td>\n",
       "      <td>5</td>\n",
       "      <td>低温</td>\n",
       "      <td>28.4</td>\n",
       "      <td>19.4</td>\n",
       "    </tr>\n",
       "    <tr>\n",
       "      <th>2</th>\n",
       "      <td>2011-01-03 周一</td>\n",
       "      <td>-2</td>\n",
       "      <td>-6</td>\n",
       "      <td>多云~阴</td>\n",
       "      <td>西北风~北风3-4级~4-5级</td>\n",
       "      <td>NaN</td>\n",
       "      <td>4</td>\n",
       "      <td>低温</td>\n",
       "      <td>28.4</td>\n",
       "      <td>21.2</td>\n",
       "    </tr>\n",
       "    <tr>\n",
       "      <th>3</th>\n",
       "      <td>2011-01-04 周二</td>\n",
       "      <td>-2</td>\n",
       "      <td>-9</td>\n",
       "      <td>晴</td>\n",
       "      <td>北风5-6级</td>\n",
       "      <td>NaN</td>\n",
       "      <td>7</td>\n",
       "      <td>低温</td>\n",
       "      <td>28.4</td>\n",
       "      <td>15.8</td>\n",
       "    </tr>\n",
       "    <tr>\n",
       "      <th>4</th>\n",
       "      <td>2011-01-05 周三</td>\n",
       "      <td>-2</td>\n",
       "      <td>-10</td>\n",
       "      <td>晴</td>\n",
       "      <td>北风~无持续风向3-4级~微风</td>\n",
       "      <td>NaN</td>\n",
       "      <td>8</td>\n",
       "      <td>低温</td>\n",
       "      <td>28.4</td>\n",
       "      <td>14.0</td>\n",
       "    </tr>\n",
       "    <tr>\n",
       "      <th>...</th>\n",
       "      <td>...</td>\n",
       "      <td>...</td>\n",
       "      <td>...</td>\n",
       "      <td>...</td>\n",
       "      <td>...</td>\n",
       "      <td>...</td>\n",
       "      <td>...</td>\n",
       "      <td>...</td>\n",
       "      <td>...</td>\n",
       "      <td>...</td>\n",
       "    </tr>\n",
       "    <tr>\n",
       "      <th>4001</th>\n",
       "      <td>2021-12-27 周一</td>\n",
       "      <td>6</td>\n",
       "      <td>-8</td>\n",
       "      <td>晴</td>\n",
       "      <td>西北风1级</td>\n",
       "      <td>56 良</td>\n",
       "      <td>14</td>\n",
       "      <td>低温</td>\n",
       "      <td>42.8</td>\n",
       "      <td>17.6</td>\n",
       "    </tr>\n",
       "    <tr>\n",
       "      <th>4002</th>\n",
       "      <td>2021-12-28 周二</td>\n",
       "      <td>6</td>\n",
       "      <td>-5</td>\n",
       "      <td>多云~晴</td>\n",
       "      <td>西北风1级</td>\n",
       "      <td>64 良</td>\n",
       "      <td>11</td>\n",
       "      <td>常温</td>\n",
       "      <td>42.8</td>\n",
       "      <td>23.0</td>\n",
       "    </tr>\n",
       "    <tr>\n",
       "      <th>4003</th>\n",
       "      <td>2021-12-29 周三</td>\n",
       "      <td>5</td>\n",
       "      <td>-5</td>\n",
       "      <td>晴</td>\n",
       "      <td>西北风3级</td>\n",
       "      <td>43 优</td>\n",
       "      <td>10</td>\n",
       "      <td>常温</td>\n",
       "      <td>41.0</td>\n",
       "      <td>23.0</td>\n",
       "    </tr>\n",
       "    <tr>\n",
       "      <th>4004</th>\n",
       "      <td>2021-12-30 周四</td>\n",
       "      <td>6</td>\n",
       "      <td>-7</td>\n",
       "      <td>晴</td>\n",
       "      <td>西北风3级</td>\n",
       "      <td>38 优</td>\n",
       "      <td>13</td>\n",
       "      <td>低温</td>\n",
       "      <td>42.8</td>\n",
       "      <td>19.4</td>\n",
       "    </tr>\n",
       "    <tr>\n",
       "      <th>4005</th>\n",
       "      <td>2021-12-31 周五</td>\n",
       "      <td>5</td>\n",
       "      <td>-7</td>\n",
       "      <td>晴</td>\n",
       "      <td>东北风1级</td>\n",
       "      <td>44 优</td>\n",
       "      <td>12</td>\n",
       "      <td>低温</td>\n",
       "      <td>41.0</td>\n",
       "      <td>19.4</td>\n",
       "    </tr>\n",
       "  </tbody>\n",
       "</table>\n",
       "<p>4006 rows × 10 columns</p>\n",
       "</div>"
      ],
      "text/plain": [
       "                 日期 最高温  最低温    天气             风力风向 空气质量指数  温差 温度类型 最高温华氏度  \\\n",
       "0     2011-01-01 周六  -2   -7  多云~阴          无持续风向微风    NaN   5   低温   28.4   \n",
       "1     2011-01-02 周日  -2   -7    多云          无持续风向微风    NaN   5   低温   28.4   \n",
       "2     2011-01-03 周一  -2   -6  多云~阴  西北风~北风3-4级~4-5级    NaN   4   低温   28.4   \n",
       "3     2011-01-04 周二  -2   -9     晴           北风5-6级    NaN   7   低温   28.4   \n",
       "4     2011-01-05 周三  -2  -10     晴  北风~无持续风向3-4级~微风    NaN   8   低温   28.4   \n",
       "...             ...  ..  ...   ...              ...    ...  ..  ...    ...   \n",
       "4001  2021-12-27 周一   6   -8     晴            西北风1级   56 良  14   低温   42.8   \n",
       "4002  2021-12-28 周二   6   -5  多云~晴            西北风1级   64 良  11   常温   42.8   \n",
       "4003  2021-12-29 周三   5   -5     晴            西北风3级   43 优  10   常温   41.0   \n",
       "4004  2021-12-30 周四   6   -7     晴            西北风3级   38 优  13   低温   42.8   \n",
       "4005  2021-12-31 周五   5   -7     晴            东北风1级   44 优  12   低温   41.0   \n",
       "\n",
       "     最低温华氏度  \n",
       "0      19.4  \n",
       "1      19.4  \n",
       "2      21.2  \n",
       "3      15.8  \n",
       "4      14.0  \n",
       "...     ...  \n",
       "4001   17.6  \n",
       "4002   23.0  \n",
       "4003   23.0  \n",
       "4004   19.4  \n",
       "4005   19.4  \n",
       "\n",
       "[4006 rows x 10 columns]"
      ]
     },
     "execution_count": 13,
     "metadata": {},
     "output_type": "execute_result"
    }
   ],
   "source": [
    "wea.assign(\n",
    "    最高温华氏度 = lambda x : x['最高温']*9 / 5 + 32,\n",
    "    最低温华氏度 = lambda x : x['最低温']*9 / 5 + 32\n",
    ")"
   ]
  },
  {
   "cell_type": "markdown",
   "id": "3ab3cfd2-90f7-4f77-a479-5f83e0075298",
   "metadata": {},
   "source": [
    "### ------------------------------------------------------------------"
   ]
  },
  {
   "cell_type": "code",
   "execution_count": 14,
   "id": "8e8b62a5-b9b0-45f0-84d5-bea73f45d5f1",
   "metadata": {},
   "outputs": [],
   "source": [
    "# 创建新的列，先赋值为空"
   ]
  },
  {
   "cell_type": "code",
   "execution_count": 15,
   "id": "03599fd2-171e-46ef-a173-3294432c6b56",
   "metadata": {},
   "outputs": [],
   "source": [
    "wea['温差类型'] = ''"
   ]
  },
  {
   "cell_type": "code",
   "execution_count": 16,
   "id": "a83a5001-b322-4f62-9d77-dacc89612542",
   "metadata": {},
   "outputs": [],
   "source": [
    "wea.loc[(wea['最高温'] - wea['最低温']) > 15, '温差类型'] = '温差大'\n",
    "wea.loc[(wea['最高温'] - wea['最低温']) <= 15, '温差类型'] = '温差正常'"
   ]
  },
  {
   "cell_type": "code",
   "execution_count": 17,
   "id": "e933bb88-56a7-4207-ac27-00998cd11fd2",
   "metadata": {
    "collapsed": true,
    "jupyter": {
     "outputs_hidden": true
    }
   },
   "outputs": [
    {
     "data": {
      "text/plain": [
       "温差类型\n",
       "温差正常    3887\n",
       "温差大      119\n",
       "Name: count, dtype: int64"
      ]
     },
     "execution_count": 17,
     "metadata": {},
     "output_type": "execute_result"
    }
   ],
   "source": [
    "wea['温差类型'].value_counts()"
   ]
  },
  {
   "cell_type": "code",
   "execution_count": 18,
   "id": "7232e8ad-c478-4f59-8c3d-69a967893151",
   "metadata": {
    "collapsed": true,
    "jupyter": {
     "outputs_hidden": true
    }
   },
   "outputs": [
    {
     "data": {
      "text/html": [
       "<div>\n",
       "<style scoped>\n",
       "    .dataframe tbody tr th:only-of-type {\n",
       "        vertical-align: middle;\n",
       "    }\n",
       "\n",
       "    .dataframe tbody tr th {\n",
       "        vertical-align: top;\n",
       "    }\n",
       "\n",
       "    .dataframe thead th {\n",
       "        text-align: right;\n",
       "    }\n",
       "</style>\n",
       "<table border=\"1\" class=\"dataframe\">\n",
       "  <thead>\n",
       "    <tr style=\"text-align: right;\">\n",
       "      <th></th>\n",
       "      <th>日期</th>\n",
       "      <th>最高温</th>\n",
       "      <th>最低温</th>\n",
       "      <th>天气</th>\n",
       "      <th>风力风向</th>\n",
       "      <th>空气质量指数</th>\n",
       "      <th>温差</th>\n",
       "      <th>温度类型</th>\n",
       "      <th>温差类型</th>\n",
       "    </tr>\n",
       "  </thead>\n",
       "  <tbody>\n",
       "    <tr>\n",
       "      <th>0</th>\n",
       "      <td>2011-01-01 周六</td>\n",
       "      <td>-2</td>\n",
       "      <td>-7</td>\n",
       "      <td>多云~阴</td>\n",
       "      <td>无持续风向微风</td>\n",
       "      <td>NaN</td>\n",
       "      <td>5</td>\n",
       "      <td>低温</td>\n",
       "      <td>温差正常</td>\n",
       "    </tr>\n",
       "    <tr>\n",
       "      <th>1</th>\n",
       "      <td>2011-01-02 周日</td>\n",
       "      <td>-2</td>\n",
       "      <td>-7</td>\n",
       "      <td>多云</td>\n",
       "      <td>无持续风向微风</td>\n",
       "      <td>NaN</td>\n",
       "      <td>5</td>\n",
       "      <td>低温</td>\n",
       "      <td>温差正常</td>\n",
       "    </tr>\n",
       "    <tr>\n",
       "      <th>2</th>\n",
       "      <td>2011-01-03 周一</td>\n",
       "      <td>-2</td>\n",
       "      <td>-6</td>\n",
       "      <td>多云~阴</td>\n",
       "      <td>西北风~北风3-4级~4-5级</td>\n",
       "      <td>NaN</td>\n",
       "      <td>4</td>\n",
       "      <td>低温</td>\n",
       "      <td>温差正常</td>\n",
       "    </tr>\n",
       "    <tr>\n",
       "      <th>3</th>\n",
       "      <td>2011-01-04 周二</td>\n",
       "      <td>-2</td>\n",
       "      <td>-9</td>\n",
       "      <td>晴</td>\n",
       "      <td>北风5-6级</td>\n",
       "      <td>NaN</td>\n",
       "      <td>7</td>\n",
       "      <td>低温</td>\n",
       "      <td>温差正常</td>\n",
       "    </tr>\n",
       "    <tr>\n",
       "      <th>4</th>\n",
       "      <td>2011-01-05 周三</td>\n",
       "      <td>-2</td>\n",
       "      <td>-10</td>\n",
       "      <td>晴</td>\n",
       "      <td>北风~无持续风向3-4级~微风</td>\n",
       "      <td>NaN</td>\n",
       "      <td>8</td>\n",
       "      <td>低温</td>\n",
       "      <td>温差正常</td>\n",
       "    </tr>\n",
       "  </tbody>\n",
       "</table>\n",
       "</div>"
      ],
      "text/plain": [
       "              日期 最高温  最低温    天气             风力风向 空气质量指数 温差 温度类型  温差类型\n",
       "0  2011-01-01 周六  -2   -7  多云~阴          无持续风向微风    NaN  5   低温  温差正常\n",
       "1  2011-01-02 周日  -2   -7    多云          无持续风向微风    NaN  5   低温  温差正常\n",
       "2  2011-01-03 周一  -2   -6  多云~阴  西北风~北风3-4级~4-5级    NaN  4   低温  温差正常\n",
       "3  2011-01-04 周二  -2   -9     晴           北风5-6级    NaN  7   低温  温差正常\n",
       "4  2011-01-05 周三  -2  -10     晴  北风~无持续风向3-4级~微风    NaN  8   低温  温差正常"
      ]
     },
     "execution_count": 18,
     "metadata": {},
     "output_type": "execute_result"
    }
   ],
   "source": [
    "wea.head()"
   ]
  }
 ],
 "metadata": {
  "kernelspec": {
   "display_name": "Python 3 (ipykernel)",
   "language": "python",
   "name": "python3"
  },
  "language_info": {
   "codemirror_mode": {
    "name": "ipython",
    "version": 3
   },
   "file_extension": ".py",
   "mimetype": "text/x-python",
   "name": "python",
   "nbconvert_exporter": "python",
   "pygments_lexer": "ipython3",
   "version": "3.12.7"
  }
 },
 "nbformat": 4,
 "nbformat_minor": 5
}
