{
 "cells": [
  {
   "cell_type": "code",
   "execution_count": 1,
   "id": "7d1ed4ac-4468-4434-a5ad-d6094c07e848",
   "metadata": {},
   "outputs": [],
   "source": [
    "import pandas as pd\n",
    "df = \"C:/Users/THE KEY/Desktop/python_datum/pandas/data/weather/weather_beijing.xlsx\"\n",
    "wea = pd.read_excel(df)\n",
    "wea = pd.DataFrame(wea)"
   ]
  },
  {
   "cell_type": "code",
   "execution_count": 2,
   "id": "f47ccc6e-8512-4e3a-ae6f-530f38806b1d",
   "metadata": {},
   "outputs": [],
   "source": [
    "wea.loc[:,'最高温'] = wea['最高温'].str.replace(\"°\",\"\").astype(int)\n",
    "wea.loc[:,'最低温'] = wea['最低温'].str.strip(\"°\")"
   ]
  },
  {
   "cell_type": "code",
   "execution_count": 3,
   "id": "44ed9bbf-acc7-4ee3-a3f7-a60bb9617b90",
   "metadata": {},
   "outputs": [],
   "source": [
    "# 找出特殊群体nan\n",
    "i = 0\n",
    "for x in wea['最低温']:\n",
    "    i += 1\n",
    "    if x == 'nan':\n",
    "        print(x)\n",
    "        print(i)\n",
    "#是 0 ，8 ，100，它们是nan，已改正type(wea['最低温'][0])"
   ]
  },
  {
   "cell_type": "code",
   "execution_count": 4,
   "id": "50ec0f03-30ba-42b9-9657-6117f3e70dc6",
   "metadata": {
    "collapsed": true,
    "jupyter": {
     "outputs_hidden": true
    }
   },
   "outputs": [
    {
     "name": "stderr",
     "output_type": "stream",
     "text": [
      "C:\\Users\\THE KEY\\AppData\\Local\\Temp\\ipykernel_20184\\1889151381.py:2: FutureWarning: ChainedAssignmentError: behaviour will change in pandas 3.0!\n",
      "You are setting values through chained assignment. Currently this works in certain cases, but when using Copy-on-Write (which will become the default behaviour in pandas 3.0) this will never work to update the original DataFrame or Series, because the intermediate object on which we are setting values will behave as a copy.\n",
      "A typical example is when you are setting values in a column of a DataFrame, like:\n",
      "\n",
      "df[\"col\"][row_indexer] = value\n",
      "\n",
      "Use `df.loc[row_indexer, \"col\"] = values` instead, to perform the assignment in a single step and ensure this keeps updating the original `df`.\n",
      "\n",
      "See the caveats in the documentation: https://pandas.pydata.org/pandas-docs/stable/user_guide/indexing.html#returning-a-view-versus-a-copy\n",
      "\n",
      "  wea['最低温'][0] = '-7'\n",
      "C:\\Users\\THE KEY\\AppData\\Local\\Temp\\ipykernel_20184\\1889151381.py:4: FutureWarning: ChainedAssignmentError: behaviour will change in pandas 3.0!\n",
      "You are setting values through chained assignment. Currently this works in certain cases, but when using Copy-on-Write (which will become the default behaviour in pandas 3.0) this will never work to update the original DataFrame or Series, because the intermediate object on which we are setting values will behave as a copy.\n",
      "A typical example is when you are setting values in a column of a DataFrame, like:\n",
      "\n",
      "df[\"col\"][row_indexer] = value\n",
      "\n",
      "Use `df.loc[row_indexer, \"col\"] = values` instead, to perform the assignment in a single step and ensure this keeps updating the original `df`.\n",
      "\n",
      "See the caveats in the documentation: https://pandas.pydata.org/pandas-docs/stable/user_guide/indexing.html#returning-a-view-versus-a-copy\n",
      "\n",
      "  wea['最低温'][8] = '-9'\n",
      "C:\\Users\\THE KEY\\AppData\\Local\\Temp\\ipykernel_20184\\1889151381.py:6: FutureWarning: ChainedAssignmentError: behaviour will change in pandas 3.0!\n",
      "You are setting values through chained assignment. Currently this works in certain cases, but when using Copy-on-Write (which will become the default behaviour in pandas 3.0) this will never work to update the original DataFrame or Series, because the intermediate object on which we are setting values will behave as a copy.\n",
      "A typical example is when you are setting values in a column of a DataFrame, like:\n",
      "\n",
      "df[\"col\"][row_indexer] = value\n",
      "\n",
      "Use `df.loc[row_indexer, \"col\"] = values` instead, to perform the assignment in a single step and ensure this keeps updating the original `df`.\n",
      "\n",
      "See the caveats in the documentation: https://pandas.pydata.org/pandas-docs/stable/user_guide/indexing.html#returning-a-view-versus-a-copy\n",
      "\n",
      "  wea['最低温'][100] = '9'\n"
     ]
    },
    {
     "data": {
      "text/plain": [
       "str"
      ]
     },
     "execution_count": 4,
     "metadata": {},
     "output_type": "execute_result"
    }
   ],
   "source": [
    "# 手动赋值,先搞成str类型\n",
    "wea['最低温'][0] = '-7'\n",
    "type(wea['最低温'][0])\n",
    "wea['最低温'][8] = '-9'\n",
    "type(wea['最低温'][8])\n",
    "wea['最低温'][100] = '9'\n",
    "type(wea['最低温'][100])"
   ]
  },
  {
   "cell_type": "code",
   "execution_count": 5,
   "id": "728ac88c-a14b-4524-9bc0-fb613ac9e3f4",
   "metadata": {
    "collapsed": true,
    "jupyter": {
     "outputs_hidden": true
    },
    "scrolled": true
   },
   "outputs": [
    {
     "name": "stderr",
     "output_type": "stream",
     "text": [
      "C:\\Users\\THE KEY\\AppData\\Local\\Temp\\ipykernel_20184\\2818861463.py:2: FutureWarning: ChainedAssignmentError: behaviour will change in pandas 3.0!\n",
      "You are setting values through chained assignment. Currently this works in certain cases, but when using Copy-on-Write (which will become the default behaviour in pandas 3.0) this will never work to update the original DataFrame or Series, because the intermediate object on which we are setting values will behave as a copy.\n",
      "A typical example is when you are setting values in a column of a DataFrame, like:\n",
      "\n",
      "df[\"col\"][row_indexer] = value\n",
      "\n",
      "Use `df.loc[row_indexer, \"col\"] = values` instead, to perform the assignment in a single step and ensure this keeps updating the original `df`.\n",
      "\n",
      "See the caveats in the documentation: https://pandas.pydata.org/pandas-docs/stable/user_guide/indexing.html#returning-a-view-versus-a-copy\n",
      "\n",
      "  wea['最低温'][455] = '0'\n"
     ]
    }
   ],
   "source": [
    "# 原值为''，无法转换，现直接赋值变为str型\n",
    "wea['最低温'][455] = '0'"
   ]
  },
  {
   "cell_type": "code",
   "execution_count": 6,
   "id": "aa57389d-3f4c-4f59-bea7-bc9630d7dbe4",
   "metadata": {
    "collapsed": true,
    "jupyter": {
     "outputs_hidden": true
    },
    "scrolled": true
   },
   "outputs": [
    {
     "name": "stderr",
     "output_type": "stream",
     "text": [
      "C:\\Users\\THE KEY\\AppData\\Local\\Temp\\ipykernel_20184\\706352657.py:7: FutureWarning: ChainedAssignmentError: behaviour will change in pandas 3.0!\n",
      "You are setting values through chained assignment. Currently this works in certain cases, but when using Copy-on-Write (which will become the default behaviour in pandas 3.0) this will never work to update the original DataFrame or Series, because the intermediate object on which we are setting values will behave as a copy.\n",
      "A typical example is when you are setting values in a column of a DataFrame, like:\n",
      "\n",
      "df[\"col\"][row_indexer] = value\n",
      "\n",
      "Use `df.loc[row_indexer, \"col\"] = values` instead, to perform the assignment in a single step and ensure this keeps updating the original `df`.\n",
      "\n",
      "See the caveats in the documentation: https://pandas.pydata.org/pandas-docs/stable/user_guide/indexing.html#returning-a-view-versus-a-copy\n",
      "\n",
      "  wea['最低温'][j] = num_int\n"
     ]
    }
   ],
   "source": [
    "j = 0\n",
    "k = 0\n",
    "while k < 4006:\n",
    "    if type(wea['最低温'][j]) == str:\n",
    "        num_str = wea['最低温'][j]\n",
    "        num_int = int(num_str)\n",
    "        wea['最低温'][j] = num_int\n",
    "        j += 1\n",
    "        k += 1"
   ]
  },
  {
   "cell_type": "code",
   "execution_count": 7,
   "id": "99e58f50-6c8a-4421-9bd2-d2d3ea9ab711",
   "metadata": {},
   "outputs": [],
   "source": [
    "wea.set_index('日期',inplace=True)"
   ]
  },
  {
   "cell_type": "code",
   "execution_count": 8,
   "id": "3c1ddd95-9096-431a-9652-b362505df4f9",
   "metadata": {},
   "outputs": [
    {
     "data": {
      "text/html": [
       "<div>\n",
       "<style scoped>\n",
       "    .dataframe tbody tr th:only-of-type {\n",
       "        vertical-align: middle;\n",
       "    }\n",
       "\n",
       "    .dataframe tbody tr th {\n",
       "        vertical-align: top;\n",
       "    }\n",
       "\n",
       "    .dataframe thead th {\n",
       "        text-align: right;\n",
       "    }\n",
       "</style>\n",
       "<table border=\"1\" class=\"dataframe\">\n",
       "  <thead>\n",
       "    <tr style=\"text-align: right;\">\n",
       "      <th></th>\n",
       "      <th>最高温</th>\n",
       "      <th>最低温</th>\n",
       "      <th>天气</th>\n",
       "      <th>风力风向</th>\n",
       "      <th>空气质量指数</th>\n",
       "    </tr>\n",
       "    <tr>\n",
       "      <th>日期</th>\n",
       "      <th></th>\n",
       "      <th></th>\n",
       "      <th></th>\n",
       "      <th></th>\n",
       "      <th></th>\n",
       "    </tr>\n",
       "  </thead>\n",
       "  <tbody>\n",
       "    <tr>\n",
       "      <th>2011-01-01 周六</th>\n",
       "      <td>-2</td>\n",
       "      <td>-7</td>\n",
       "      <td>多云~阴</td>\n",
       "      <td>无持续风向微风</td>\n",
       "      <td>NaN</td>\n",
       "    </tr>\n",
       "    <tr>\n",
       "      <th>2011-01-02 周日</th>\n",
       "      <td>-2</td>\n",
       "      <td>-7</td>\n",
       "      <td>多云</td>\n",
       "      <td>无持续风向微风</td>\n",
       "      <td>NaN</td>\n",
       "    </tr>\n",
       "    <tr>\n",
       "      <th>2011-01-03 周一</th>\n",
       "      <td>-2</td>\n",
       "      <td>-6</td>\n",
       "      <td>多云~阴</td>\n",
       "      <td>西北风~北风3-4级~4-5级</td>\n",
       "      <td>NaN</td>\n",
       "    </tr>\n",
       "    <tr>\n",
       "      <th>2011-01-04 周二</th>\n",
       "      <td>-2</td>\n",
       "      <td>-9</td>\n",
       "      <td>晴</td>\n",
       "      <td>北风5-6级</td>\n",
       "      <td>NaN</td>\n",
       "    </tr>\n",
       "    <tr>\n",
       "      <th>2011-01-05 周三</th>\n",
       "      <td>-2</td>\n",
       "      <td>-10</td>\n",
       "      <td>晴</td>\n",
       "      <td>北风~无持续风向3-4级~微风</td>\n",
       "      <td>NaN</td>\n",
       "    </tr>\n",
       "  </tbody>\n",
       "</table>\n",
       "</div>"
      ],
      "text/plain": [
       "              最高温  最低温    天气             风力风向 空气质量指数\n",
       "日期                                                  \n",
       "2011-01-01 周六  -2   -7  多云~阴          无持续风向微风    NaN\n",
       "2011-01-02 周日  -2   -7    多云          无持续风向微风    NaN\n",
       "2011-01-03 周一  -2   -6  多云~阴  西北风~北风3-4级~4-5级    NaN\n",
       "2011-01-04 周二  -2   -9     晴           北风5-6级    NaN\n",
       "2011-01-05 周三  -2  -10     晴  北风~无持续风向3-4级~微风    NaN"
      ]
     },
     "execution_count": 8,
     "metadata": {},
     "output_type": "execute_result"
    }
   ],
   "source": [
    "wea.head()"
   ]
  },
  {
   "cell_type": "markdown",
   "id": "0ff1f7c9-954d-44de-a92c-355b6dbd9266",
   "metadata": {},
   "source": [
    "### --------------------------------------------"
   ]
  },
  {
   "cell_type": "markdown",
   "id": "b4fcc1f8-aeb3-407f-bcac-93a7674f9510",
   "metadata": {},
   "source": [
    "### 汇总类统计"
   ]
  },
  {
   "cell_type": "code",
   "execution_count": 9,
   "id": "da5c24fd-1699-481f-95a1-35e546678275",
   "metadata": {
    "collapsed": true,
    "jupyter": {
     "outputs_hidden": true
    },
    "scrolled": true
   },
   "outputs": [
    {
     "data": {
      "text/html": [
       "<div>\n",
       "<style scoped>\n",
       "    .dataframe tbody tr th:only-of-type {\n",
       "        vertical-align: middle;\n",
       "    }\n",
       "\n",
       "    .dataframe tbody tr th {\n",
       "        vertical-align: top;\n",
       "    }\n",
       "\n",
       "    .dataframe thead th {\n",
       "        text-align: right;\n",
       "    }\n",
       "</style>\n",
       "<table border=\"1\" class=\"dataframe\">\n",
       "  <thead>\n",
       "    <tr style=\"text-align: right;\">\n",
       "      <th></th>\n",
       "      <th>最高温</th>\n",
       "      <th>最低温</th>\n",
       "      <th>天气</th>\n",
       "      <th>风力风向</th>\n",
       "      <th>空气质量指数</th>\n",
       "    </tr>\n",
       "  </thead>\n",
       "  <tbody>\n",
       "    <tr>\n",
       "      <th>count</th>\n",
       "      <td>4006</td>\n",
       "      <td>4006</td>\n",
       "      <td>4006</td>\n",
       "      <td>4006</td>\n",
       "      <td>2192</td>\n",
       "    </tr>\n",
       "    <tr>\n",
       "      <th>unique</th>\n",
       "      <td>49</td>\n",
       "      <td>45</td>\n",
       "      <td>418</td>\n",
       "      <td>98</td>\n",
       "      <td>245</td>\n",
       "    </tr>\n",
       "    <tr>\n",
       "      <th>top</th>\n",
       "      <td>30</td>\n",
       "      <td>22</td>\n",
       "      <td>晴</td>\n",
       "      <td>无持续风向微风</td>\n",
       "      <td>37 优</td>\n",
       "    </tr>\n",
       "    <tr>\n",
       "      <th>freq</th>\n",
       "      <td>194</td>\n",
       "      <td>214</td>\n",
       "      <td>985</td>\n",
       "      <td>1610</td>\n",
       "      <td>35</td>\n",
       "    </tr>\n",
       "  </tbody>\n",
       "</table>\n",
       "</div>"
      ],
      "text/plain": [
       "         最高温   最低温    天气     风力风向 空气质量指数\n",
       "count   4006  4006  4006     4006   2192\n",
       "unique    49    45   418       98    245\n",
       "top       30    22     晴  无持续风向微风   37 优\n",
       "freq     194   214   985     1610     35"
      ]
     },
     "execution_count": 9,
     "metadata": {},
     "output_type": "execute_result"
    }
   ],
   "source": [
    "# 提取所有数字列统计结果\n",
    "wea.describe()"
   ]
  },
  {
   "cell_type": "code",
   "execution_count": 10,
   "id": "9bb4cda8-95f6-4a23-9b6f-b6812b933d7e",
   "metadata": {},
   "outputs": [
    {
     "data": {
      "text/plain": [
       "18.72890664003994"
      ]
     },
     "execution_count": 10,
     "metadata": {},
     "output_type": "execute_result"
    }
   ],
   "source": [
    "# 查看单个Series数据\n",
    "wea['最高温'].mean()"
   ]
  },
  {
   "cell_type": "code",
   "execution_count": 11,
   "id": "75537b86-df8d-459c-944c-b6f327364b38",
   "metadata": {},
   "outputs": [
    {
     "data": {
      "text/plain": [
       "40"
      ]
     },
     "execution_count": 11,
     "metadata": {},
     "output_type": "execute_result"
    }
   ],
   "source": [
    "# 最大值\n",
    "wea['最高温'].max()"
   ]
  },
  {
   "cell_type": "code",
   "execution_count": 12,
   "id": "9363729e-cf71-412d-ad7f-0cb84f0f20bf",
   "metadata": {},
   "outputs": [
    {
     "data": {
      "text/plain": [
       "-11"
      ]
     },
     "execution_count": 12,
     "metadata": {},
     "output_type": "execute_result"
    }
   ],
   "source": [
    "# 最小值\n",
    "wea['最高温'].min()"
   ]
  },
  {
   "cell_type": "markdown",
   "id": "f7f66def-7c01-4c23-af4f-9e3828132636",
   "metadata": {},
   "source": [
    "### ------------------------------------------------"
   ]
  },
  {
   "cell_type": "markdown",
   "id": "0034918d-acbf-4ab5-ab7d-3595418a28c3",
   "metadata": {},
   "source": [
    "###  唯一去重和按值计数"
   ]
  },
  {
   "cell_type": "markdown",
   "id": "32aa97aa-e9aa-4e1a-bb8e-8eb8c8f7717e",
   "metadata": {},
   "source": [
    "### 针对非数值列"
   ]
  },
  {
   "cell_type": "code",
   "execution_count": 13,
   "id": "9447bb32-fa18-49c2-9812-fb17a4945da5",
   "metadata": {
    "collapsed": true,
    "jupyter": {
     "outputs_hidden": true
    },
    "scrolled": true
   },
   "outputs": [
    {
     "data": {
      "text/plain": [
       "array(['多云~阴', '多云', '晴', '晴~多云', '多云~晴', '阴~晴', '阴~多云', '多云~小雪', '小雪~晴',\n",
       "       '阴~小雪', '多云~中雪', '小雪', '小雪~阴', '晴~阴', '多云~小雨', '小雨', '阴~小雨',\n",
       "       '小雨~多云', '阴~阵雨', '阵雨~晴', '阵雨', '多云~阵雨', '中雨~小雨', '阴', '雷阵雨',\n",
       "       '雷阵雨~阵雨', '雷阵雨~晴', '多云~雷阵雨', '雷阵雨~中雨', '阴~雷阵雨', '中雨~中到大雨',\n",
       "       '小雨~中到大雨', '小到中雨~小雨', '阴~中雨', '小到中雨~中雨', '雾~多云', '大雨~大到暴雨',\n",
       "       '大雨~中雨', '晴~雷阵雨', '中雨~大到暴雨', '阵雨~中雨', '雷阵雨~多云', '雷阵雨~阴', '雾',\n",
       "       '多云~雾', '小雨~晴', '小雨~阴', '晴~小雪', '小雪~多云', '多云~雨夹雪', '雨夹雪~小雪',\n",
       "       '雾~小雨', '阵雨~阴', '多云~', '阴~中到大雨', '浮尘', '晴~阵雨', '中雨~阴', '中雨~雷阵雨',\n",
       "       '中雨', '雷阵雨~小到中雨', '小雨~雷阵雨', '中雨~暴雨', '中雨~大雨', '雷雨~阵雨', '雷雨~中雨',\n",
       "       '小到中雨~阴', '阵雨~多云', '多云~雷雨', '雷雨~阴', '阵雨~雷雨', '雷雨~大到暴雨', '晴间多云~晴',\n",
       "       '晴~雨夹雪', '阴~雾', '小雪~雾', '小雪~中雪', '雾~小雪', '小雪~多云间阴', '多云间晴~阴转晴',\n",
       "       '晴转阴~晴间多云', '晴间多云', '晴间多云~晴转多云', '多云间晴，有轻雾~多云转阴，有轻雾',\n",
       "       '阴有轻雾转小雪~小雪转多云', '晴转多云~晴间多云', '晴~晴间多云', '晴转多云~多云转阴有轻雾，北部山区有小雪',\n",
       "       '阴有雾转晴~晴间多云，有雾', '晴转多云南部地区有雾~晴间多云，有雾', '零星小雪转多云，有雾霾~晴间多云，有雾霾',\n",
       "       '晴转阴，有雾霾，西部山区有小雪~阴转小雪，并有雾', '阴有零星小雪转多云，有轻雾~多云，有轻雾',\n",
       "       '晴间多云，南部地区有雾~晴间多云，有轻度雾霾', '晴转阴、有雾霾~阴有轻度雾霾转中雪，西部中到大雪',\n",
       "       '阴有小雪~阴有零星小雪转多云，有雾', '多云转晴，有轻度雾霾~晴间多云，有轻雾',\n",
       "       '晴转多云东南地区有雾~多云转阴，有雾，东南部地区有零星小雪', '阴转多云，有雾，东部有零星小雪~阴转晴，傍晚有雾霾',\n",
       "       '晴~晴间多云，南部有轻雾', '晴间多云~晴间多云，东南部有雾', '晴间多云~晴间多云，平原地区有轻度雾霾',\n",
       "       '晴间多云、有霾~晴间多云，有雾', '多云转晴，有雾霾~有雾', '雾~多云间阴，有雾霾，东南部地区有零星小雪',\n",
       "       '多云间阴，有零星小雪，并有雾霾~阴有零星小雪，并有雾霾', '阴有小雪，并有雾霾~雾转多云，前半夜东部有小雪',\n",
       "       '晴间多云~晴转阴，早晨有小雪', '阴有小雪~雾转晴，傍晚有零星小雪', '晴~晴转阴，明晨有小雪',\n",
       "       '零星小雪转多云~晴间多云', '多云间晴，有轻微雾霾~多云间阴，有轻微雾霾', '多云转阴~阴、西南部地区有零星小雪',\n",
       "       '阴，傍晚有小雪~小雪', '晴~晴间多云，有轻雾', '晴转多云，有轻度霾~多云，有轻度雾霾', '阴天间多云~多云转晴',\n",
       "       '阴~多云间阴，有轻雾', '多云间晴~阴', '多云转晴~晴', '多云，有轻雾~轻度雾霾转晴', '晴间多云~晴转多云，有轻雾',\n",
       "       '阴天间多云，平原地区有轻度雾霾~阴有雾霾，早晨有小雪', '阴有小雪~阴转多云，有雾', '晴间多云~晴间多云，有轻雾',\n",
       "       '晴转多云，有轻度霾~晴转阴，有雾霾，东北部山区有小雨夹雪', '多云转晴，有沙尘~晴间多云，傍晚有沙尘', '多云间晴~多云转晴',\n",
       "       '晴转多云，平原地区有轻微霾~多云间阴，有轻度雾霾', '多云转晴，有轻度雾霾~晴间多云',\n",
       "       '多云间晴，有雾霾~多云转晴，有轻度雾霾', '晴转多云，有霾~多云转阴，有霾', '晴有沙尘~晴',\n",
       "       '晴转多云~有霾，早晨转阴有小雨，北部山区有雨夹雪', '阴间多云有小雨，北部山区有小雨夹雪~多云转晴，有轻雾',\n",
       "       '多云~晴间多云，有轻雾', '多云，有轻度雾霾~多云转阴有雾霾，北部有零星小雨', '晴间多云，有霾~多云间阴，有霾',\n",
       "       '晴转多云~多云转阴，北部山区有雨夹雪', '雨夹雪转中雪，北部有中-大雪~阴有小雪转晴', '多云，有轻微雾霾~多云转晴',\n",
       "       '晴间多云~晴转阴', '阴~晴间多云', '晴间多云~晴转多云，有轻微霾', '晴~霾', '阴~雨夹雪', '霾~小雨',\n",
       "       '晴转多云局部地区有沙尘~多云间晴', '多云~多云间晴', '多云~多云转阴', '多云转阴，有阵雨~多云转晴',\n",
       "       '多云转阴~阴，东部有阵雨转晴', '晴间多云~晴，有轻微霾', '晴间多云~晴间多云，有轻度雾霾', '霾~多云，有中度霾',\n",
       "       '多云间晴，有轻度霾~多云间阴，有轻度霾', '阴天间多云有轻度霾，城区和南部有小阵雨~阴天间多云有阵雨',\n",
       "       '阴有短时小阵雨~傍晚东部、南部有阵雨，夜间阴转晴', '阴~多云转晴', '晴转多云~多云间晴', '多云~多云转阴，北部有小雨',\n",
       "       '阴，北部有小雨转晴~晴间多云', '多云转晴、有霾~多云转阴，有雷阵雨', '阴，北部地区有雷阵雨转晴~晴间多云',\n",
       "       '晴间多云~多云间晴', '多云~阴天间多云，南部小阵雨', '多云间晴~阴转多云', '多云~多云转阴北部有阵雨',\n",
       "       '阴~阴北部地区有阵雨转多云', '晴转多云~多云转阴', '阴有小到中雨~阴有小雨，并有轻雾',\n",
       "       '多云，有轻雾~阴有轻雾，明晨西部有阵雨', '阴有小阵雨转多云~多云转晴', '多云转阴，北部山区有阵雨~多云转晴',\n",
       "       '晴间多云~多云间阴，北部山区有阵雨', '阴有雾霾，午后-傍晚有雷阵雨~阴有雾霾，北部阵雨转晴', '阴有阵雨，北部地区有雷电',\n",
       "       '阴有时有阵雨，有雾~阴有零星小雨，有雾', '阴有雾，有时有零星小雨~雾有小雨，北部小-中雨伴有雷电',\n",
       "       '阴有中-大雨、局部地区有暴雨，伴有雷电，有雾~阴有阵雨，有雾', '阴有阵雨~雾转中到大雨', '阴有小-中雨~阴',\n",
       "       '多云~多云转晴', '晴转多云~多云转晴', '晴转多云西部地区北部地区有雷阵雨~多云间晴', '多云间晴',\n",
       "       '晴转多云~多云有轻度雾霾', '多云间晴~多云转阴有轻度雾霾', '阴有阵雨或雷阵雨~阴有小到中雨', '多云转阴~多云转晴',\n",
       "       '多云间阴~阴天间多云', '多云间晴~阴天间多云', '阴有小雨~阴', '晴转多云~多云间阴',\n",
       "       '多云转阴有雷阵雨~阴有雷阵雨转多云', '阴天间多云~阴有雷阵雨', '雾转多云~多云', '晴转多云有轻微雾霾~傍晚到夜间',\n",
       "       '阴有轻度雾霾~阴有中到大雨', '阴~阴转阵雨', '阴有阵雨伴有弱雷电~阴有雷阵雨（局地中-大雨）',\n",
       "       '下午到夜间：雾霾转大雨~傍晚-夜间：大雨', '晴转阴~阴转晴', '晴~晴转多云', '多云转阴~多云',\n",
       "       '阴有雷阵雨或阵雨~阴有大雨', '阴有大雨~阴有小到中雨', '阴有阵雨', '阴转阵雨~阴转多云', '多云~晴转多云',\n",
       "       '阴天间多云有轻微雾霾~多云有雾霾', '多云转阴有轻度雾霾~阴转大雨', '阴有中到大雨~阴有阵雨转晴', '晴转多云',\n",
       "       '阴有阵雨或雷阵雨~阴有雷阵雨', '多云有轻度雾霾~晴间多云', '晴转阴~多云', '阴天间多云~多云转阴',\n",
       "       '晴转多云~晴转阴', '下午到夜间~阴有阵雨', '阵雨~阴转晴', '多云转阴~阴有中-大雨', '阴有中雨~阴有雷阵雨',\n",
       "       '晴转阴~阴有雷阵雨并伴有短时大风', '多云转阴傍晚有雷阵雨~阴有中雨', '阴有小到中雨~阴有阵雨转晴',\n",
       "       '下午到夜间~阴有大雨到暴雨', '阴天间多云~多云间晴', '多云~多云转阴有雷阵雨', '阴天间多云~阴有雷阵雨转多云',\n",
       "       '多云转阴~阴天间多云有阵雨', '阴有轻雾~多云间晴', '多云转晴~晴间多云', '多云间晴~晴间多云',\n",
       "       '阴有小雨~阴转中雨', '阴有零星小雨转多云~阴转晴', '阴有中雨', '晴转多云~多云间阴有短时雷阵雨', '多云转晴~多云',\n",
       "       '阴转阵雨~阴有雷阵雨', '多云~多云间阴', '多云转阴有雷阵雨~阴有雷阵雨', '阴天间多云~雾转雷阵雨',\n",
       "       '多云转阴~多云转阴有阵雨', '阴天间多云有阵雨~阴有中雨', '阴有阵雨~阴转阵雨', '阴有阵雨转多云~多云转晴',\n",
       "       '阴天间多云~阴转阵雨', '阴有分散性阵雨转多云~多云转晴', '多云转阴', '阴转多云~多云', '阴有雾霾~雾霾转阵雨',\n",
       "       '小雨转多云~晴间多云', '晴转多云有轻度霾~多云有雾和霾', '阴~阴转多云', '多云~晴间多云', '多云~阴转小阵雨',\n",
       "       '阴有小雨', '阴转多云~多云转晴', '多云转阴有轻度霾~阴有霾', '多云间晴~晴转多云', '多云转阴~雾霾',\n",
       "       '多云~多云转阴有雾霾', '阴天间多云有霾~傍晚阴', '多云转阴~多云间阴', '多云有轻度霾~多云转晴',\n",
       "       '晴转多云~多云转阴平原地区有霾', '晴转多云~多云', '晴转多云~多云转阴有小雪', '晴~晴转阴', '阴~阴有轻雾',\n",
       "       '阴转晴~晴间多云', '晴间多云~多云间阴', '多云~多云转阴有雾', '阴天间多云~阴转多云', '晴间多云~多云转晴',\n",
       "       '阴~中雪', '阴有小雪~零星小雪转多云', '阴有小雪~阴转多云有轻雾', '多云转晴~晴转多云', '多云转阴~阴有零星小雪',\n",
       "       '阴天间多云~阴有雾', '多云有霾~多云间阴', '多云转阴~阴有轻雾', '霾转阴~傍晚阴转零星小雨', '多云转阴~阴转阵雨',\n",
       "       '多云间阴有零星小雨~多云间晴', '晴间多云~多云', '多云转阴~阴', '晴间多云~晴转多云有轻度霾',\n",
       "       '多云转阴有浮尘~阴', '阴转多云~多云间阴', '多云有霾~多云间晴', '多云转阴~阴转多云', '多云间阴~多云转阴有小雨',\n",
       "       '多云~多云转阴有轻雾', '阴天间多云~晴间多云', '多云间阴', '多云转阴有雷阵雨~傍晚有浮尘',\n",
       "       '多云转阴有雷阵雨~阴有雷阵雨转晴', '晴转多云~阴转晴', '晴转阴有雷阵雨~多云间晴有扬沙', '阴~阴天间多云',\n",
       "       '阴转阵雨~阴有小?中雨', '阴有小雨转多云~阴转晴', '晴转多云~傍晚到夜间：多云', '晴转多云~傍晚多云间阴',\n",
       "       '晴转阴~阴有雷阵雨', '阴有零星小雨转多云~阴', '多云有浮尘转晴~晴间多云', '多云转阴~阴有阵雨',\n",
       "       '阴天间多云~傍晚大部地区有雷阵雨', '多云转阴有雷阵雨~傍晚阴有弱雷阵雨', '阴有中-大雨~阴',\n",
       "       '多云转阴有雷阵雨伴有短时大风~傍晚阴有雷阵雨伴有短时大风', '晴转阴有雷阵雨~多云间晴',\n",
       "       '阴天间多云有雷阵雨~傍晚到夜间：阴有雷阵雨转多云', '多云转阴有雷阵雨~傍晚阴有雷阵雨', '晴转多云~傍晚多云',\n",
       "       '多云转阴有雷阵雨~雷阵雨转阴', '下午到夜间：中-大雨~傍晚到前半夜阴有中雨', '多云转阴有雷阵雨~傍晚阴有中雨',\n",
       "       '晴转阴有雷阵雨~傍晚阴', '多云间晴~多云间阴', '多云转阴有雷阵雨~多云转晴', '晴转多云~多云转阴有雷阵雨',\n",
       "       '阴转雷阵雨~阴有雷阵雨转多云', '晴转阴~傍晚多云间阴', '多云间晴~多云', '下午到夜间阴转大雨~傍晚到夜间阴有大雨',\n",
       "       '阴天间多云~阴', '轻雾转雷阵雨~傍晚-夜间阴有雷阵雨转多云', '多云~傍晚:多云间阴',\n",
       "       '多云有轻度霾~多云转阴北部有雷阵雨', '晴转多云~傍晚本市大部地区有分散性雷阵雨',\n",
       "       '晴转多云~傍晚：有分散性雷阵雨 夜间：多云转晴', '晴转多云有分散性雷阵雨~多云', '阴转雷阵雨~傍晚到夜间阴有雷阵雨转多云',\n",
       "       '多云~阴西部北部有雷阵雨转多云', '多云~晴间多云有轻雾', '阴天间多云', '阴天间多云~傍晚到夜间阴有分散性阵雨转多云',\n",
       "       '阴有阵雨~傍晚', '中雨~雷雨', '雷雨', '雷雨~暴雨', '小到中雨~阵雨', '阴~雷雨', '阵雨~小雨',\n",
       "       '晴~雾', '霾', '霾~雾', '小雨~雾', '雾~晴', '霾~小雪', '霾~多云', '小雪~霾', '霾~晴',\n",
       "       '霾~阴', '小到中雪', '扬沙~晴', '浮尘~多云', '小雨~小到中雨', '阵雨~小到中雨', '雷雨~多云',\n",
       "       '中到大雨~阴', '雷雨~晴', '雷阵雨~中到大雨', '雷阵雨~大雨', '阴~小到中雨', '小到中雨',\n",
       "       '小到中雨~中到大雨', '霾~阵雨', '小雨~雨夹雪', '小雨~小雪', '雨夹雪~中雪', '大雪~小雪', '霾~雨夹雪',\n",
       "       '多云~霾', '霾~雷阵雨', '暴雨~小到中雨', '雷阵雨~大到暴雨', '大雨~阵雨', '雨夹雪~大雪', '雨夹雪',\n",
       "       '雨夹雪~阴', '大雨', '小雨~阵雨', '中雨~阵雨', '中雨~小到中雨', '大雨~小雨', '小雨~大雨',\n",
       "       '暴雨~雷阵雨', '小雨~中雨', '中雨~多云', '雷阵雨~小雨', '多云~中雨', '阴~霾', '中雪~多云',\n",
       "       '雾~雨夹雪', '暴雪~阴', '中雪~晴', '雨夹雪~小雨', '晴~小雨', '浮尘~扬沙', '中雨~晴', '浮尘~晴',\n",
       "       '多云~暴雨', '雨夹雪~多云', '雨夹雪~雾', '扬沙~浮尘', '雾~浮尘', '扬沙', '阴~浮尘', '多云~扬沙',\n",
       "       '阴~大雨', '暴雨~小雨', '小雨~大雪'], dtype=object)"
      ]
     },
     "execution_count": 13,
     "metadata": {},
     "output_type": "execute_result"
    }
   ],
   "source": [
    "wea['天气'].unique()"
   ]
  },
  {
   "cell_type": "code",
   "execution_count": 14,
   "id": "d81ead2c-7b72-4c8c-a899-b53d403668dd",
   "metadata": {
    "collapsed": true,
    "jupyter": {
     "outputs_hidden": true
    },
    "scrolled": true
   },
   "outputs": [
    {
     "data": {
      "text/plain": [
       "array(['无持续风向微风', '西北风~北风3-4级~4-5级', '北风5-6级', '北风~无持续风向3-4级~微风',\n",
       "       '无持续风向~北风微风~3-4级', '北风3-4级', '北风4-5级', '北风4-5级~3-4级',\n",
       "       '无持续风向~北风微风~4-5级', '北风3-4级~4-5级', '北风~无持续风向4-5级~微风',\n",
       "       '无持续风向~东北风微风~3-4级', '南风3-4级', '西南风~北风3-4级', '北风5-6级~4-5级',\n",
       "       '北风3-4级~5-6级', '南风~无持续风向3-4级~微风', '北风5-6级~3-4级', '西北风5-6级~4-5级',\n",
       "       '西北风~无持续风向3-4级~微风', '东南风~无持续风向3-4级~微风', '西风~无持续风向3-4级~微风',\n",
       "       '西北风4-5级', '南风~北风3-4级~4-5级', '无持续风向~微风~', '北风~无持续风向5-6级~微风',\n",
       "       '南风~北风3-4级', '微风~北风小于3级~5-6级', '北风~微风4-5级~小于3级', '微风小于3级',\n",
       "       '北风~微风3-4级~小于3级', '微风~北风小于3级~4-5级', '微风~北风小于3级~3-4级',\n",
       "       '北风~微风5-6级~小于3级', '无持续风向~北风微风~5-6级', '西北风~北风5-6级~3-4级',\n",
       "       '北风6-7级~5-6级', '东北风~无持续风向3-4级~微风', '北风~东北风4-5级~3-4级', '北风微风',\n",
       "       '北风5-6级~微风', '北风4-5级~5-6级', '东风~无持续风向3-4级~微风', '北风6-7级',\n",
       "       '南风4-5级~3-4级', '东风微风', '无持续风向4-5级', '南风1-2级', '北风1-2级', '西北风3-4级',\n",
       "       '无持续风向3-4级', '东南风1-2级', '西南风1-2级', '东北风4-5级', '西南风3-4级', '东风1-2级',\n",
       "       '西北风1-2级', '东北风3-4级', '东北风1-2级', '西风1-2级', '西北风5-6级', '东南风3-4级',\n",
       "       '东南风4-5级', '南风4-5级', '西风4-5级', '西南风4-5级', '西北风2级', '东南风1级',\n",
       "       '东北风2级', '西南风1级', '东北风1级', '东北风3级', '西北风3级', '西北风1级', '东南风2级',\n",
       "       '西南风2级', '西北风4级', '东南风3级', '西南风3级', '东北风4级', '北风2级', '南风2级',\n",
       "       '北风1级', '南风1级', '南风3级', '东风2级', '北风3级', '西风3级', '东风1级', '西风2级',\n",
       "       '西风1级', '西北风微风', '西南风微风', '东北风微风', '南风微风', '东南风微风', '西风4级', '东风3级'],\n",
       "      dtype=object)"
      ]
     },
     "execution_count": 14,
     "metadata": {},
     "output_type": "execute_result"
    }
   ],
   "source": [
    "wea['风力风向'].unique()"
   ]
  },
  {
   "cell_type": "code",
   "execution_count": 15,
   "id": "8896f326-cff8-412e-b83d-49ae74564c27",
   "metadata": {
    "collapsed": true,
    "jupyter": {
     "outputs_hidden": true
    },
    "scrolled": true
   },
   "outputs": [
    {
     "data": {
      "text/plain": [
       "array([nan, '311 严重', '415 严重', '285 重度', '22 优', '105 轻度', '32 优',\n",
       "       '28 优', '141 轻度', '192 中度', '36 优', '27 优', '33 优', '68 良',\n",
       "       '138 轻度', '204 重度', '189 中度', '35 优', '40 优', '193 中度', '24 优',\n",
       "       '65 良', '53 良', '51 良', '113 轻度', '210 重度', '75 良', '71 良', '31 优',\n",
       "       '41 优', '175 中度', '56 良', '119 轻度', '205 重度', '197 中度', '25 优',\n",
       "       '39 优', '58 良', '34 优', '99 良', '108 轻度', '48 优', '45 优', '54 良',\n",
       "       '55 良', '145 轻度', '315 严重', '383 严重', '201 重度', '115 轻度', '29 优',\n",
       "       '26 优', '44 优', '47 优', '136 轻度', '63 良', '171 中度', '292 重度',\n",
       "       '337 严重', '231 重度', '88 良', '86 良', '156 中度', '42 优', '30 优',\n",
       "       '139 轻度', '199 中度', '110 轻度', '97 良', '152 中度', '165 中度', '140 轻度',\n",
       "       '62 良', '170 中度', '123 轻度', '77 良', '104 轻度', '162 中度', '72 良',\n",
       "       '81 良', '69 良', '37 优', '38 优', '90 良', '49 优', '118 轻度', '127 轻度',\n",
       "       '117 轻度', '246 重度', '84 良', '78 良', '130 轻度', '92 良', '60 良',\n",
       "       '187 中度', '52 良', '91 良', '124 轻度', '83 良', '50 优', '85 良',\n",
       "       '116 轻度', '93 良', '66 良', '125 轻度', '80 良', '155 中度', '163 中度',\n",
       "       '64 良', '73 良', '132 轻度', '120 轻度', '79 良', '147 轻度', '95 良',\n",
       "       '172 中度', '112 轻度', '131 轻度', '46 优', '57 良', '101 轻度', '142 轻度',\n",
       "       '126 轻度', '59 良', '177 中度', '82 良', '87 良', '135 轻度', '70 良',\n",
       "       '109 轻度', '114 轻度', '89 良', '107 轻度', '137 轻度', '181 中度', '214 重度',\n",
       "       '235 重度', '160 中度', '100 良', '96 良', '178 中度', '282 重度', '245 重度',\n",
       "       '151 中度', '268 重度', '61 良', '224 重度', '294 重度', '182 中度', '232 重度',\n",
       "       '102 轻度', '121 轻度', '237 重度', '167 中度', '188 中度', '312 严重',\n",
       "       '220 重度', '290 重度', '98 良', '154 中度', '271 重度', '222 重度', '254 重度',\n",
       "       '398 严重', '429 严重', '191 中度', '240 重度', '321 严重', '450 严重',\n",
       "       '320 严重', '360 严重', '280 重度', '234 重度', '206 重度', '215 重度',\n",
       "       '216 重度', '354 严重', '303 严重', '221 重度', '183 中度', '273 重度',\n",
       "       '146 轻度', '158 中度', '176 中度', '106 轻度', '76 良', '94 良', '396 严重',\n",
       "       '111 轻度', '129 轻度', '74 良', '103 轻度', '122 轻度', '67 良', '43 优',\n",
       "       '143 轻度', '15 优', '211 重度', '128 轻度', '198 中度', '184 中度', '148 轻度',\n",
       "       '157 中度', '144 轻度', '174 中度', '287 重度', '293 重度', '134 轻度',\n",
       "       '243 重度', '387 严重', '218 重度', '164 中度', '186 中度', '153 中度', '21 优',\n",
       "       '149 轻度', '219 重度', '266 重度', '133 轻度', '229 重度', '23 优', '207 重度',\n",
       "       '203 重度', '161 中度', '20 优', '17 优', '190 中度', '169 中度', '173 中度',\n",
       "       '227 重度', '262 重度', '260 重度', '179 中度', '168 中度', '19 优', '16 优',\n",
       "       '255 重度', '264 重度', '248 重度', '347 严重', '195 中度', '185 中度', '13 优',\n",
       "       '18 优', '180 中度', '14 优'], dtype=object)"
      ]
     },
     "execution_count": 15,
     "metadata": {},
     "output_type": "execute_result"
    }
   ],
   "source": [
    "wea['空气质量指数'].unique()"
   ]
  },
  {
   "cell_type": "code",
   "execution_count": 16,
   "id": "3bb70f3e-781d-4696-b1ea-8f5a430226c2",
   "metadata": {
    "collapsed": true,
    "jupyter": {
     "outputs_hidden": true
    }
   },
   "outputs": [
    {
     "data": {
      "text/plain": [
       "天气\n",
       "晴                  985\n",
       "多云                 445\n",
       "晴~多云               327\n",
       "多云~晴               322\n",
       "阴~多云               127\n",
       "                  ... \n",
       "多云间晴~阴天间多云           1\n",
       "多云间阴~阴天间多云           1\n",
       "阴有阵雨或雷阵雨~阴有小到中雨      1\n",
       "多云间晴~多云转阴有轻度雾霾       1\n",
       "小雨~大雪                1\n",
       "Name: count, Length: 418, dtype: int64"
      ]
     },
     "execution_count": 16,
     "metadata": {},
     "output_type": "execute_result"
    }
   ],
   "source": [
    "wea['天气'].value_counts()"
   ]
  },
  {
   "cell_type": "code",
   "execution_count": 17,
   "id": "f27017c3-80ef-4de3-94da-8871060f8c86",
   "metadata": {
    "collapsed": true,
    "jupyter": {
     "outputs_hidden": true
    }
   },
   "outputs": [
    {
     "data": {
      "text/plain": [
       "风力风向\n",
       "无持续风向微风             1610\n",
       "南风1-2级               236\n",
       "东南风2级                176\n",
       "西北风2级                133\n",
       "西南风2级                125\n",
       "                    ... \n",
       "西南风~北风3-4级             1\n",
       "无持续风向~东北风微风~3-4级       1\n",
       "无持续风向3-4级              1\n",
       "西北风~北风3-4级~4-5级        1\n",
       "西南风4-5级                1\n",
       "Name: count, Length: 98, dtype: int64"
      ]
     },
     "execution_count": 17,
     "metadata": {},
     "output_type": "execute_result"
    }
   ],
   "source": [
    "wea['风力风向'].value_counts()"
   ]
  },
  {
   "cell_type": "code",
   "execution_count": 18,
   "id": "d7da6521-8b50-413f-b107-5e2f7d83b1ad",
   "metadata": {
    "collapsed": true,
    "jupyter": {
     "outputs_hidden": true
    }
   },
   "outputs": [
    {
     "data": {
      "text/plain": [
       "空气质量指数\n",
       "37 优      35\n",
       "54 良      34\n",
       "53 良      32\n",
       "56 良      31\n",
       "49 优      31\n",
       "          ..\n",
       "450 严重     1\n",
       "321 严重     1\n",
       "240 重度     1\n",
       "429 严重     1\n",
       "14 优       1\n",
       "Name: count, Length: 245, dtype: int64"
      ]
     },
     "execution_count": 18,
     "metadata": {},
     "output_type": "execute_result"
    }
   ],
   "source": [
    "wea['空气质量指数'].value_counts()"
   ]
  },
  {
   "cell_type": "markdown",
   "id": "c36d193e-d552-4c8e-abbe-361a2a50669a",
   "metadata": {},
   "source": [
    "### ----------------------------------------------------------------"
   ]
  },
  {
   "cell_type": "markdown",
   "id": "405333ab-3b52-4fe1-be74-8a558887f0b0",
   "metadata": {},
   "source": [
    "### 相关系数和协方差"
   ]
  },
  {
   "cell_type": "code",
   "execution_count": 19,
   "id": "386bba0f-21b8-41d2-8dd2-55f9afefb272",
   "metadata": {
    "collapsed": true,
    "jupyter": {
     "outputs_hidden": true
    },
    "scrolled": true
   },
   "outputs": [
    {
     "ename": "ValueError",
     "evalue": "could not convert string to float: '多云~阴'",
     "output_type": "error",
     "traceback": [
      "\u001b[1;31m---------------------------------------------------------------------------\u001b[0m",
      "\u001b[1;31mValueError\u001b[0m                                Traceback (most recent call last)",
      "Cell \u001b[1;32mIn[19], line 2\u001b[0m\n\u001b[0;32m      1\u001b[0m \u001b[38;5;66;03m# 协方差矩阵\u001b[39;00m\n\u001b[1;32m----> 2\u001b[0m wea\u001b[38;5;241m.\u001b[39mcov()\n",
      "File \u001b[1;32mD:\\Anaconda\\Lib\\site-packages\\pandas\\core\\frame.py:11204\u001b[0m, in \u001b[0;36mDataFrame.cov\u001b[1;34m(self, min_periods, ddof, numeric_only)\u001b[0m\n\u001b[0;32m  11202\u001b[0m cols \u001b[38;5;241m=\u001b[39m data\u001b[38;5;241m.\u001b[39mcolumns\n\u001b[0;32m  11203\u001b[0m idx \u001b[38;5;241m=\u001b[39m cols\u001b[38;5;241m.\u001b[39mcopy()\n\u001b[1;32m> 11204\u001b[0m mat \u001b[38;5;241m=\u001b[39m data\u001b[38;5;241m.\u001b[39mto_numpy(dtype\u001b[38;5;241m=\u001b[39m\u001b[38;5;28mfloat\u001b[39m, na_value\u001b[38;5;241m=\u001b[39mnp\u001b[38;5;241m.\u001b[39mnan, copy\u001b[38;5;241m=\u001b[39m\u001b[38;5;28;01mFalse\u001b[39;00m)\n\u001b[0;32m  11206\u001b[0m \u001b[38;5;28;01mif\u001b[39;00m notna(mat)\u001b[38;5;241m.\u001b[39mall():\n\u001b[0;32m  11207\u001b[0m     \u001b[38;5;28;01mif\u001b[39;00m min_periods \u001b[38;5;129;01mis\u001b[39;00m \u001b[38;5;129;01mnot\u001b[39;00m \u001b[38;5;28;01mNone\u001b[39;00m \u001b[38;5;129;01mand\u001b[39;00m min_periods \u001b[38;5;241m>\u001b[39m \u001b[38;5;28mlen\u001b[39m(mat):\n",
      "File \u001b[1;32mD:\\Anaconda\\Lib\\site-packages\\pandas\\core\\frame.py:1993\u001b[0m, in \u001b[0;36mDataFrame.to_numpy\u001b[1;34m(self, dtype, copy, na_value)\u001b[0m\n\u001b[0;32m   1991\u001b[0m \u001b[38;5;28;01mif\u001b[39;00m dtype \u001b[38;5;129;01mis\u001b[39;00m \u001b[38;5;129;01mnot\u001b[39;00m \u001b[38;5;28;01mNone\u001b[39;00m:\n\u001b[0;32m   1992\u001b[0m     dtype \u001b[38;5;241m=\u001b[39m np\u001b[38;5;241m.\u001b[39mdtype(dtype)\n\u001b[1;32m-> 1993\u001b[0m result \u001b[38;5;241m=\u001b[39m \u001b[38;5;28mself\u001b[39m\u001b[38;5;241m.\u001b[39m_mgr\u001b[38;5;241m.\u001b[39mas_array(dtype\u001b[38;5;241m=\u001b[39mdtype, copy\u001b[38;5;241m=\u001b[39mcopy, na_value\u001b[38;5;241m=\u001b[39mna_value)\n\u001b[0;32m   1994\u001b[0m \u001b[38;5;28;01mif\u001b[39;00m result\u001b[38;5;241m.\u001b[39mdtype \u001b[38;5;129;01mis\u001b[39;00m \u001b[38;5;129;01mnot\u001b[39;00m dtype:\n\u001b[0;32m   1995\u001b[0m     result \u001b[38;5;241m=\u001b[39m np\u001b[38;5;241m.\u001b[39masarray(result, dtype\u001b[38;5;241m=\u001b[39mdtype)\n",
      "File \u001b[1;32mD:\\Anaconda\\Lib\\site-packages\\pandas\\core\\internals\\managers.py:1694\u001b[0m, in \u001b[0;36mBlockManager.as_array\u001b[1;34m(self, dtype, copy, na_value)\u001b[0m\n\u001b[0;32m   1692\u001b[0m         arr\u001b[38;5;241m.\u001b[39mflags\u001b[38;5;241m.\u001b[39mwriteable \u001b[38;5;241m=\u001b[39m \u001b[38;5;28;01mFalse\u001b[39;00m\n\u001b[0;32m   1693\u001b[0m \u001b[38;5;28;01melse\u001b[39;00m:\n\u001b[1;32m-> 1694\u001b[0m     arr \u001b[38;5;241m=\u001b[39m \u001b[38;5;28mself\u001b[39m\u001b[38;5;241m.\u001b[39m_interleave(dtype\u001b[38;5;241m=\u001b[39mdtype, na_value\u001b[38;5;241m=\u001b[39mna_value)\n\u001b[0;32m   1695\u001b[0m     \u001b[38;5;66;03m# The underlying data was copied within _interleave, so no need\u001b[39;00m\n\u001b[0;32m   1696\u001b[0m     \u001b[38;5;66;03m# to further copy if copy=True or setting na_value\u001b[39;00m\n\u001b[0;32m   1698\u001b[0m \u001b[38;5;28;01mif\u001b[39;00m na_value \u001b[38;5;129;01mis\u001b[39;00m lib\u001b[38;5;241m.\u001b[39mno_default:\n",
      "File \u001b[1;32mD:\\Anaconda\\Lib\\site-packages\\pandas\\core\\internals\\managers.py:1753\u001b[0m, in \u001b[0;36mBlockManager._interleave\u001b[1;34m(self, dtype, na_value)\u001b[0m\n\u001b[0;32m   1751\u001b[0m     \u001b[38;5;28;01melse\u001b[39;00m:\n\u001b[0;32m   1752\u001b[0m         arr \u001b[38;5;241m=\u001b[39m blk\u001b[38;5;241m.\u001b[39mget_values(dtype)\n\u001b[1;32m-> 1753\u001b[0m     result[rl\u001b[38;5;241m.\u001b[39mindexer] \u001b[38;5;241m=\u001b[39m arr\n\u001b[0;32m   1754\u001b[0m     itemmask[rl\u001b[38;5;241m.\u001b[39mindexer] \u001b[38;5;241m=\u001b[39m \u001b[38;5;241m1\u001b[39m\n\u001b[0;32m   1756\u001b[0m \u001b[38;5;28;01mif\u001b[39;00m \u001b[38;5;129;01mnot\u001b[39;00m itemmask\u001b[38;5;241m.\u001b[39mall():\n",
      "\u001b[1;31mValueError\u001b[0m: could not convert string to float: '多云~阴'"
     ]
    }
   ],
   "source": [
    "# 协方差矩阵\n",
    "wea.cov()"
   ]
  },
  {
   "cell_type": "code",
   "execution_count": 20,
   "id": "3c8e4db2-e8ad-4457-8197-bbbebce74df8",
   "metadata": {
    "collapsed": true,
    "jupyter": {
     "outputs_hidden": true
    },
    "scrolled": true
   },
   "outputs": [
    {
     "ename": "ValueError",
     "evalue": "could not convert string to float: '多云~阴'",
     "output_type": "error",
     "traceback": [
      "\u001b[1;31m---------------------------------------------------------------------------\u001b[0m",
      "\u001b[1;31mValueError\u001b[0m                                Traceback (most recent call last)",
      "Cell \u001b[1;32mIn[20], line 2\u001b[0m\n\u001b[0;32m      1\u001b[0m \u001b[38;5;66;03m# 相关系数矩阵\u001b[39;00m\n\u001b[1;32m----> 2\u001b[0m wea\u001b[38;5;241m.\u001b[39mcorr()\n",
      "File \u001b[1;32mD:\\Anaconda\\Lib\\site-packages\\pandas\\core\\frame.py:11049\u001b[0m, in \u001b[0;36mDataFrame.corr\u001b[1;34m(self, method, min_periods, numeric_only)\u001b[0m\n\u001b[0;32m  11047\u001b[0m cols \u001b[38;5;241m=\u001b[39m data\u001b[38;5;241m.\u001b[39mcolumns\n\u001b[0;32m  11048\u001b[0m idx \u001b[38;5;241m=\u001b[39m cols\u001b[38;5;241m.\u001b[39mcopy()\n\u001b[1;32m> 11049\u001b[0m mat \u001b[38;5;241m=\u001b[39m data\u001b[38;5;241m.\u001b[39mto_numpy(dtype\u001b[38;5;241m=\u001b[39m\u001b[38;5;28mfloat\u001b[39m, na_value\u001b[38;5;241m=\u001b[39mnp\u001b[38;5;241m.\u001b[39mnan, copy\u001b[38;5;241m=\u001b[39m\u001b[38;5;28;01mFalse\u001b[39;00m)\n\u001b[0;32m  11051\u001b[0m \u001b[38;5;28;01mif\u001b[39;00m method \u001b[38;5;241m==\u001b[39m \u001b[38;5;124m\"\u001b[39m\u001b[38;5;124mpearson\u001b[39m\u001b[38;5;124m\"\u001b[39m:\n\u001b[0;32m  11052\u001b[0m     correl \u001b[38;5;241m=\u001b[39m libalgos\u001b[38;5;241m.\u001b[39mnancorr(mat, minp\u001b[38;5;241m=\u001b[39mmin_periods)\n",
      "File \u001b[1;32mD:\\Anaconda\\Lib\\site-packages\\pandas\\core\\frame.py:1993\u001b[0m, in \u001b[0;36mDataFrame.to_numpy\u001b[1;34m(self, dtype, copy, na_value)\u001b[0m\n\u001b[0;32m   1991\u001b[0m \u001b[38;5;28;01mif\u001b[39;00m dtype \u001b[38;5;129;01mis\u001b[39;00m \u001b[38;5;129;01mnot\u001b[39;00m \u001b[38;5;28;01mNone\u001b[39;00m:\n\u001b[0;32m   1992\u001b[0m     dtype \u001b[38;5;241m=\u001b[39m np\u001b[38;5;241m.\u001b[39mdtype(dtype)\n\u001b[1;32m-> 1993\u001b[0m result \u001b[38;5;241m=\u001b[39m \u001b[38;5;28mself\u001b[39m\u001b[38;5;241m.\u001b[39m_mgr\u001b[38;5;241m.\u001b[39mas_array(dtype\u001b[38;5;241m=\u001b[39mdtype, copy\u001b[38;5;241m=\u001b[39mcopy, na_value\u001b[38;5;241m=\u001b[39mna_value)\n\u001b[0;32m   1994\u001b[0m \u001b[38;5;28;01mif\u001b[39;00m result\u001b[38;5;241m.\u001b[39mdtype \u001b[38;5;129;01mis\u001b[39;00m \u001b[38;5;129;01mnot\u001b[39;00m dtype:\n\u001b[0;32m   1995\u001b[0m     result \u001b[38;5;241m=\u001b[39m np\u001b[38;5;241m.\u001b[39masarray(result, dtype\u001b[38;5;241m=\u001b[39mdtype)\n",
      "File \u001b[1;32mD:\\Anaconda\\Lib\\site-packages\\pandas\\core\\internals\\managers.py:1694\u001b[0m, in \u001b[0;36mBlockManager.as_array\u001b[1;34m(self, dtype, copy, na_value)\u001b[0m\n\u001b[0;32m   1692\u001b[0m         arr\u001b[38;5;241m.\u001b[39mflags\u001b[38;5;241m.\u001b[39mwriteable \u001b[38;5;241m=\u001b[39m \u001b[38;5;28;01mFalse\u001b[39;00m\n\u001b[0;32m   1693\u001b[0m \u001b[38;5;28;01melse\u001b[39;00m:\n\u001b[1;32m-> 1694\u001b[0m     arr \u001b[38;5;241m=\u001b[39m \u001b[38;5;28mself\u001b[39m\u001b[38;5;241m.\u001b[39m_interleave(dtype\u001b[38;5;241m=\u001b[39mdtype, na_value\u001b[38;5;241m=\u001b[39mna_value)\n\u001b[0;32m   1695\u001b[0m     \u001b[38;5;66;03m# The underlying data was copied within _interleave, so no need\u001b[39;00m\n\u001b[0;32m   1696\u001b[0m     \u001b[38;5;66;03m# to further copy if copy=True or setting na_value\u001b[39;00m\n\u001b[0;32m   1698\u001b[0m \u001b[38;5;28;01mif\u001b[39;00m na_value \u001b[38;5;129;01mis\u001b[39;00m lib\u001b[38;5;241m.\u001b[39mno_default:\n",
      "File \u001b[1;32mD:\\Anaconda\\Lib\\site-packages\\pandas\\core\\internals\\managers.py:1753\u001b[0m, in \u001b[0;36mBlockManager._interleave\u001b[1;34m(self, dtype, na_value)\u001b[0m\n\u001b[0;32m   1751\u001b[0m     \u001b[38;5;28;01melse\u001b[39;00m:\n\u001b[0;32m   1752\u001b[0m         arr \u001b[38;5;241m=\u001b[39m blk\u001b[38;5;241m.\u001b[39mget_values(dtype)\n\u001b[1;32m-> 1753\u001b[0m     result[rl\u001b[38;5;241m.\u001b[39mindexer] \u001b[38;5;241m=\u001b[39m arr\n\u001b[0;32m   1754\u001b[0m     itemmask[rl\u001b[38;5;241m.\u001b[39mindexer] \u001b[38;5;241m=\u001b[39m \u001b[38;5;241m1\u001b[39m\n\u001b[0;32m   1756\u001b[0m \u001b[38;5;28;01mif\u001b[39;00m \u001b[38;5;129;01mnot\u001b[39;00m itemmask\u001b[38;5;241m.\u001b[39mall():\n",
      "\u001b[1;31mValueError\u001b[0m: could not convert string to float: '多云~阴'"
     ]
    }
   ],
   "source": [
    "# 相关系数矩阵\n",
    "wea.corr()"
   ]
  },
  {
   "cell_type": "code",
   "execution_count": 21,
   "id": "036917ed-faaf-491d-9524-391ea46963e0",
   "metadata": {},
   "outputs": [
    {
     "data": {
      "text/plain": [
       "119.96197115063981"
      ]
     },
     "execution_count": 21,
     "metadata": {},
     "output_type": "execute_result"
    }
   ],
   "source": [
    "wea['最高温'].cov(wea['最低温'])"
   ]
  },
  {
   "cell_type": "code",
   "execution_count": 22,
   "id": "795bd2c8-efa8-4bbb-9b57-bd20fd807618",
   "metadata": {},
   "outputs": [
    {
     "data": {
      "text/plain": [
       "0.9631526069462352"
      ]
     },
     "execution_count": 22,
     "metadata": {},
     "output_type": "execute_result"
    }
   ],
   "source": [
    "wea['最高温'].corr(wea['最低温'])"
   ]
  },
  {
   "cell_type": "code",
   "execution_count": null,
   "id": "a61ee4f2-0b6d-42cf-9ef8-72fe80f9921b",
   "metadata": {},
   "outputs": [],
   "source": []
  }
 ],
 "metadata": {
  "kernelspec": {
   "display_name": "Python 3 (ipykernel)",
   "language": "python",
   "name": "python3"
  },
  "language_info": {
   "codemirror_mode": {
    "name": "ipython",
    "version": 3
   },
   "file_extension": ".py",
   "mimetype": "text/x-python",
   "name": "python",
   "nbconvert_exporter": "python",
   "pygments_lexer": "ipython3",
   "version": "3.12.7"
  }
 },
 "nbformat": 4,
 "nbformat_minor": 5
}
