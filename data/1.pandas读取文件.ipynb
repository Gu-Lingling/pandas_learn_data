{
 "cells": [
  {
   "cell_type": "markdown",
   "id": "1d6b2ac8-14e5-4804-9a99-03e9474cb333",
   "metadata": {},
   "source": [
    "## 1.1读取csv文件"
   ]
  },
  {
   "cell_type": "code",
   "execution_count": 1,
   "id": "6f388c08-3db9-4223-ba22-4853bee6db02",
   "metadata": {},
   "outputs": [],
   "source": [
    "import pandas as pd"
   ]
  },
  {
   "cell_type": "code",
   "execution_count": 2,
   "id": "589b6077-316d-4d95-9fb6-d884fe7ae137",
   "metadata": {},
   "outputs": [],
   "source": [
    "fpath = \"C:/Users/THE KEY/Desktop/python_datum/pandas/data/movies/ratings.csv\""
   ]
  },
  {
   "cell_type": "code",
   "execution_count": 3,
   "id": "2c9daa56-b2f3-496f-accc-d4f48b51a517",
   "metadata": {},
   "outputs": [],
   "source": [
    "#使用pd.read_csv读取数据\n",
    "ratings = pd.read_csv(fpath)"
   ]
  },
  {
   "cell_type": "code",
   "execution_count": 4,
   "id": "31d41bc0-cd3e-4c22-bf84-31c63d3acef0",
   "metadata": {},
   "outputs": [
    {
     "data": {
      "text/html": [
       "<div>\n",
       "<style scoped>\n",
       "    .dataframe tbody tr th:only-of-type {\n",
       "        vertical-align: middle;\n",
       "    }\n",
       "\n",
       "    .dataframe tbody tr th {\n",
       "        vertical-align: top;\n",
       "    }\n",
       "\n",
       "    .dataframe thead th {\n",
       "        text-align: right;\n",
       "    }\n",
       "</style>\n",
       "<table border=\"1\" class=\"dataframe\">\n",
       "  <thead>\n",
       "    <tr style=\"text-align: right;\">\n",
       "      <th></th>\n",
       "      <th>userId</th>\n",
       "      <th>movieId</th>\n",
       "      <th>rating</th>\n",
       "      <th>timestamp</th>\n",
       "    </tr>\n",
       "  </thead>\n",
       "  <tbody>\n",
       "    <tr>\n",
       "      <th>0</th>\n",
       "      <td>1</td>\n",
       "      <td>1</td>\n",
       "      <td>4.0</td>\n",
       "      <td>964982703</td>\n",
       "    </tr>\n",
       "    <tr>\n",
       "      <th>1</th>\n",
       "      <td>1</td>\n",
       "      <td>3</td>\n",
       "      <td>4.0</td>\n",
       "      <td>964981247</td>\n",
       "    </tr>\n",
       "    <tr>\n",
       "      <th>2</th>\n",
       "      <td>1</td>\n",
       "      <td>6</td>\n",
       "      <td>4.0</td>\n",
       "      <td>964982224</td>\n",
       "    </tr>\n",
       "    <tr>\n",
       "      <th>3</th>\n",
       "      <td>1</td>\n",
       "      <td>47</td>\n",
       "      <td>5.0</td>\n",
       "      <td>964983815</td>\n",
       "    </tr>\n",
       "    <tr>\n",
       "      <th>4</th>\n",
       "      <td>1</td>\n",
       "      <td>50</td>\n",
       "      <td>5.0</td>\n",
       "      <td>964982931</td>\n",
       "    </tr>\n",
       "  </tbody>\n",
       "</table>\n",
       "</div>"
      ],
      "text/plain": [
       "   userId  movieId  rating  timestamp\n",
       "0       1        1     4.0  964982703\n",
       "1       1        3     4.0  964981247\n",
       "2       1        6     4.0  964982224\n",
       "3       1       47     5.0  964983815\n",
       "4       1       50     5.0  964982931"
      ]
     },
     "execution_count": 4,
     "metadata": {},
     "output_type": "execute_result"
    }
   ],
   "source": [
    "# 查看前几行数据\n",
    "ratings.head()"
   ]
  },
  {
   "cell_type": "code",
   "execution_count": 5,
   "id": "4f9a7be0-ce4b-48a3-b613-59b0b96fea68",
   "metadata": {
    "scrolled": true
   },
   "outputs": [
    {
     "data": {
      "text/plain": [
       "(100836, 4)"
      ]
     },
     "execution_count": 5,
     "metadata": {},
     "output_type": "execute_result"
    }
   ],
   "source": [
    "# 查看形状\n",
    "ratings.shape"
   ]
  },
  {
   "cell_type": "code",
   "execution_count": 6,
   "id": "72e96b6a-1f55-4aac-bcfc-983e8cc0cfc1",
   "metadata": {},
   "outputs": [
    {
     "data": {
      "text/plain": [
       "Index(['userId', 'movieId', 'rating', 'timestamp'], dtype='object')"
      ]
     },
     "execution_count": 6,
     "metadata": {},
     "output_type": "execute_result"
    }
   ],
   "source": [
    "# 查看列名列表\n",
    "ratings.columns"
   ]
  },
  {
   "cell_type": "code",
   "execution_count": 7,
   "id": "951f4d87-355d-4e3d-9d6b-e6f0372f6248",
   "metadata": {},
   "outputs": [
    {
     "data": {
      "text/plain": [
       "RangeIndex(start=0, stop=100836, step=1)"
      ]
     },
     "execution_count": 7,
     "metadata": {},
     "output_type": "execute_result"
    }
   ],
   "source": [
    "# 查看索引列\n",
    "ratings.index"
   ]
  },
  {
   "cell_type": "code",
   "execution_count": 8,
   "id": "b7a944e1-58d6-4922-8331-7dcdf5a8a3ff",
   "metadata": {},
   "outputs": [
    {
     "data": {
      "text/plain": [
       "userId         int64\n",
       "movieId        int64\n",
       "rating       float64\n",
       "timestamp      int64\n",
       "dtype: object"
      ]
     },
     "execution_count": 8,
     "metadata": {},
     "output_type": "execute_result"
    }
   ],
   "source": [
    "# 查看每列的数据类型\n",
    "ratings.dtypes"
   ]
  },
  {
   "cell_type": "markdown",
   "id": "ff1a5cd1-6e1f-43e1-bc44-eaa70b070642",
   "metadata": {},
   "source": [
    "## 1.2读取txt文件"
   ]
  },
  {
   "cell_type": "code",
   "execution_count": 9,
   "id": "5240de51-c882-424a-bc98-2be5b40fd0bc",
   "metadata": {},
   "outputs": [],
   "source": [
    "fpath = \"C:/Users/THE KEY/Desktop/python_datum/pandas/data/myself_data/some_data.txt\""
   ]
  },
  {
   "cell_type": "code",
   "execution_count": 10,
   "id": "a8557c0c-36a9-49df-bde6-0ce0873f5d52",
   "metadata": {},
   "outputs": [],
   "source": [
    "puvu = pd.read_csv(\n",
    "    fpath,\n",
    "    sep = ',',\n",
    "    header = None,\n",
    "    names = ['time', 'number', 'year', 'province']\n",
    ")"
   ]
  },
  {
   "cell_type": "code",
   "execution_count": 11,
   "id": "670c6b1d-d949-47ae-a2df-081681f07b94",
   "metadata": {},
   "outputs": [
    {
     "data": {
      "text/html": [
       "<div>\n",
       "<style scoped>\n",
       "    .dataframe tbody tr th:only-of-type {\n",
       "        vertical-align: middle;\n",
       "    }\n",
       "\n",
       "    .dataframe tbody tr th {\n",
       "        vertical-align: top;\n",
       "    }\n",
       "\n",
       "    .dataframe thead th {\n",
       "        text-align: right;\n",
       "    }\n",
       "</style>\n",
       "<table border=\"1\" class=\"dataframe\">\n",
       "  <thead>\n",
       "    <tr style=\"text-align: right;\">\n",
       "      <th></th>\n",
       "      <th>time</th>\n",
       "      <th>number</th>\n",
       "      <th>year</th>\n",
       "      <th>province</th>\n",
       "    </tr>\n",
       "  </thead>\n",
       "  <tbody>\n",
       "    <tr>\n",
       "      <th>0</th>\n",
       "      <td>2011-01-01</td>\n",
       "      <td>4b34218c-9f37-4e66-b33e-327ecd5fb897</td>\n",
       "      <td>1689</td>\n",
       "      <td>湖南省</td>\n",
       "    </tr>\n",
       "    <tr>\n",
       "      <th>1</th>\n",
       "      <td>2011-01-01</td>\n",
       "      <td>5b6a6417-9a16-4243-9704-255719074bff</td>\n",
       "      <td>2353</td>\n",
       "      <td>河北省</td>\n",
       "    </tr>\n",
       "    <tr>\n",
       "      <th>2</th>\n",
       "      <td>2011-01-01</td>\n",
       "      <td>ae240260-68a9-4e59-b4c9-206be4c08a8d</td>\n",
       "      <td>2565</td>\n",
       "      <td>湖北省</td>\n",
       "    </tr>\n",
       "    <tr>\n",
       "      <th>3</th>\n",
       "      <td>2011-01-01</td>\n",
       "      <td>c833e851-880f-4e05-9de5-b547f5ffc5e1</td>\n",
       "      <td>2877</td>\n",
       "      <td>山东省</td>\n",
       "    </tr>\n",
       "    <tr>\n",
       "      <th>4</th>\n",
       "      <td>2011-01-01</td>\n",
       "      <td>dd27e822-884c-4d20-a309-986f6a90e2b9</td>\n",
       "      <td>947</td>\n",
       "      <td>安徽省</td>\n",
       "    </tr>\n",
       "  </tbody>\n",
       "</table>\n",
       "</div>"
      ],
      "text/plain": [
       "         time                                number  year province\n",
       "0  2011-01-01  4b34218c-9f37-4e66-b33e-327ecd5fb897  1689      湖南省\n",
       "1  2011-01-01  5b6a6417-9a16-4243-9704-255719074bff  2353      河北省\n",
       "2  2011-01-01  ae240260-68a9-4e59-b4c9-206be4c08a8d  2565      湖北省\n",
       "3  2011-01-01  c833e851-880f-4e05-9de5-b547f5ffc5e1  2877      山东省\n",
       "4  2011-01-01  dd27e822-884c-4d20-a309-986f6a90e2b9   947      安徽省"
      ]
     },
     "execution_count": 11,
     "metadata": {},
     "output_type": "execute_result"
    }
   ],
   "source": [
    "puvu.head()"
   ]
  },
  {
   "cell_type": "markdown",
   "id": "7fabc898-3928-49f6-8a02-6f763bfc12bc",
   "metadata": {},
   "source": [
    "## 2.读取excel文件"
   ]
  },
  {
   "cell_type": "code",
   "execution_count": 12,
   "id": "24bbcc00-1acd-4700-802c-c99e8b44b6e5",
   "metadata": {},
   "outputs": [],
   "source": [
    "fpath = \"C:/Users/THE KEY/Desktop/python_datum/pandas/data/myself_data/data_excel.xlsx\""
   ]
  },
  {
   "cell_type": "code",
   "execution_count": 13,
   "id": "3892af7b-3d90-48c7-8a93-143809205624",
   "metadata": {},
   "outputs": [],
   "source": [
    "pvuv = pd.read_excel(fpath)"
   ]
  },
  {
   "cell_type": "code",
   "execution_count": 14,
   "id": "3e9aaaca-63b5-4039-b2cb-5179d8783228",
   "metadata": {},
   "outputs": [
    {
     "data": {
      "text/html": [
       "<div>\n",
       "<style scoped>\n",
       "    .dataframe tbody tr th:only-of-type {\n",
       "        vertical-align: middle;\n",
       "    }\n",
       "\n",
       "    .dataframe tbody tr th {\n",
       "        vertical-align: top;\n",
       "    }\n",
       "\n",
       "    .dataframe thead th {\n",
       "        text-align: right;\n",
       "    }\n",
       "</style>\n",
       "<table border=\"1\" class=\"dataframe\">\n",
       "  <thead>\n",
       "    <tr style=\"text-align: right;\">\n",
       "      <th></th>\n",
       "      <th>考区</th>\n",
       "      <th>报考政策咨询电话</th>\n",
       "      <th>网上报名技术咨询电话</th>\n",
       "    </tr>\n",
       "  </thead>\n",
       "  <tbody>\n",
       "    <tr>\n",
       "      <th>0</th>\n",
       "      <td>广州</td>\n",
       "      <td>020-83550287</td>\n",
       "      <td>020-83556708</td>\n",
       "    </tr>\n",
       "    <tr>\n",
       "      <th>1</th>\n",
       "      <td>深圳</td>\n",
       "      <td>0755-88132560\\n0755-88132561</td>\n",
       "      <td>0755-88227999</td>\n",
       "    </tr>\n",
       "    <tr>\n",
       "      <th>2</th>\n",
       "      <td>珠海</td>\n",
       "      <td>0756-2128738\\n0756-2128335</td>\n",
       "      <td>0756-2128738</td>\n",
       "    </tr>\n",
       "    <tr>\n",
       "      <th>3</th>\n",
       "      <td>汕头</td>\n",
       "      <td>0754-88292208</td>\n",
       "      <td>0754-88329783</td>\n",
       "    </tr>\n",
       "    <tr>\n",
       "      <th>4</th>\n",
       "      <td>佛山</td>\n",
       "      <td>0757-83384972</td>\n",
       "      <td>0757-83874124\\n0757-83876766</td>\n",
       "    </tr>\n",
       "  </tbody>\n",
       "</table>\n",
       "</div>"
      ],
      "text/plain": [
       "   考区                      报考政策咨询电话                    网上报名技术咨询电话\n",
       "0  广州                  020-83550287                  020-83556708\n",
       "1  深圳  0755-88132560\\n0755-88132561                 0755-88227999\n",
       "2  珠海    0756-2128738\\n0756-2128335                  0756-2128738\n",
       "3  汕头                 0754-88292208                 0754-88329783\n",
       "4  佛山                 0757-83384972  0757-83874124\\n0757-83876766"
      ]
     },
     "execution_count": 14,
     "metadata": {},
     "output_type": "execute_result"
    }
   ],
   "source": [
    "pvuv.head()"
   ]
  },
  {
   "cell_type": "markdown",
   "id": "0a254734-e98b-411f-9229-5f978571678a",
   "metadata": {},
   "source": [
    "## 3.读取MySQL数据库"
   ]
  },
  {
   "cell_type": "markdown",
   "id": "73716d77-bc0f-473d-807d-d2bbc351828c",
   "metadata": {},
   "source": [
    "import pymysql\n",
    "conn = pymysql.connect(\n",
    "    host = '127.0.0.1',\n",
    "    user = 'root',\n",
    "    password = '12345678',\n",
    "    database = 'test',\n",
    "    charset = 'utf8'\n",
    ")"
   ]
  },
  {
   "cell_type": "markdown",
   "id": "e60b5141-343a-4af3-896c-e64ba1f1cfe1",
   "metadata": {},
   "source": [
    "mysql_page = pd.read_sql('select*from crazyant_pvuv', con = conn)"
   ]
  },
  {
   "cell_type": "code",
   "execution_count": null,
   "id": "5154b0f6-4ccd-40f8-925d-d8d678e0207e",
   "metadata": {},
   "outputs": [],
   "source": []
  }
 ],
 "metadata": {
  "kernelspec": {
   "display_name": "Python 3 (ipykernel)",
   "language": "python",
   "name": "python3"
  },
  "language_info": {
   "codemirror_mode": {
    "name": "ipython",
    "version": 3
   },
   "file_extension": ".py",
   "mimetype": "text/x-python",
   "name": "python",
   "nbconvert_exporter": "python",
   "pygments_lexer": "ipython3",
   "version": "3.12.7"
  }
 },
 "nbformat": 4,
 "nbformat_minor": 5
}
