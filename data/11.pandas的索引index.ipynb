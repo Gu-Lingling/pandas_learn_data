{
 "cells": [
  {
   "cell_type": "markdown",
   "id": "a1d0ec60-972b-46e3-9ade-852701208991",
   "metadata": {},
   "source": [
    "#### index用途总结：\n",
    "1.更方便的数据查询\n",
    "\n",
    "2.使用index可以获得性能提升\n",
    "\n",
    "3.自动的数据对齐功能\n",
    "\n",
    "4.更多更强大的数据结构支持"
   ]
  },
  {
   "cell_type": "code",
   "execution_count": 1,
   "id": "80efc997-5382-4909-8aa6-3573229284f9",
   "metadata": {},
   "outputs": [],
   "source": [
    "import pandas as pd"
   ]
  },
  {
   "cell_type": "code",
   "execution_count": 2,
   "id": "5a7986fe-90e0-414f-8285-2b60cea173c6",
   "metadata": {},
   "outputs": [],
   "source": [
    "fpath = \"C:/Users/THE KEY/Desktop/python_datum/pandas/data/movies/ratings.csv\""
   ]
  },
  {
   "cell_type": "code",
   "execution_count": 3,
   "id": "0988e31a-1a25-4d04-96c4-dc1e9276b651",
   "metadata": {},
   "outputs": [],
   "source": [
    "df = pd.read_csv(fpath)"
   ]
  },
  {
   "cell_type": "code",
   "execution_count": 4,
   "id": "b72280d8-59eb-421c-a593-7581d5e9e293",
   "metadata": {},
   "outputs": [
    {
     "data": {
      "text/html": [
       "<div>\n",
       "<style scoped>\n",
       "    .dataframe tbody tr th:only-of-type {\n",
       "        vertical-align: middle;\n",
       "    }\n",
       "\n",
       "    .dataframe tbody tr th {\n",
       "        vertical-align: top;\n",
       "    }\n",
       "\n",
       "    .dataframe thead th {\n",
       "        text-align: right;\n",
       "    }\n",
       "</style>\n",
       "<table border=\"1\" class=\"dataframe\">\n",
       "  <thead>\n",
       "    <tr style=\"text-align: right;\">\n",
       "      <th></th>\n",
       "      <th>userId</th>\n",
       "      <th>movieId</th>\n",
       "      <th>rating</th>\n",
       "      <th>timestamp</th>\n",
       "    </tr>\n",
       "  </thead>\n",
       "  <tbody>\n",
       "    <tr>\n",
       "      <th>0</th>\n",
       "      <td>1</td>\n",
       "      <td>1</td>\n",
       "      <td>4.0</td>\n",
       "      <td>964982703</td>\n",
       "    </tr>\n",
       "    <tr>\n",
       "      <th>1</th>\n",
       "      <td>1</td>\n",
       "      <td>3</td>\n",
       "      <td>4.0</td>\n",
       "      <td>964981247</td>\n",
       "    </tr>\n",
       "    <tr>\n",
       "      <th>2</th>\n",
       "      <td>1</td>\n",
       "      <td>6</td>\n",
       "      <td>4.0</td>\n",
       "      <td>964982224</td>\n",
       "    </tr>\n",
       "    <tr>\n",
       "      <th>3</th>\n",
       "      <td>1</td>\n",
       "      <td>47</td>\n",
       "      <td>5.0</td>\n",
       "      <td>964983815</td>\n",
       "    </tr>\n",
       "    <tr>\n",
       "      <th>4</th>\n",
       "      <td>1</td>\n",
       "      <td>50</td>\n",
       "      <td>5.0</td>\n",
       "      <td>964982931</td>\n",
       "    </tr>\n",
       "  </tbody>\n",
       "</table>\n",
       "</div>"
      ],
      "text/plain": [
       "   userId  movieId  rating  timestamp\n",
       "0       1        1     4.0  964982703\n",
       "1       1        3     4.0  964981247\n",
       "2       1        6     4.0  964982224\n",
       "3       1       47     5.0  964983815\n",
       "4       1       50     5.0  964982931"
      ]
     },
     "execution_count": 4,
     "metadata": {},
     "output_type": "execute_result"
    }
   ],
   "source": [
    "df.head()"
   ]
  },
  {
   "cell_type": "code",
   "execution_count": 5,
   "id": "ed473e66-0c29-4d8d-8ec8-5fb6de21450a",
   "metadata": {},
   "outputs": [
    {
     "data": {
      "text/plain": [
       "userId       100836\n",
       "movieId      100836\n",
       "rating       100836\n",
       "timestamp    100836\n",
       "dtype: int64"
      ]
     },
     "execution_count": 5,
     "metadata": {},
     "output_type": "execute_result"
    }
   ],
   "source": [
    "df.count()"
   ]
  },
  {
   "cell_type": "markdown",
   "id": "fdfe2219-9603-4df0-ba47-618d0d3de765",
   "metadata": {},
   "source": [
    "### --------------------------------------------"
   ]
  },
  {
   "cell_type": "markdown",
   "id": "64803a66-3b3e-40ce-943f-5345a1188043",
   "metadata": {},
   "source": [
    "### 1.使用index查询数据"
   ]
  },
  {
   "cell_type": "code",
   "execution_count": 6,
   "id": "7681cfa3-3023-4a1c-a86d-4bfd157cea9e",
   "metadata": {},
   "outputs": [],
   "source": [
    "# drop=False,让索引列仍保持在columns中\n",
    "df.set_index(\"userId\",inplace = True,drop = False)"
   ]
  },
  {
   "cell_type": "code",
   "execution_count": 8,
   "id": "9099c2a7-552d-4006-b3c6-4ef84d2447ff",
   "metadata": {},
   "outputs": [
    {
     "data": {
      "text/html": [
       "<div>\n",
       "<style scoped>\n",
       "    .dataframe tbody tr th:only-of-type {\n",
       "        vertical-align: middle;\n",
       "    }\n",
       "\n",
       "    .dataframe tbody tr th {\n",
       "        vertical-align: top;\n",
       "    }\n",
       "\n",
       "    .dataframe thead th {\n",
       "        text-align: right;\n",
       "    }\n",
       "</style>\n",
       "<table border=\"1\" class=\"dataframe\">\n",
       "  <thead>\n",
       "    <tr style=\"text-align: right;\">\n",
       "      <th></th>\n",
       "      <th>userId</th>\n",
       "      <th>movieId</th>\n",
       "      <th>rating</th>\n",
       "      <th>timestamp</th>\n",
       "    </tr>\n",
       "    <tr>\n",
       "      <th>userId</th>\n",
       "      <th></th>\n",
       "      <th></th>\n",
       "      <th></th>\n",
       "      <th></th>\n",
       "    </tr>\n",
       "  </thead>\n",
       "  <tbody>\n",
       "    <tr>\n",
       "      <th>1</th>\n",
       "      <td>1</td>\n",
       "      <td>1</td>\n",
       "      <td>4.0</td>\n",
       "      <td>964982703</td>\n",
       "    </tr>\n",
       "    <tr>\n",
       "      <th>1</th>\n",
       "      <td>1</td>\n",
       "      <td>3</td>\n",
       "      <td>4.0</td>\n",
       "      <td>964981247</td>\n",
       "    </tr>\n",
       "    <tr>\n",
       "      <th>1</th>\n",
       "      <td>1</td>\n",
       "      <td>6</td>\n",
       "      <td>4.0</td>\n",
       "      <td>964982224</td>\n",
       "    </tr>\n",
       "    <tr>\n",
       "      <th>1</th>\n",
       "      <td>1</td>\n",
       "      <td>47</td>\n",
       "      <td>5.0</td>\n",
       "      <td>964983815</td>\n",
       "    </tr>\n",
       "    <tr>\n",
       "      <th>1</th>\n",
       "      <td>1</td>\n",
       "      <td>50</td>\n",
       "      <td>5.0</td>\n",
       "      <td>964982931</td>\n",
       "    </tr>\n",
       "  </tbody>\n",
       "</table>\n",
       "</div>"
      ],
      "text/plain": [
       "        userId  movieId  rating  timestamp\n",
       "userId                                    \n",
       "1            1        1     4.0  964982703\n",
       "1            1        3     4.0  964981247\n",
       "1            1        6     4.0  964982224\n",
       "1            1       47     5.0  964983815\n",
       "1            1       50     5.0  964982931"
      ]
     },
     "execution_count": 8,
     "metadata": {},
     "output_type": "execute_result"
    }
   ],
   "source": [
    "df.head()"
   ]
  },
  {
   "cell_type": "code",
   "execution_count": 9,
   "id": "865f4afe-7bdb-4366-8970-ca7720ed4a5d",
   "metadata": {},
   "outputs": [
    {
     "data": {
      "text/plain": [
       "Index([  1,   1,   1,   1,   1,   1,   1,   1,   1,   1,\n",
       "       ...\n",
       "       610, 610, 610, 610, 610, 610, 610, 610, 610, 610],\n",
       "      dtype='int64', name='userId', length=100836)"
      ]
     },
     "execution_count": 9,
     "metadata": {},
     "output_type": "execute_result"
    }
   ],
   "source": [
    "df.index"
   ]
  },
  {
   "cell_type": "code",
   "execution_count": 15,
   "id": "24367ce7-31a0-4260-bf60-2c8347504d5d",
   "metadata": {
    "collapsed": true,
    "jupyter": {
     "outputs_hidden": true
    }
   },
   "outputs": [
    {
     "data": {
      "text/html": [
       "<div>\n",
       "<style scoped>\n",
       "    .dataframe tbody tr th:only-of-type {\n",
       "        vertical-align: middle;\n",
       "    }\n",
       "\n",
       "    .dataframe tbody tr th {\n",
       "        vertical-align: top;\n",
       "    }\n",
       "\n",
       "    .dataframe thead th {\n",
       "        text-align: right;\n",
       "    }\n",
       "</style>\n",
       "<table border=\"1\" class=\"dataframe\">\n",
       "  <thead>\n",
       "    <tr style=\"text-align: right;\">\n",
       "      <th></th>\n",
       "      <th>userId</th>\n",
       "      <th>movieId</th>\n",
       "      <th>rating</th>\n",
       "      <th>timestamp</th>\n",
       "    </tr>\n",
       "    <tr>\n",
       "      <th>userId</th>\n",
       "      <th></th>\n",
       "      <th></th>\n",
       "      <th></th>\n",
       "      <th></th>\n",
       "    </tr>\n",
       "  </thead>\n",
       "  <tbody>\n",
       "    <tr>\n",
       "      <th>400</th>\n",
       "      <td>400</td>\n",
       "      <td>6</td>\n",
       "      <td>5.0</td>\n",
       "      <td>1498870480</td>\n",
       "    </tr>\n",
       "    <tr>\n",
       "      <th>400</th>\n",
       "      <td>400</td>\n",
       "      <td>47</td>\n",
       "      <td>5.0</td>\n",
       "      <td>1498870391</td>\n",
       "    </tr>\n",
       "    <tr>\n",
       "      <th>400</th>\n",
       "      <td>400</td>\n",
       "      <td>50</td>\n",
       "      <td>5.0</td>\n",
       "      <td>1498870285</td>\n",
       "    </tr>\n",
       "    <tr>\n",
       "      <th>400</th>\n",
       "      <td>400</td>\n",
       "      <td>260</td>\n",
       "      <td>5.0</td>\n",
       "      <td>1498870148</td>\n",
       "    </tr>\n",
       "    <tr>\n",
       "      <th>400</th>\n",
       "      <td>400</td>\n",
       "      <td>293</td>\n",
       "      <td>5.0</td>\n",
       "      <td>1498870424</td>\n",
       "    </tr>\n",
       "    <tr>\n",
       "      <th>400</th>\n",
       "      <td>400</td>\n",
       "      <td>296</td>\n",
       "      <td>5.0</td>\n",
       "      <td>1498870341</td>\n",
       "    </tr>\n",
       "  </tbody>\n",
       "</table>\n",
       "</div>"
      ],
      "text/plain": [
       "        userId  movieId  rating   timestamp\n",
       "userId                                     \n",
       "400        400        6     5.0  1498870480\n",
       "400        400       47     5.0  1498870391\n",
       "400        400       50     5.0  1498870285\n",
       "400        400      260     5.0  1498870148\n",
       "400        400      293     5.0  1498870424\n",
       "400        400      296     5.0  1498870341"
      ]
     },
     "execution_count": 15,
     "metadata": {},
     "output_type": "execute_result"
    }
   ],
   "source": [
    "# 使用index查询方法，比条件查询简单\n",
    "df.loc[400].head(6)"
   ]
  },
  {
   "cell_type": "markdown",
   "id": "4c60e7c3-e6f0-4c2b-a9d2-faba4fd36da5",
   "metadata": {},
   "source": [
    "### ---------------------------------------------"
   ]
  },
  {
   "cell_type": "markdown",
   "id": "31057804-b96d-4093-8822-963b953e2340",
   "metadata": {},
   "source": [
    "### 2.使用index会提升查询性能"
   ]
  },
  {
   "cell_type": "code",
   "execution_count": 17,
   "id": "770323ec-31e1-470e-9b8e-c0960bbe800a",
   "metadata": {},
   "outputs": [],
   "source": [
    "# 将数据随即打散\n",
    "from sklearn.utils import shuffle\n",
    "df_shuffle = shuffle(df)"
   ]
  },
  {
   "cell_type": "code",
   "execution_count": 18,
   "id": "3f1fc035-8c61-4444-9ce6-d0e32ae5660c",
   "metadata": {},
   "outputs": [
    {
     "data": {
      "text/html": [
       "<div>\n",
       "<style scoped>\n",
       "    .dataframe tbody tr th:only-of-type {\n",
       "        vertical-align: middle;\n",
       "    }\n",
       "\n",
       "    .dataframe tbody tr th {\n",
       "        vertical-align: top;\n",
       "    }\n",
       "\n",
       "    .dataframe thead th {\n",
       "        text-align: right;\n",
       "    }\n",
       "</style>\n",
       "<table border=\"1\" class=\"dataframe\">\n",
       "  <thead>\n",
       "    <tr style=\"text-align: right;\">\n",
       "      <th></th>\n",
       "      <th>userId</th>\n",
       "      <th>movieId</th>\n",
       "      <th>rating</th>\n",
       "      <th>timestamp</th>\n",
       "    </tr>\n",
       "    <tr>\n",
       "      <th>userId</th>\n",
       "      <th></th>\n",
       "      <th></th>\n",
       "      <th></th>\n",
       "      <th></th>\n",
       "    </tr>\n",
       "  </thead>\n",
       "  <tbody>\n",
       "    <tr>\n",
       "      <th>590</th>\n",
       "      <td>590</td>\n",
       "      <td>58998</td>\n",
       "      <td>3.0</td>\n",
       "      <td>1258417421</td>\n",
       "    </tr>\n",
       "    <tr>\n",
       "      <th>582</th>\n",
       "      <td>582</td>\n",
       "      <td>134130</td>\n",
       "      <td>4.0</td>\n",
       "      <td>1446792676</td>\n",
       "    </tr>\n",
       "    <tr>\n",
       "      <th>380</th>\n",
       "      <td>380</td>\n",
       "      <td>104</td>\n",
       "      <td>3.0</td>\n",
       "      <td>1493420135</td>\n",
       "    </tr>\n",
       "    <tr>\n",
       "      <th>434</th>\n",
       "      <td>434</td>\n",
       "      <td>1208</td>\n",
       "      <td>3.5</td>\n",
       "      <td>1271039077</td>\n",
       "    </tr>\n",
       "    <tr>\n",
       "      <th>468</th>\n",
       "      <td>468</td>\n",
       "      <td>434</td>\n",
       "      <td>3.0</td>\n",
       "      <td>831400464</td>\n",
       "    </tr>\n",
       "    <tr>\n",
       "      <th>448</th>\n",
       "      <td>448</td>\n",
       "      <td>3471</td>\n",
       "      <td>4.0</td>\n",
       "      <td>1019132949</td>\n",
       "    </tr>\n",
       "    <tr>\n",
       "      <th>561</th>\n",
       "      <td>561</td>\n",
       "      <td>2422</td>\n",
       "      <td>2.5</td>\n",
       "      <td>1491094498</td>\n",
       "    </tr>\n",
       "    <tr>\n",
       "      <th>417</th>\n",
       "      <td>417</td>\n",
       "      <td>109487</td>\n",
       "      <td>3.5</td>\n",
       "      <td>1532133590</td>\n",
       "    </tr>\n",
       "    <tr>\n",
       "      <th>325</th>\n",
       "      <td>325</td>\n",
       "      <td>2511</td>\n",
       "      <td>4.0</td>\n",
       "      <td>1039399025</td>\n",
       "    </tr>\n",
       "    <tr>\n",
       "      <th>414</th>\n",
       "      <td>414</td>\n",
       "      <td>3178</td>\n",
       "      <td>4.0</td>\n",
       "      <td>963840620</td>\n",
       "    </tr>\n",
       "  </tbody>\n",
       "</table>\n",
       "</div>"
      ],
      "text/plain": [
       "        userId  movieId  rating   timestamp\n",
       "userId                                     \n",
       "590        590    58998     3.0  1258417421\n",
       "582        582   134130     4.0  1446792676\n",
       "380        380      104     3.0  1493420135\n",
       "434        434     1208     3.5  1271039077\n",
       "468        468      434     3.0   831400464\n",
       "448        448     3471     4.0  1019132949\n",
       "561        561     2422     2.5  1491094498\n",
       "417        417   109487     3.5  1532133590\n",
       "325        325     2511     4.0  1039399025\n",
       "414        414     3178     4.0   963840620"
      ]
     },
     "execution_count": 18,
     "metadata": {},
     "output_type": "execute_result"
    }
   ],
   "source": [
    "df_shuffle.head(10)"
   ]
  },
  {
   "cell_type": "code",
   "execution_count": 23,
   "id": "498c2c46-b347-416b-bee0-54ea92b5180b",
   "metadata": {},
   "outputs": [
    {
     "data": {
      "text/plain": [
       "False"
      ]
     },
     "execution_count": 23,
     "metadata": {},
     "output_type": "execute_result"
    }
   ],
   "source": [
    "# 索引是否递增(递减)\n",
    "df_shuffle.index.is_monotonic_increasing\n",
    "#df_shuffle.index.is_monotonic_decreasing"
   ]
  },
  {
   "cell_type": "code",
   "execution_count": 25,
   "id": "5d27d01d-c130-416e-88a0-fd713f32b533",
   "metadata": {},
   "outputs": [
    {
     "data": {
      "text/plain": [
       "False"
      ]
     },
     "execution_count": 25,
     "metadata": {},
     "output_type": "execute_result"
    }
   ],
   "source": [
    "df_shuffle.index.is_unique"
   ]
  },
  {
   "cell_type": "code",
   "execution_count": 28,
   "id": "7c0154c1-775d-43e5-b3e9-178273b4f22e",
   "metadata": {},
   "outputs": [
    {
     "name": "stdout",
     "output_type": "stream",
     "text": [
      "113 μs ± 939 ns per loop (mean ± std. dev. of 7 runs, 10,000 loops each)\n"
     ]
    }
   ],
   "source": [
    "# 计时查询时间\n",
    "%timeit df_shuffle.loc[500]"
   ]
  },
  {
   "cell_type": "markdown",
   "id": "2c98fd10-ab2b-487c-beae-2b5414931450",
   "metadata": {},
   "source": [
    "### ---------------------------------------------------------"
   ]
  },
  {
   "cell_type": "code",
   "execution_count": 29,
   "id": "e307f281-0cff-4748-a1b8-062d3f6e5fc2",
   "metadata": {},
   "outputs": [],
   "source": [
    "# 将index排序后查询\n",
    "df_sorted = df_shuffle.sort_index()"
   ]
  },
  {
   "cell_type": "code",
   "execution_count": 30,
   "id": "d645b196-ef99-4f45-9731-eb09aab7d4c4",
   "metadata": {},
   "outputs": [
    {
     "data": {
      "text/html": [
       "<div>\n",
       "<style scoped>\n",
       "    .dataframe tbody tr th:only-of-type {\n",
       "        vertical-align: middle;\n",
       "    }\n",
       "\n",
       "    .dataframe tbody tr th {\n",
       "        vertical-align: top;\n",
       "    }\n",
       "\n",
       "    .dataframe thead th {\n",
       "        text-align: right;\n",
       "    }\n",
       "</style>\n",
       "<table border=\"1\" class=\"dataframe\">\n",
       "  <thead>\n",
       "    <tr style=\"text-align: right;\">\n",
       "      <th></th>\n",
       "      <th>userId</th>\n",
       "      <th>movieId</th>\n",
       "      <th>rating</th>\n",
       "      <th>timestamp</th>\n",
       "    </tr>\n",
       "    <tr>\n",
       "      <th>userId</th>\n",
       "      <th></th>\n",
       "      <th></th>\n",
       "      <th></th>\n",
       "      <th></th>\n",
       "    </tr>\n",
       "  </thead>\n",
       "  <tbody>\n",
       "    <tr>\n",
       "      <th>1</th>\n",
       "      <td>1</td>\n",
       "      <td>2858</td>\n",
       "      <td>5.0</td>\n",
       "      <td>964980868</td>\n",
       "    </tr>\n",
       "    <tr>\n",
       "      <th>1</th>\n",
       "      <td>1</td>\n",
       "      <td>1025</td>\n",
       "      <td>5.0</td>\n",
       "      <td>964982791</td>\n",
       "    </tr>\n",
       "    <tr>\n",
       "      <th>1</th>\n",
       "      <td>1</td>\n",
       "      <td>804</td>\n",
       "      <td>4.0</td>\n",
       "      <td>964980499</td>\n",
       "    </tr>\n",
       "    <tr>\n",
       "      <th>1</th>\n",
       "      <td>1</td>\n",
       "      <td>1291</td>\n",
       "      <td>5.0</td>\n",
       "      <td>964981909</td>\n",
       "    </tr>\n",
       "    <tr>\n",
       "      <th>1</th>\n",
       "      <td>1</td>\n",
       "      <td>2353</td>\n",
       "      <td>5.0</td>\n",
       "      <td>964983861</td>\n",
       "    </tr>\n",
       "  </tbody>\n",
       "</table>\n",
       "</div>"
      ],
      "text/plain": [
       "        userId  movieId  rating  timestamp\n",
       "userId                                    \n",
       "1            1     2858     5.0  964980868\n",
       "1            1     1025     5.0  964982791\n",
       "1            1      804     4.0  964980499\n",
       "1            1     1291     5.0  964981909\n",
       "1            1     2353     5.0  964983861"
      ]
     },
     "execution_count": 30,
     "metadata": {},
     "output_type": "execute_result"
    }
   ],
   "source": [
    "df_sorted.head()"
   ]
  },
  {
   "cell_type": "code",
   "execution_count": 31,
   "id": "1205c80f-aa23-405a-ab2b-a87dd8ceb366",
   "metadata": {},
   "outputs": [
    {
     "data": {
      "text/plain": [
       "True"
      ]
     },
     "execution_count": 31,
     "metadata": {},
     "output_type": "execute_result"
    }
   ],
   "source": [
    "# 索引是否单增\n",
    "df_sorted.index.is_monotonic_increasing"
   ]
  },
  {
   "cell_type": "code",
   "execution_count": 33,
   "id": "6530a9ec-6a04-4770-84cd-8c5d53c19ef5",
   "metadata": {},
   "outputs": [
    {
     "data": {
      "text/plain": [
       "False"
      ]
     },
     "execution_count": 33,
     "metadata": {},
     "output_type": "execute_result"
    }
   ],
   "source": [
    "df_sorted.index.is_unique"
   ]
  },
  {
   "cell_type": "code",
   "execution_count": 35,
   "id": "d7229f4e-3716-4032-b1a1-59e0ab01eec3",
   "metadata": {},
   "outputs": [
    {
     "name": "stdout",
     "output_type": "stream",
     "text": [
      "30.8 μs ± 87 ns per loop (mean ± std. dev. of 7 runs, 10,000 loops each)\n"
     ]
    }
   ],
   "source": [
    "# 性能明显提高\n",
    "%timeit df_sorted.loc[500]"
   ]
  },
  {
   "cell_type": "markdown",
   "id": "f454b228-36f3-42ef-a510-c0df2fbc4b88",
   "metadata": {},
   "source": [
    "### --------------------------------------------------------"
   ]
  },
  {
   "cell_type": "markdown",
   "id": "34cfbe74-75c3-4514-a917-354cfcfa13d4",
   "metadata": {},
   "source": [
    "### 3.自动对齐功能"
   ]
  },
  {
   "cell_type": "code",
   "execution_count": 39,
   "id": "0dfae9cd-bd6a-4ed5-8cdd-a34a2dba932a",
   "metadata": {},
   "outputs": [],
   "source": [
    "s1 = pd.Series([2,4,8], index=['a','b','c'])"
   ]
  },
  {
   "cell_type": "code",
   "execution_count": 40,
   "id": "f5d0e93d-6a74-4e4e-b0f2-7c43fecc285c",
   "metadata": {},
   "outputs": [
    {
     "data": {
      "text/plain": [
       "a    2\n",
       "b    4\n",
       "c    8\n",
       "dtype: int64"
      ]
     },
     "execution_count": 40,
     "metadata": {},
     "output_type": "execute_result"
    }
   ],
   "source": [
    "s1"
   ]
  },
  {
   "cell_type": "code",
   "execution_count": 41,
   "id": "9d57adcc-4de0-496f-9c48-9850be025604",
   "metadata": {},
   "outputs": [],
   "source": [
    "s2 = pd.Series([3,6,9], index=['b','c','d'])"
   ]
  },
  {
   "cell_type": "code",
   "execution_count": 42,
   "id": "e36925bb-c8fd-49b0-bff1-ef51759b62e7",
   "metadata": {},
   "outputs": [
    {
     "data": {
      "text/plain": [
       "b    3\n",
       "c    6\n",
       "d    9\n",
       "dtype: int64"
      ]
     },
     "execution_count": 42,
     "metadata": {},
     "output_type": "execute_result"
    }
   ],
   "source": [
    "s2"
   ]
  },
  {
   "cell_type": "code",
   "execution_count": 43,
   "id": "869fd440-949f-40dd-b0eb-77fa31de2972",
   "metadata": {},
   "outputs": [
    {
     "data": {
      "text/plain": [
       "a     NaN\n",
       "b     7.0\n",
       "c    14.0\n",
       "d     NaN\n",
       "dtype: float64"
      ]
     },
     "execution_count": 43,
     "metadata": {},
     "output_type": "execute_result"
    }
   ],
   "source": [
    "s1+s2"
   ]
  },
  {
   "cell_type": "markdown",
   "id": "e6de9825-d448-4369-a008-4ef570e29f1e",
   "metadata": {},
   "source": [
    "###   ------------------------------------------------------------"
   ]
  },
  {
   "cell_type": "markdown",
   "id": "39b799bd-4d1f-41ee-b441-72ee4455bf03",
   "metadata": {},
   "source": [
    "### 4.使用index有更多更强大的数据结构支持"
   ]
  },
  {
   "cell_type": "code",
   "execution_count": null,
   "id": "605e7180-3ee4-4298-8fec-e5f371df7ba8",
   "metadata": {},
   "outputs": [],
   "source": []
  }
 ],
 "metadata": {
  "kernelspec": {
   "display_name": "Python 3 (ipykernel)",
   "language": "python",
   "name": "python3"
  },
  "language_info": {
   "codemirror_mode": {
    "name": "ipython",
    "version": 3
   },
   "file_extension": ".py",
   "mimetype": "text/x-python",
   "name": "python",
   "nbconvert_exporter": "python",
   "pygments_lexer": "ipython3",
   "version": "3.12.7"
  }
 },
 "nbformat": 4,
 "nbformat_minor": 5
}
